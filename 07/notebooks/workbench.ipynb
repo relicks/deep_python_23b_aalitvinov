{
 "cells": [
  {
   "cell_type": "code",
   "execution_count": 1,
   "metadata": {},
   "outputs": [],
   "source": [
    "import asyncio\n",
    "import itertools\n",
    "from collections.abc import Iterator\n",
    "from typing import Any\n",
    "\n",
    "import aiohttp"
   ]
  },
  {
   "cell_type": "code",
   "execution_count": 36,
   "metadata": {},
   "outputs": [],
   "source": [
    "from unittest.mock import patch, MagicMock, AsyncMock\n",
    "\n",
    "mock = MagicMock()\n",
    "mock.__aiter__.return_value = [1, 2, 3]"
   ]
  },
  {
   "cell_type": "code",
   "execution_count": 37,
   "metadata": {},
   "outputs": [
    {
     "name": "stdout",
     "output_type": "stream",
     "text": [
      "1\n",
      "2\n",
      "3\n"
     ]
    }
   ],
   "source": [
    "async for i in mock:\n",
    "    print(i)"
   ]
  },
  {
   "cell_type": "code",
   "execution_count": 56,
   "metadata": {},
   "outputs": [
    {
     "data": {
      "text/plain": [
       "112"
      ]
     },
     "execution_count": 56,
     "metadata": {},
     "output_type": "execute_result"
    }
   ],
   "source": [
    "with open(\"./urls.txt\", encoding=\"utf-8\") as filestream:\n",
    "    urls = filestream.read().rstrip(\"\\n\").split(\"\\n\")\n",
    "\n",
    "len(urls)"
   ]
  },
  {
   "cell_type": "code",
   "execution_count": 71,
   "metadata": {},
   "outputs": [
    {
     "name": "stdout",
     "output_type": "stream",
     "text": [
      "https://docs.python.org/3/whatsnew/3.11.html\n",
      "https://docs.python.org/3/library/http.client.html\n",
      "https://docs.python.org/3/library/urllib.request.html\n",
      "https://artifacthub.io/\n",
      "https://github.com/rsennrich/subword-nmt\n",
      "https://lightning.ai/docs/pytorch/stable/notebooks/course_UvA-DL/05-transformers-and-MH-attention.html\n",
      "https://github.com/gruns/icecream\n",
      "https://pytorch.org/docs/stable/generated/torch.nn.LSTM.html\n",
      "https://pytorch.org/docs/stable/generated/torch.nn.Softmax.html\n",
      "https://containerd.io/\n"
     ]
    }
   ],
   "source": [
    "with open(\"./urls.txt\", encoding=\"utf-8\") as filestream:\n",
    "    try:\n",
    "        iter_file = iter(filestream)\n",
    "        for _ in range(10):\n",
    "            print(next(iter_file).rstrip(\"\\n\"))\n",
    "    except StopIteration:\n",
    "        print(\"done\")"
   ]
  },
  {
   "cell_type": "code",
   "execution_count": 63,
   "metadata": {},
   "outputs": [
    {
     "data": {
      "text/plain": [
       "['https://docs.python.org/3/whatsnew/3.11.html',\n",
       " 'https://docs.python.org/3/library/http.client.html',\n",
       " 'https://docs.python.org/3/library/urllib.request.html',\n",
       " 'https://artifacthub.io/',\n",
       " 'https://github.com/rsennrich/subword-nmt',\n",
       " 'https://lightning.ai/docs/pytorch/stable/notebooks/course_UvA-DL/05-transformers-and-MH-attention.html',\n",
       " 'https://github.com/gruns/icecream',\n",
       " 'https://pytorch.org/docs/stable/generated/torch.nn.LSTM.html',\n",
       " 'https://pytorch.org/docs/stable/generated/torch.nn.Softmax.html']"
      ]
     },
     "execution_count": 63,
     "metadata": {},
     "output_type": "execute_result"
    }
   ],
   "source": [
    "urls[:9]"
   ]
  },
  {
   "cell_type": "code",
   "execution_count": 64,
   "metadata": {},
   "outputs": [],
   "source": [
    "URL = \"https://docs.python.org/3/whatsnew/3.11.html\"\n",
    "URLS = [URL] * 20\n",
    "\n",
    "\n",
    "async def fetch_url(url):\n",
    "    async with aiohttp.ClientSession() as session:\n",
    "        async with session.get(url) as resp:\n",
    "            return resp.status\n",
    "\n",
    "\n",
    "async def batch_fetch(urls):\n",
    "    tasks = [asyncio.create_task(fetch_url(url)) for url in urls]\n",
    "    await asyncio.gather(*tasks)"
   ]
  },
  {
   "cell_type": "code",
   "execution_count": 66,
   "metadata": {},
   "outputs": [],
   "source": [
    "await batch_fetch(urls[:10])\n",
    "await batch_fetch(urls[11:22])"
   ]
  },
  {
   "cell_type": "code",
   "execution_count": 61,
   "metadata": {},
   "outputs": [],
   "source": [
    "URL = \"https://docs.python.org/3/whatsnew/3.11.html\"\n",
    "URLS = [URL] * 20\n",
    "\n",
    "sem = asyncio.Semaphore(20)\n",
    "\n",
    "\n",
    "async def fetch_url(url, sem):\n",
    "    async with aiohttp.ClientSession() as session:\n",
    "        async with sem:\n",
    "            async with session.get(url) as resp:\n",
    "                return resp.status\n",
    "\n",
    "\n",
    "async def batch_fetch(urls, sem):\n",
    "    tasks = [fetch_url(url, sem) for url in urls]\n",
    "    await asyncio.gather(*tasks)"
   ]
  },
  {
   "cell_type": "code",
   "execution_count": 62,
   "metadata": {},
   "outputs": [],
   "source": [
    "await batch_fetch(urls, sem)"
   ]
  },
  {
   "cell_type": "code",
   "execution_count": 47,
   "metadata": {},
   "outputs": [
    {
     "name": "stdout",
     "output_type": "stream",
     "text": [
      "<ClientResponse(https://docs.python.org/3/whatsnew/3.11.html) [200 OK]>\n",
      "<CIMultiDictProxy('Connection': 'keep-alive', 'Content-Length': '54906', 'Server': 'nginx', 'Content-Type': 'text/html', 'Last-Modified': 'Thu, 09 Nov 2023 10:11:20 GMT', 'Etag': '\"654cb048-5493b\"', 'x-clacks-overhead': 'GNU Terry Pratchett', 'strict-transport-security': 'max-age=315360000; includeSubDomains; preload', 'Content-Encoding': 'gzip', 'Via': '1.1 varnish, 1.1 varnish', 'Accept-Ranges': 'bytes', 'Date': 'Thu, 09 Nov 2023 13:50:16 GMT', 'Age': '13083', 'X-Served-By': 'cache-lga21964-LGA, cache-fra-etou8220103-FRA', 'X-Cache': 'HIT, HIT', 'X-Cache-Hits': '1, 1', 'X-Timer': 'S1699537817.954127,VS0,VE1', 'Vary': 'Accept-Encoding')>\n",
      "\n"
     ]
    }
   ],
   "source": [
    "async with aiohttp.ClientSession() as session:\n",
    "    async with session.get(URL) as resp:\n",
    "        body = await resp.read()\n",
    "        print(resp)"
   ]
  },
  {
   "cell_type": "code",
   "execution_count": null,
   "metadata": {},
   "outputs": [],
   "source": [
    "body"
   ]
  },
  {
   "cell_type": "code",
   "execution_count": 23,
   "metadata": {},
   "outputs": [
    {
     "data": {
      "text/plain": [
       "_StoreAction(option_strings=[], dest='file', nargs=None, const=None, default=None, type=<function open at 0x7f1d5ce3f490>, choices=None, required=True, help=None, metavar=None)"
      ]
     },
     "execution_count": 23,
     "metadata": {},
     "output_type": "execute_result"
    }
   ],
   "source": [
    "import argparse\n",
    "\n",
    "\n",
    "parser = argparse.ArgumentParser(prog=\"Скрипт для асинхронной обкачки урлов\")\n",
    "parser.add_argument(\"-c\", \"--connections\", type=int, default=10)\n",
    "parser.add_argument(\"file\", type=open)"
   ]
  },
  {
   "cell_type": "code",
   "execution_count": 25,
   "metadata": {},
   "outputs": [
    {
     "data": {
      "text/plain": [
       "Namespace(connections=15, file=<_io.TextIOWrapper name='urls.txt' mode='r' encoding='UTF-8'>)"
      ]
     },
     "execution_count": 25,
     "metadata": {},
     "output_type": "execute_result"
    }
   ],
   "source": [
    "args = parser.parse_args(\"-c 15 urls.txt\".split())\n",
    "args"
   ]
  }
 ],
 "metadata": {
  "kernelspec": {
   "display_name": ".venv",
   "language": "python",
   "name": "python3"
  },
  "language_info": {
   "codemirror_mode": {
    "name": "ipython",
    "version": 3
   },
   "file_extension": ".py",
   "mimetype": "text/x-python",
   "name": "python",
   "nbconvert_exporter": "python",
   "pygments_lexer": "ipython3",
   "version": "3.10.12"
  }
 },
 "nbformat": 4,
 "nbformat_minor": 2
}
