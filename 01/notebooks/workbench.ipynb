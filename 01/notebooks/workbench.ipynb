{
 "cells": [
  {
   "cell_type": "markdown",
   "metadata": {},
   "source": [
    "# Tests playground"
   ]
  },
  {
   "cell_type": "code",
   "execution_count": 1,
   "metadata": {},
   "outputs": [],
   "source": [
    "%load_ext autoreload\n",
    "%autoreload 2"
   ]
  },
  {
   "cell_type": "markdown",
   "metadata": {},
   "source": [
    "## 2. Testing `read_generator`"
   ]
  },
  {
   "cell_type": "code",
   "execution_count": 4,
   "metadata": {},
   "outputs": [],
   "source": [
    "import pathlib\n",
    "from src.read_generator import grepfile, grepiter"
   ]
  },
  {
   "cell_type": "code",
   "execution_count": 7,
   "metadata": {},
   "outputs": [],
   "source": [
    "empty_file = pathlib.Path(\"./tests/data/empty.txt\")\n",
    "file = pathlib.Path(\"./tests/data/calabaria.txt\")"
   ]
  },
  {
   "cell_type": "code",
   "execution_count": 8,
   "metadata": {},
   "outputs": [
    {
     "name": "stdout",
     "output_type": "stream",
     "text": [
      "Эта змея приспособлена к роющему образу жизни что выражается в строении\n",
      "Окраска калабарии невзрачна\n"
     ]
    }
   ],
   "source": [
    "with open(file, encoding=\"utf-8\") as file_stream:\n",
    "    word_iter = grepfile(file_stream, [\"ОКРАСКА\", \"Змея\"])\n",
    "    for elem in word_iter:\n",
    "        print(elem)"
   ]
  },
  {
   "cell_type": "code",
   "execution_count": 6,
   "metadata": {},
   "outputs": [],
   "source": [
    "gf = grepfile(file, [\"ОКРАСКА\", \"Змея\"])"
   ]
  },
  {
   "cell_type": "code",
   "execution_count": 7,
   "metadata": {},
   "outputs": [
    {
     "name": "stdout",
     "output_type": "stream",
     "text": [
      "Окраска калабарии невзрачна\n"
     ]
    }
   ],
   "source": [
    "for elem in grepfile(file, [\"ОКРАСКА\"]):\n",
    "    print(elem)"
   ]
  },
  {
   "cell_type": "code",
   "execution_count": 17,
   "metadata": {},
   "outputs": [],
   "source": [
    "in_text = [\n",
    "    \"   In the simplest terms, a test is meant to look at the \",\n",
    "    \"result of a particular behavior, and make sure that result \",\n",
    "    \"aligns with what you would expect. Behavior is not \",\n",
    "    \"something that can be empirically measured, which is\",\n",
    "    \"why writing tests can be challenging.\",\n",
    "]\n",
    "in_text_small = [\"aa\"]\n",
    "in_text_small2 = [\"aa\", \"bb\"]"
   ]
  },
  {
   "cell_type": "code",
   "execution_count": 27,
   "metadata": {},
   "outputs": [
    {
     "data": {
      "text/plain": [
       "['   In the simplest terms, a test is meant to look at the ']"
      ]
     },
     "execution_count": 27,
     "metadata": {},
     "output_type": "execute_result"
    }
   ],
   "source": [
    "list(grepiter(in_text, [\"the\", \"test\"]))"
   ]
  }
 ],
 "metadata": {
  "kernelspec": {
   "display_name": ".venv",
   "language": "python",
   "name": "python3"
  },
  "language_info": {
   "codemirror_mode": {
    "name": "ipython",
    "version": 3
   },
   "file_extension": ".py",
   "mimetype": "text/x-python",
   "name": "python",
   "nbconvert_exporter": "python",
   "pygments_lexer": "ipython3",
   "version": "3.11.5"
  },
  "orig_nbformat": 4
 },
 "nbformat": 4,
 "nbformat_minor": 2
}
