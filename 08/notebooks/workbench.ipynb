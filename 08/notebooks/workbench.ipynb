{
 "cells": [
  {
   "cell_type": "code",
   "execution_count": 2,
   "metadata": {},
   "outputs": [],
   "source": [
    "# flake8: noqa: E402, B018, F401\n",
    "%load_ext autoreload\n",
    "%autoreload 2"
   ]
  },
  {
   "cell_type": "code",
   "execution_count": 12,
   "metadata": {},
   "outputs": [],
   "source": [
    "import cProfile\n",
    "import pstats\n",
    "\n",
    "from icecream import ic\n",
    "from memory_profiler import profile\n",
    "\n",
    "from classes import (\n",
    "    Regular,\n",
    "    Slotted,\n",
    "    Weak,\n",
    "    attr_reader,\n",
    "    attr_writer,\n",
    "    bench,\n",
    "    invoker,\n",
    "    profile_deco,\n",
    ")\n",
    "\n",
    "N_RUNS = 10\n",
    "N_LOOPS = 100_000\n",
    "\n",
    "profiled_invoker = profile(invoker)"
   ]
  },
  {
   "cell_type": "code",
   "execution_count": 4,
   "metadata": {},
   "outputs": [
    {
     "name": "stdout",
     "output_type": "stream",
     "text": [
      "Filename: /home/ari/workdir/deep_python_23b_aalitvinov/08/classes.py\n",
      "\n",
      "Line #    Mem usage    Increment  Occurrences   Line Contents\n",
      "=============================================================\n",
      "    31     67.0 MiB     67.0 MiB           1   def invoker(cls: type) -> Any:\n",
      "    32     67.0 MiB      0.0 MiB           1       return cls({rng.random()}, {rng.random()})\n",
      "\n",
      "\n"
     ]
    },
    {
     "data": {
      "text/plain": [
       "<classes.Weak at 0x7f1e0eea7cd0>"
      ]
     },
     "execution_count": 4,
     "metadata": {},
     "output_type": "execute_result"
    }
   ],
   "source": [
    "profiled_invoker(Weak)"
   ]
  },
  {
   "cell_type": "code",
   "execution_count": 5,
   "metadata": {},
   "outputs": [
    {
     "name": "stdout",
     "output_type": "stream",
     "text": [
      "\u001b[1m862 ns ± 165.9 ns\u001b[0m per loop (mean ± std. dev. of 10 runs, 100000 loops each)\n",
      "best time \u001b[1m\u001b[32m622\u001b[39m ns\n",
      "\u001b[1m518 ns ± 95.0 ns\u001b[0m per loop (mean ± std. dev. of 10 runs, 100000 loops each)\n",
      "best time \u001b[1m\u001b[32m430\u001b[39m ns\n",
      "\u001b[1m713 ns ± 51.8 ns\u001b[0m per loop (mean ± std. dev. of 10 runs, 100000 loops each)\n",
      "best time \u001b[1m\u001b[32m665\u001b[39m ns\n"
     ]
    },
    {
     "data": {
      "text/plain": [
       "{'mean': 713, 'stdev': 51.8, 'min': 665}"
      ]
     },
     "execution_count": 5,
     "metadata": {},
     "output_type": "execute_result"
    }
   ],
   "source": [
    "bench(lambda: invoker(Regular), n_runs=N_RUNS, n_loops=N_LOOPS)\n",
    "bench(lambda: invoker(Slotted), n_runs=N_RUNS, n_loops=N_LOOPS)\n",
    "bench(lambda: invoker(Weak), n_runs=N_RUNS, n_loops=N_LOOPS)"
   ]
  },
  {
   "cell_type": "code",
   "execution_count": 6,
   "metadata": {},
   "outputs": [
    {
     "name": "stdout",
     "output_type": "stream",
     "text": [
      "\u001b[1m793 ns ± 100.1 ns\u001b[0m per loop (mean ± std. dev. of 10 runs, 100000 loops each)\n",
      "best time \u001b[1m\u001b[32m611\u001b[39m ns\n",
      "\u001b[1m902 ns ± 126.7 ns\u001b[0m per loop (mean ± std. dev. of 10 runs, 100000 loops each)\n",
      "best time \u001b[1m\u001b[32m697\u001b[39m ns\n",
      "\u001b[1m936 ns ± 148.6 ns\u001b[0m per loop (mean ± std. dev. of 10 runs, 100000 loops each)\n",
      "best time \u001b[1m\u001b[32m767\u001b[39m ns\n"
     ]
    },
    {
     "data": {
      "text/plain": [
       "{'mean': 936, 'stdev': 148.6, 'min': 767}"
      ]
     },
     "execution_count": 6,
     "metadata": {},
     "output_type": "execute_result"
    }
   ],
   "source": [
    "bench(lambda: attr_reader(Regular), n_runs=N_RUNS, n_loops=N_LOOPS)\n",
    "bench(lambda: attr_reader(Slotted), n_runs=N_RUNS, n_loops=N_LOOPS)\n",
    "bench(lambda: attr_reader(Weak), n_runs=N_RUNS, n_loops=N_LOOPS)"
   ]
  },
  {
   "cell_type": "code",
   "execution_count": 7,
   "metadata": {},
   "outputs": [
    {
     "name": "stdout",
     "output_type": "stream",
     "text": [
      "\u001b[1m990 ns ± 280.1 ns\u001b[0m per loop (mean ± std. dev. of 10 runs, 100000 loops each)\n",
      "best time \u001b[1m\u001b[32m799\u001b[39m ns\n",
      "\u001b[1m914 ns ± 147.2 ns\u001b[0m per loop (mean ± std. dev. of 10 runs, 100000 loops each)\n",
      "best time \u001b[1m\u001b[32m748\u001b[39m ns\n",
      "\u001b[1m986 ns ± 36.2 ns\u001b[0m per loop (mean ± std. dev. of 10 runs, 100000 loops each)\n",
      "best time \u001b[1m\u001b[32m946\u001b[39m ns\n"
     ]
    },
    {
     "data": {
      "text/plain": [
       "{'mean': 986, 'stdev': 36.2, 'min': 946}"
      ]
     },
     "execution_count": 7,
     "metadata": {},
     "output_type": "execute_result"
    }
   ],
   "source": [
    "bench(lambda: attr_writer(Regular), n_runs=N_RUNS, n_loops=N_LOOPS)\n",
    "bench(lambda: attr_writer(Slotted), n_runs=N_RUNS, n_loops=N_LOOPS)\n",
    "bench(lambda: attr_writer(Weak), n_runs=N_RUNS, n_loops=N_LOOPS)"
   ]
  },
  {
   "cell_type": "code",
   "execution_count": null,
   "metadata": {},
   "outputs": [],
   "source": [
    "with cProfile.Profile() as pr:\n",
    "    # func(*args, **kwargs)"
   ]
  },
  {
   "cell_type": "code",
   "execution_count": 9,
   "metadata": {},
   "outputs": [],
   "source": [
    "with cProfile.Profile() as pr:\n",
    "    invoker(Regular)"
   ]
  },
  {
   "cell_type": "code",
   "execution_count": 11,
   "metadata": {},
   "outputs": [
    {
     "name": "stdout",
     "output_type": "stream",
     "text": [
      "         6 function calls in 0.000 seconds\n",
      "\n",
      "   Ordered by: standard name\n",
      "\n",
      "   ncalls  tottime  percall  cumtime  percall filename:lineno(function)\n",
      "        1    0.000    0.000    0.000    0.000 cProfile.py:118(__exit__)\n",
      "        1    0.000    0.000    0.000    0.000 classes.py:12(__init__)\n",
      "        1    0.000    0.000    0.000    0.000 classes.py:31(invoker)\n",
      "        1    0.000    0.000    0.000    0.000 {method 'disable' of '_lsprof.Profiler' objects}\n",
      "        2    0.000    0.000    0.000    0.000 {method 'random' of '_random.Random' objects}\n",
      "\n",
      "\n"
     ]
    }
   ],
   "source": [
    "pr.print_stats()"
   ]
  },
  {
   "cell_type": "code",
   "execution_count": 13,
   "metadata": {},
   "outputs": [
    {
     "name": "stdout",
     "output_type": "stream",
     "text": [
      "         4 function calls in 0.000 seconds\n",
      "\n",
      "   Ordered by: standard name\n",
      "\n",
      "   ncalls  tottime  percall  cumtime  percall filename:lineno(function)\n",
      "        2    0.000    0.000    0.000    0.000 3703119923.py:1(add)\n",
      "        2    0.000    0.000    0.000    0.000 {method 'disable' of '_lsprof.Profiler' objects}\n",
      "\n",
      "\n"
     ]
    }
   ],
   "source": [
    "@profile_deco\n",
    "def add(a, b):\n",
    "    return a + b\n",
    "\n",
    "\n",
    "add(1, 2)\n",
    "add(4, 5)\n",
    "add.print_stat()"
   ]
  }
 ],
 "metadata": {
  "kernelspec": {
   "display_name": ".venv",
   "language": "python",
   "name": "python3"
  },
  "language_info": {
   "codemirror_mode": {
    "name": "ipython",
    "version": 3
   },
   "file_extension": ".py",
   "mimetype": "text/x-python",
   "name": "python",
   "nbconvert_exporter": "python",
   "pygments_lexer": "ipython3",
   "version": "3.10.12"
  }
 },
 "nbformat": 4,
 "nbformat_minor": 2
}
