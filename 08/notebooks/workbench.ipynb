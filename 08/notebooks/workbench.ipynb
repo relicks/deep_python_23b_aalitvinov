{
 "cells": [
  {
   "cell_type": "code",
   "execution_count": 31,
   "metadata": {},
   "outputs": [
    {
     "name": "stdout",
     "output_type": "stream",
     "text": [
      "The autoreload extension is already loaded. To reload it, use:\n",
      "  %reload_ext autoreload\n",
      "The memory_profiler extension is already loaded. To reload it, use:\n",
      "  %reload_ext memory_profiler\n"
     ]
    }
   ],
   "source": [
    "# flake8: noqa: E402, B018, F401\n",
    "%load_ext autoreload\n",
    "%load_ext memory_profiler\n",
    "%autoreload 2"
   ]
  },
  {
   "cell_type": "code",
   "execution_count": 32,
   "metadata": {},
   "outputs": [],
   "source": [
    "import cProfile\n",
    "import pstats\n",
    "\n",
    "from icecream import ic\n",
    "from memory_profiler import profile\n",
    "\n",
    "from classes import (\n",
    "    Regular,\n",
    "    Slotted,\n",
    "    Weak,\n",
    "    attr_reader,\n",
    "    attr_writer,\n",
    "    bench,\n",
    "    invoker,\n",
    "    profile_deco,\n",
    ")\n",
    "\n",
    "N_RUNS = 10\n",
    "N_LOOPS = 1_000\n",
    "\n",
    "profiled_invoker = profile(invoker)"
   ]
  },
  {
   "cell_type": "code",
   "execution_count": 33,
   "metadata": {},
   "outputs": [
    {
     "name": "stdout",
     "output_type": "stream",
     "text": [
      "Filename: /home/ari/workdir/deep_python_23b_aalitvinov/08/classes.py\n",
      "\n",
      "Line #    Mem usage    Increment  Occurrences   Line Contents\n",
      "=============================================================\n",
      "    38     77.5 MiB     77.5 MiB           1   def invoker(cls: type) -> Any:\n",
      "    39     77.9 MiB      0.0 MiB           2       return cls(\n",
      "    40     77.9 MiB      0.4 MiB       20005           {rng.random() for _ in range(SET_LEN)}, {rng.random() for _ in range(SET_LEN)}\n",
      "    41                                             )\n",
      "\n",
      "\n"
     ]
    },
    {
     "data": {
      "text/plain": [
       "<classes.Weak at 0x7f28cc182f20>"
      ]
     },
     "execution_count": 33,
     "metadata": {},
     "output_type": "execute_result"
    }
   ],
   "source": [
    "profiled_invoker(Weak)"
   ]
  },
  {
   "cell_type": "code",
   "execution_count": 41,
   "metadata": {},
   "outputs": [
    {
     "name": "stdout",
     "output_type": "stream",
     "text": [
      "\n"
     ]
    },
    {
     "name": "stdout",
     "output_type": "stream",
     "text": [
      "Filename: /home/ari/workdir/deep_python_23b_aalitvinov/08/classes.py\n",
      "\n",
      "Line #    Mem usage    Increment  Occurrences   Line Contents\n",
      "=============================================================\n",
      "    50     78.9 MiB     78.9 MiB           1   def attr_writer(cls: type) -> None:\n",
      "    51     78.9 MiB      0.0 MiB           1       inst = invoker(cls)\n",
      "    52     78.9 MiB      0.0 MiB           1       inst.first = {rng.random()}\n",
      "    53     78.9 MiB      0.0 MiB           1       inst.second = {rng.random()}"
     ]
    }
   ],
   "source": [
    "%mprun -f attr_writer attr_writer(Weak)"
   ]
  },
  {
   "cell_type": "code",
   "execution_count": 42,
   "metadata": {},
   "outputs": [
    {
     "name": "stdout",
     "output_type": "stream",
     "text": [
      "\n"
     ]
    },
    {
     "name": "stdout",
     "output_type": "stream",
     "text": [
      "Filename: /home/ari/workdir/deep_python_23b_aalitvinov/08/classes.py\n",
      "\n",
      "Line #    Mem usage    Increment  Occurrences   Line Contents\n",
      "=============================================================\n",
      "    50     78.9 MiB     78.9 MiB           1   def attr_writer(cls: type) -> None:\n",
      "    51     78.9 MiB      0.0 MiB           1       inst = invoker(cls)\n",
      "    52     78.9 MiB      0.0 MiB           1       inst.first = {rng.random()}\n",
      "    53     78.9 MiB      0.0 MiB           1       inst.second = {rng.random()}"
     ]
    }
   ],
   "source": [
    "%mprun -f attr_writer attr_writer(Slotted)"
   ]
  },
  {
   "cell_type": "code",
   "execution_count": 14,
   "metadata": {},
   "outputs": [
    {
     "name": "stdout",
     "output_type": "stream",
     "text": [
      "\u001b[1m593 ns ± 151.9 ns\u001b[0m per loop (mean ± std. dev. of 10 runs, 100000 loops each)\n",
      "best time \u001b[1m\u001b[32m462\u001b[39m ns\n",
      "\u001b[1m470 ns ± 31.6 ns\u001b[0m per loop (mean ± std. dev. of 10 runs, 100000 loops each)\n",
      "best time \u001b[1m\u001b[32m440\u001b[39m ns\n",
      "\u001b[1m720 ns ± 45.1 ns\u001b[0m per loop (mean ± std. dev. of 10 runs, 100000 loops each)\n",
      "best time \u001b[1m\u001b[32m663\u001b[39m ns\n",
      "peak memory: 65.03 MiB, increment: 0.00 MiB\n"
     ]
    }
   ],
   "source": [
    "%%memit\n",
    "bench(lambda: invoker(Regular), n_runs=N_RUNS, n_loops=N_LOOPS)\n",
    "bench(lambda: invoker(Slotted), n_runs=N_RUNS, n_loops=N_LOOPS)\n",
    "bench(lambda: invoker(Weak), n_runs=N_RUNS, n_loops=N_LOOPS)"
   ]
  },
  {
   "cell_type": "code",
   "execution_count": 15,
   "metadata": {},
   "outputs": [
    {
     "name": "stdout",
     "output_type": "stream",
     "text": [
      "\u001b[1m648 ns ± 128.8 ns\u001b[0m per loop (mean ± std. dev. of 10 runs, 100000 loops each)\n",
      "best time \u001b[1m\u001b[32m539\u001b[39m ns\n",
      "\u001b[1m647 ns ± 200.3 ns\u001b[0m per loop (mean ± std. dev. of 10 runs, 100000 loops each)\n",
      "best time \u001b[1m\u001b[32m495\u001b[39m ns\n",
      "\u001b[1m850 ns ± 62.6 ns\u001b[0m per loop (mean ± std. dev. of 10 runs, 100000 loops each)\n",
      "best time \u001b[1m\u001b[32m772\u001b[39m ns\n",
      "peak memory: 65.05 MiB, increment: 0.00 MiB\n"
     ]
    }
   ],
   "source": [
    "%%memit\n",
    "bench(lambda: attr_reader(Regular), n_runs=N_RUNS, n_loops=N_LOOPS)\n",
    "bench(lambda: attr_reader(Slotted), n_runs=N_RUNS, n_loops=N_LOOPS)\n",
    "bench(lambda: attr_reader(Weak), n_runs=N_RUNS, n_loops=N_LOOPS)"
   ]
  },
  {
   "cell_type": "code",
   "execution_count": 16,
   "metadata": {},
   "outputs": [
    {
     "name": "stdout",
     "output_type": "stream",
     "text": [
      "\u001b[1m838 ns ± 41.8 ns\u001b[0m per loop (mean ± std. dev. of 10 runs, 100000 loops each)\n",
      "best time \u001b[1m\u001b[32m794\u001b[39m ns\n",
      "\u001b[1m786 ns ± 47.3 ns\u001b[0m per loop (mean ± std. dev. of 10 runs, 100000 loops each)\n",
      "best time \u001b[1m\u001b[32m735\u001b[39m ns\n",
      "\u001b[1m1191 ns ± 126.0 ns\u001b[0m per loop (mean ± std. dev. of 10 runs, 100000 loops each)\n",
      "best time \u001b[1m\u001b[32m1061\u001b[39m ns\n",
      "peak memory: 65.09 MiB, increment: 0.00 MiB\n"
     ]
    }
   ],
   "source": [
    "%%memit\n",
    "bench(lambda: attr_writer(Regular), n_runs=N_RUNS, n_loops=N_LOOPS)\n",
    "bench(lambda: attr_writer(Slotted), n_runs=N_RUNS, n_loops=N_LOOPS)\n",
    "bench(lambda: attr_writer(Weak), n_runs=N_RUNS, n_loops=N_LOOPS)"
   ]
  },
  {
   "cell_type": "code",
   "execution_count": 14,
   "metadata": {},
   "outputs": [],
   "source": [
    "with cProfile.Profile() as pr:\n",
    "    invoker(Regular)"
   ]
  },
  {
   "cell_type": "code",
   "execution_count": 15,
   "metadata": {},
   "outputs": [
    {
     "name": "stdout",
     "output_type": "stream",
     "text": [
      "         6 function calls in 0.000 seconds\n",
      "\n",
      "   Ordered by: standard name\n",
      "\n",
      "   ncalls  tottime  percall  cumtime  percall filename:lineno(function)\n",
      "        1    0.000    0.000    0.000    0.000 cProfile.py:118(__exit__)\n",
      "        1    0.000    0.000    0.000    0.000 classes.py:15(__init__)\n",
      "        1    0.000    0.000    0.000    0.000 classes.py:34(invoker)\n",
      "        1    0.000    0.000    0.000    0.000 {method 'disable' of '_lsprof.Profiler' objects}\n",
      "        2    0.000    0.000    0.000    0.000 {method 'random' of '_random.Random' objects}\n",
      "\n",
      "\n"
     ]
    }
   ],
   "source": [
    "pr.print_stats()"
   ]
  },
  {
   "cell_type": "code",
   "execution_count": 16,
   "metadata": {},
   "outputs": [
    {
     "name": "stdout",
     "output_type": "stream",
     "text": [
      "         4 function calls in 0.000 seconds\n",
      "\n",
      "   Ordered by: standard name\n",
      "\n",
      "   ncalls  tottime  percall  cumtime  percall filename:lineno(function)\n",
      "        2    0.000    0.000    0.000    0.000 3703119923.py:1(add)\n",
      "        2    0.000    0.000    0.000    0.000 {method 'disable' of '_lsprof.Profiler' objects}\n",
      "\n",
      "\n"
     ]
    }
   ],
   "source": [
    "@profile_deco\n",
    "def add(a, b):\n",
    "    return a + b\n",
    "\n",
    "\n",
    "add(1, 2)\n",
    "add(4, 5)\n",
    "add.print_stat()"
   ]
  }
 ],
 "metadata": {
  "kernelspec": {
   "display_name": ".venv",
   "language": "python",
   "name": "python3"
  },
  "language_info": {
   "codemirror_mode": {
    "name": "ipython",
    "version": 3
   },
   "file_extension": ".py",
   "mimetype": "text/x-python",
   "name": "python",
   "nbconvert_exporter": "python",
   "pygments_lexer": "ipython3",
   "version": "3.10.12"
  }
 },
 "nbformat": 4,
 "nbformat_minor": 2
}
