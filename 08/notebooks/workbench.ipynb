{
 "cells": [
  {
   "cell_type": "code",
   "execution_count": 1,
   "metadata": {},
   "outputs": [],
   "source": [
    "# flake8: noqa: E402, B018, F401\n",
    "%load_ext autoreload\n",
    "%autoreload 2"
   ]
  },
  {
   "cell_type": "code",
   "execution_count": 2,
   "metadata": {},
   "outputs": [],
   "source": [
    "import cProfile\n",
    "import pstats\n",
    "\n",
    "from icecream import ic\n",
    "\n",
    "from classes import Regular, Slotted, Weak, attr_reader, attr_writer, bench, invoker\n",
    "\n",
    "N_RUNS = 10\n",
    "N_LOOPS = 100_000"
   ]
  },
  {
   "cell_type": "code",
   "execution_count": 7,
   "metadata": {},
   "outputs": [
    {
     "name": "stdout",
     "output_type": "stream",
     "text": [
      "Filename: /home/ari/workdir/deep_python_23b_aalitvinov/08/classes.py\n",
      "\n",
      "Line #    Mem usage    Increment  Occurrences   Line Contents\n",
      "=============================================================\n",
      "    33     62.5 MiB     62.5 MiB           1   @profile\n",
      "    34                                         def invoker(cls: type) -> Any:\n",
      "    35     62.5 MiB      0.0 MiB           1       return cls({rng.random()}, {rng.random()})\n",
      "\n",
      "\n"
     ]
    },
    {
     "data": {
      "text/plain": [
       "<classes.Weak at 0x7f739088a590>"
      ]
     },
     "execution_count": 7,
     "metadata": {},
     "output_type": "execute_result"
    }
   ],
   "source": [
    "invoker(Weak)"
   ]
  },
  {
   "cell_type": "code",
   "execution_count": 44,
   "metadata": {},
   "outputs": [
    {
     "name": "stdout",
     "output_type": "stream",
     "text": [
      "\u001b[1m1811 ns ± 819.9 ns\u001b[0m per loop (mean ± std. dev. of 10 runs, 100000 loops each)\n",
      "best time \u001b[1m\u001b[32m1081\u001b[39m ns\n",
      "\u001b[1m1298 ns ± 266.9 ns\u001b[0m per loop (mean ± std. dev. of 10 runs, 100000 loops each)\n",
      "best time \u001b[1m\u001b[32m949\u001b[39m ns\n",
      "\u001b[1m1783 ns ± 266.0 ns\u001b[0m per loop (mean ± std. dev. of 10 runs, 100000 loops each)\n",
      "best time \u001b[1m\u001b[32m1506\u001b[39m ns\n"
     ]
    },
    {
     "data": {
      "text/plain": [
       "{'mean': 1783, 'stdev': 266.0, 'min': 1506}"
      ]
     },
     "execution_count": 44,
     "metadata": {},
     "output_type": "execute_result"
    }
   ],
   "source": [
    "bench(lambda: invoker(Regular), n_runs=N_RUNS, n_loops=N_LOOPS)\n",
    "bench(lambda: invoker(Slotted), n_runs=N_RUNS, n_loops=N_LOOPS)\n",
    "bench(lambda: invoker(Weak), n_runs=N_RUNS, n_loops=N_LOOPS)"
   ]
  },
  {
   "cell_type": "code",
   "execution_count": 45,
   "metadata": {},
   "outputs": [
    {
     "name": "stdout",
     "output_type": "stream",
     "text": [
      "\u001b[1m1805 ns ± 630.2 ns\u001b[0m per loop (mean ± std. dev. of 10 runs, 100000 loops each)\n",
      "best time \u001b[1m\u001b[32m1250\u001b[39m ns\n",
      "\u001b[1m2040 ns ± 421.4 ns\u001b[0m per loop (mean ± std. dev. of 10 runs, 100000 loops each)\n",
      "best time \u001b[1m\u001b[32m1329\u001b[39m ns\n",
      "\u001b[1m2483 ns ± 739.1 ns\u001b[0m per loop (mean ± std. dev. of 10 runs, 100000 loops each)\n",
      "best time \u001b[1m\u001b[32m1688\u001b[39m ns\n"
     ]
    },
    {
     "data": {
      "text/plain": [
       "{'mean': 2483, 'stdev': 739.1, 'min': 1688}"
      ]
     },
     "execution_count": 45,
     "metadata": {},
     "output_type": "execute_result"
    }
   ],
   "source": [
    "bench(lambda: attr_reader(Regular), n_runs=N_RUNS, n_loops=N_LOOPS)\n",
    "bench(lambda: attr_reader(Slotted), n_runs=N_RUNS, n_loops=N_LOOPS)\n",
    "bench(lambda: attr_reader(Weak), n_runs=N_RUNS, n_loops=N_LOOPS)"
   ]
  },
  {
   "cell_type": "code",
   "execution_count": 46,
   "metadata": {},
   "outputs": [
    {
     "name": "stdout",
     "output_type": "stream",
     "text": [
      "\u001b[1m3868 ns ± 507.7 ns\u001b[0m per loop (mean ± std. dev. of 10 runs, 100000 loops each)\n",
      "best time \u001b[1m\u001b[32m3145\u001b[39m ns\n",
      "\u001b[1m3392 ns ± 425.7 ns\u001b[0m per loop (mean ± std. dev. of 10 runs, 100000 loops each)\n",
      "best time \u001b[1m\u001b[32m2544\u001b[39m ns\n",
      "\u001b[1m3441 ns ± 1413.9 ns\u001b[0m per loop (mean ± std. dev. of 10 runs, 100000 loops each)\n",
      "best time \u001b[1m\u001b[32m1956\u001b[39m ns\n"
     ]
    },
    {
     "data": {
      "text/plain": [
       "{'mean': 3441, 'stdev': 1413.9, 'min': 1956}"
      ]
     },
     "execution_count": 46,
     "metadata": {},
     "output_type": "execute_result"
    }
   ],
   "source": [
    "bench(lambda: attr_writer(Regular), n_runs=N_RUNS, n_loops=N_LOOPS)\n",
    "bench(lambda: attr_writer(Slotted), n_runs=N_RUNS, n_loops=N_LOOPS)\n",
    "bench(lambda: attr_writer(Weak), n_runs=N_RUNS, n_loops=N_LOOPS)"
   ]
  },
  {
   "cell_type": "code",
   "execution_count": 64,
   "metadata": {},
   "outputs": [
    {
     "name": "stdout",
     "output_type": "stream",
     "text": [
      "         8 function calls in 279283.000 seconds\n",
      "\n",
      "   Ordered by: standard name\n",
      "\n",
      "   ncalls  tottime  percall  cumtime  percall filename:lineno(function)\n",
      "        1 56008.000 56008.000 80707.000 80707.000 :0(exec)\n",
      "        2 2059.000 1029.500 2059.000 1029.500 :0(random)\n",
      "        1 92625.000 92625.000 92625.000 92625.000 :0(setprofile)\n",
      "        1 5958.000 5958.000 24699.000 24699.000 <string>:1(<module>)\n",
      "        1 3142.000 3142.000 3142.000 3142.000 classes.py:12(__init__)\n",
      "        1 13540.000 13540.000 18741.000 18741.000 classes.py:31(invoker)\n",
      "        1 105951.000 105951.000 279283.000 279283.000 profile:0(invoker(Regular))\n",
      "        0    0.000             0.000          profile:0(profiler)\n",
      "\n",
      "\n"
     ]
    }
   ],
   "source": [
    "from time import perf_counter, perf_counter_ns\n",
    "import profile\n",
    "\n",
    "pr = profile.Profile(perf_counter_ns)\n",
    "pr.run(\"invoker(Regular)\")\n",
    "pr.print_stats()"
   ]
  },
  {
   "cell_type": "code",
   "execution_count": 62,
   "metadata": {},
   "outputs": [
    {
     "name": "stdout",
     "output_type": "stream",
     "text": [
      "         9 function calls in 0.000 seconds\n",
      "\n",
      "   Ordered by: standard name\n",
      "\n",
      "   ncalls  tottime  percall  cumtime  percall filename:lineno(function)\n",
      "        1    0.000    0.000    0.000    0.000 cProfile.py:118(__exit__)\n",
      "        1    0.000    0.000    0.000    0.000 classes.py:12(__init__)\n",
      "        1    0.000    0.000    0.000    0.000 classes.py:31(invoker)\n",
      "        1    0.000    0.000    0.000    0.000 classes.py:41(attr_writer)\n",
      "        1    0.000    0.000    0.000    0.000 {method 'disable' of '_lsprof.Profiler' objects}\n",
      "        4    0.000    0.000    0.000    0.000 {method 'random' of '_random.Random' objects}\n",
      "\n",
      "\n"
     ]
    }
   ],
   "source": [
    "pr.print_stats()"
   ]
  }
 ],
 "metadata": {
  "kernelspec": {
   "display_name": ".venv",
   "language": "python",
   "name": "python3"
  },
  "language_info": {
   "codemirror_mode": {
    "name": "ipython",
    "version": 3
   },
   "file_extension": ".py",
   "mimetype": "text/x-python",
   "name": "python",
   "nbconvert_exporter": "python",
   "pygments_lexer": "ipython3",
   "version": "3.10.12"
  }
 },
 "nbformat": 4,
 "nbformat_minor": 2
}
