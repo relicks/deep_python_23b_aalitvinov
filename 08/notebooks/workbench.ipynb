{
 "cells": [
  {
   "cell_type": "code",
   "execution_count": 1,
   "metadata": {},
   "outputs": [],
   "source": [
    "# flake8: noqa: E402, B018, F401\n",
    "%load_ext autoreload\n",
    "%autoreload 2"
   ]
  },
  {
   "cell_type": "code",
   "execution_count": 2,
   "metadata": {},
   "outputs": [],
   "source": [
    "import cProfile\n",
    "import pstats\n",
    "\n",
    "from icecream import ic\n",
    "from memory_profiler import profile\n",
    "\n",
    "from classes import Regular, Slotted, Weak, attr_reader, attr_writer, bench, invoker\n",
    "\n",
    "N_RUNS = 10\n",
    "N_LOOPS = 100_000\n",
    "\n",
    "profiled_invoker = profile(invoker)"
   ]
  },
  {
   "cell_type": "code",
   "execution_count": 3,
   "metadata": {},
   "outputs": [
    {
     "name": "stdout",
     "output_type": "stream",
     "text": [
      "Filename: /home/ari/workdir/deep_python_23b_aalitvinov/08/classes.py\n",
      "\n",
      "Line #    Mem usage    Increment  Occurrences   Line Contents\n",
      "=============================================================\n",
      "    31     61.6 MiB     61.6 MiB           1   def invoker(cls: type) -> Any:\n",
      "    32     61.6 MiB      0.0 MiB           1       return cls({rng.random()}, {rng.random()})\n",
      "\n",
      "\n"
     ]
    },
    {
     "data": {
      "text/plain": [
       "<classes.Weak at 0x7f415fca2140>"
      ]
     },
     "execution_count": 3,
     "metadata": {},
     "output_type": "execute_result"
    }
   ],
   "source": [
    "profiled_invoker(Weak)"
   ]
  },
  {
   "cell_type": "code",
   "execution_count": 4,
   "metadata": {},
   "outputs": [
    {
     "name": "stdout",
     "output_type": "stream",
     "text": [
      "\u001b[1m537 ns ± 72.8 ns\u001b[0m per loop (mean ± std. dev. of 10 runs, 100000 loops each)\n",
      "best time \u001b[1m\u001b[32m473\u001b[39m ns\n",
      "\u001b[1m494 ns ± 61.6 ns\u001b[0m per loop (mean ± std. dev. of 10 runs, 100000 loops each)\n",
      "best time \u001b[1m\u001b[32m435\u001b[39m ns\n",
      "\u001b[1m741 ns ± 89.0 ns\u001b[0m per loop (mean ± std. dev. of 10 runs, 100000 loops each)\n",
      "best time \u001b[1m\u001b[32m651\u001b[39m ns\n"
     ]
    },
    {
     "data": {
      "text/plain": [
       "{'mean': 741, 'stdev': 89.0, 'min': 651}"
      ]
     },
     "execution_count": 4,
     "metadata": {},
     "output_type": "execute_result"
    }
   ],
   "source": [
    "bench(lambda: invoker(Regular), n_runs=N_RUNS, n_loops=N_LOOPS)\n",
    "bench(lambda: invoker(Slotted), n_runs=N_RUNS, n_loops=N_LOOPS)\n",
    "bench(lambda: invoker(Weak), n_runs=N_RUNS, n_loops=N_LOOPS)"
   ]
  },
  {
   "cell_type": "code",
   "execution_count": 5,
   "metadata": {},
   "outputs": [
    {
     "name": "stdout",
     "output_type": "stream",
     "text": [
      "\u001b[1m727 ns ± 145.4 ns\u001b[0m per loop (mean ± std. dev. of 10 runs, 100000 loops each)\n",
      "best time \u001b[1m\u001b[32m574\u001b[39m ns\n",
      "\u001b[1m632 ns ± 215.2 ns\u001b[0m per loop (mean ± std. dev. of 10 runs, 100000 loops each)\n",
      "best time \u001b[1m\u001b[32m474\u001b[39m ns\n",
      "\u001b[1m743 ns ± 64.9 ns\u001b[0m per loop (mean ± std. dev. of 10 runs, 100000 loops each)\n",
      "best time \u001b[1m\u001b[32m706\u001b[39m ns\n"
     ]
    },
    {
     "data": {
      "text/plain": [
       "{'mean': 743, 'stdev': 64.9, 'min': 706}"
      ]
     },
     "execution_count": 5,
     "metadata": {},
     "output_type": "execute_result"
    }
   ],
   "source": [
    "bench(lambda: attr_reader(Regular), n_runs=N_RUNS, n_loops=N_LOOPS)\n",
    "bench(lambda: attr_reader(Slotted), n_runs=N_RUNS, n_loops=N_LOOPS)\n",
    "bench(lambda: attr_reader(Weak), n_runs=N_RUNS, n_loops=N_LOOPS)"
   ]
  },
  {
   "cell_type": "code",
   "execution_count": 6,
   "metadata": {},
   "outputs": [
    {
     "name": "stdout",
     "output_type": "stream",
     "text": [
      "\u001b[1m923 ns ± 102.2 ns\u001b[0m per loop (mean ± std. dev. of 10 runs, 100000 loops each)\n",
      "best time \u001b[1m\u001b[32m809\u001b[39m ns\n",
      "\u001b[1m796 ns ± 75.3 ns\u001b[0m per loop (mean ± std. dev. of 10 runs, 100000 loops each)\n",
      "best time \u001b[1m\u001b[32m745\u001b[39m ns\n",
      "\u001b[1m981 ns ± 29.5 ns\u001b[0m per loop (mean ± std. dev. of 10 runs, 100000 loops each)\n",
      "best time \u001b[1m\u001b[32m937\u001b[39m ns\n"
     ]
    },
    {
     "data": {
      "text/plain": [
       "{'mean': 981, 'stdev': 29.5, 'min': 937}"
      ]
     },
     "execution_count": 6,
     "metadata": {},
     "output_type": "execute_result"
    }
   ],
   "source": [
    "bench(lambda: attr_writer(Regular), n_runs=N_RUNS, n_loops=N_LOOPS)\n",
    "bench(lambda: attr_writer(Slotted), n_runs=N_RUNS, n_loops=N_LOOPS)\n",
    "bench(lambda: attr_writer(Weak), n_runs=N_RUNS, n_loops=N_LOOPS)"
   ]
  },
  {
   "cell_type": "code",
   "execution_count": 64,
   "metadata": {},
   "outputs": [
    {
     "name": "stdout",
     "output_type": "stream",
     "text": [
      "         8 function calls in 279283.000 seconds\n",
      "\n",
      "   Ordered by: standard name\n",
      "\n",
      "   ncalls  tottime  percall  cumtime  percall filename:lineno(function)\n",
      "        1 56008.000 56008.000 80707.000 80707.000 :0(exec)\n",
      "        2 2059.000 1029.500 2059.000 1029.500 :0(random)\n",
      "        1 92625.000 92625.000 92625.000 92625.000 :0(setprofile)\n",
      "        1 5958.000 5958.000 24699.000 24699.000 <string>:1(<module>)\n",
      "        1 3142.000 3142.000 3142.000 3142.000 classes.py:12(__init__)\n",
      "        1 13540.000 13540.000 18741.000 18741.000 classes.py:31(invoker)\n",
      "        1 105951.000 105951.000 279283.000 279283.000 profile:0(invoker(Regular))\n",
      "        0    0.000             0.000          profile:0(profiler)\n",
      "\n",
      "\n"
     ]
    }
   ],
   "source": [
    "from time import perf_counter, perf_counter_ns\n",
    "import profile\n",
    "\n",
    "pr = profile.Profile(perf_counter_ns)\n",
    "pr.run(\"invoker(Regular)\")\n",
    "pr.print_stats()"
   ]
  },
  {
   "cell_type": "code",
   "execution_count": 62,
   "metadata": {},
   "outputs": [
    {
     "name": "stdout",
     "output_type": "stream",
     "text": [
      "         9 function calls in 0.000 seconds\n",
      "\n",
      "   Ordered by: standard name\n",
      "\n",
      "   ncalls  tottime  percall  cumtime  percall filename:lineno(function)\n",
      "        1    0.000    0.000    0.000    0.000 cProfile.py:118(__exit__)\n",
      "        1    0.000    0.000    0.000    0.000 classes.py:12(__init__)\n",
      "        1    0.000    0.000    0.000    0.000 classes.py:31(invoker)\n",
      "        1    0.000    0.000    0.000    0.000 classes.py:41(attr_writer)\n",
      "        1    0.000    0.000    0.000    0.000 {method 'disable' of '_lsprof.Profiler' objects}\n",
      "        4    0.000    0.000    0.000    0.000 {method 'random' of '_random.Random' objects}\n",
      "\n",
      "\n"
     ]
    }
   ],
   "source": [
    "pr.print_stats()"
   ]
  }
 ],
 "metadata": {
  "kernelspec": {
   "display_name": ".venv",
   "language": "python",
   "name": "python3"
  },
  "language_info": {
   "codemirror_mode": {
    "name": "ipython",
    "version": 3
   },
   "file_extension": ".py",
   "mimetype": "text/x-python",
   "name": "python",
   "nbconvert_exporter": "python",
   "pygments_lexer": "ipython3",
   "version": "3.10.12"
  }
 },
 "nbformat": 4,
 "nbformat_minor": 2
}
