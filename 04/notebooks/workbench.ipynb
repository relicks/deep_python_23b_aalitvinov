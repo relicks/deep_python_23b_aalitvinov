{
 "cells": [
  {
   "cell_type": "code",
   "execution_count": 1,
   "metadata": {},
   "outputs": [],
   "source": [
    "# %load_ext autoreload\n",
    "# %autoreload 2"
   ]
  },
  {
   "cell_type": "code",
   "execution_count": 2,
   "metadata": {},
   "outputs": [],
   "source": [
    "from custom_meta import CustomMeta\n",
    "\n",
    "PREFIX = \"custom_\""
   ]
  },
  {
   "cell_type": "code",
   "execution_count": 3,
   "metadata": {},
   "outputs": [
    {
     "name": "stdout",
     "output_type": "stream",
     "text": [
      "meta __new__\n",
      "meta __init__\n"
     ]
    }
   ],
   "source": [
    "class CustomClass(metaclass=CustomMeta):\n",
    "    x = 50\n",
    "\n",
    "    def __init__(self, val=99):\n",
    "        print(\"inst init\")\n",
    "        self.val = val\n",
    "\n",
    "    def line(self):\n",
    "        return 100\n",
    "\n",
    "    def __str__(self):\n",
    "        return \"Custom_by_metaclass\""
   ]
  },
  {
   "cell_type": "code",
   "execution_count": 4,
   "metadata": {},
   "outputs": [],
   "source": [
    "assert CustomClass.custom_x == 50\n",
    "# CustomClass.x  # ошибка"
   ]
  },
  {
   "cell_type": "code",
   "execution_count": 5,
   "metadata": {},
   "outputs": [
    {
     "name": "stdout",
     "output_type": "stream",
     "text": [
      "Setting from CustomMeta, name = 'somth', value = 555\n"
     ]
    }
   ],
   "source": [
    "CustomClass.somth = 555\n",
    "# CustomClass.somth"
   ]
  },
  {
   "cell_type": "code",
   "execution_count": 6,
   "metadata": {},
   "outputs": [
    {
     "data": {
      "text/plain": [
       "['custom_line', 'custom_somth', 'custom_x']"
      ]
     },
     "execution_count": 6,
     "metadata": {},
     "output_type": "execute_result"
    }
   ],
   "source": [
    "[attr for attr in dir(CustomClass) if not attr.startswith(\"__\")]"
   ]
  },
  {
   "cell_type": "code",
   "execution_count": 7,
   "metadata": {},
   "outputs": [
    {
     "name": "stdout",
     "output_type": "stream",
     "text": [
      "meta __call__\n",
      "inst init\n",
      "Setting from CustomClass, name = 'val', value = 99\n",
      "Setting from CustomClass, name = '__dict__', value = {'custom_val': 99}\n"
     ]
    }
   ],
   "source": [
    "inst = CustomClass()"
   ]
  },
  {
   "cell_type": "code",
   "execution_count": 8,
   "metadata": {},
   "outputs": [
    {
     "name": "stdout",
     "output_type": "stream",
     "text": [
      "Setting from CustomClass, name = 'some', value = 55\n"
     ]
    }
   ],
   "source": [
    "inst.some = 55"
   ]
  },
  {
   "cell_type": "code",
   "execution_count": 9,
   "metadata": {},
   "outputs": [
    {
     "data": {
      "text/plain": [
       "['custom_line', 'custom_some', 'custom_somth', 'custom_val', 'custom_x']"
      ]
     },
     "execution_count": 9,
     "metadata": {},
     "output_type": "execute_result"
    }
   ],
   "source": [
    "[attr for attr in dir(inst) if not attr.startswith(\"__\")]"
   ]
  },
  {
   "cell_type": "code",
   "execution_count": 10,
   "metadata": {},
   "outputs": [],
   "source": [
    "assert inst.custom_x == 50\n",
    "assert inst.custom_val == 99\n",
    "assert inst.custom_line() == 100\n",
    "assert str(inst) == \"Custom_by_metaclass\""
   ]
  },
  {
   "cell_type": "code",
   "execution_count": 11,
   "metadata": {},
   "outputs": [],
   "source": [
    "# inst.x  # ошибка\n",
    "# inst.val  # ошибка\n",
    "# inst.line() # ошибка\n",
    "# inst.yyy  # ошибка"
   ]
  },
  {
   "cell_type": "code",
   "execution_count": 12,
   "metadata": {},
   "outputs": [
    {
     "name": "stdout",
     "output_type": "stream",
     "text": [
      "Setting from CustomClass, name = 'dynamic', value = 'added later'\n"
     ]
    }
   ],
   "source": [
    "inst.dynamic = \"added later\"\n",
    "assert inst.custom_dynamic == \"added later\"\n",
    "# inst.dynamic  # ошибка"
   ]
  }
 ],
 "metadata": {
  "kernelspec": {
   "display_name": ".venv",
   "language": "python",
   "name": "python3"
  },
  "language_info": {
   "codemirror_mode": {
    "name": "ipython",
    "version": 3
   },
   "file_extension": ".py",
   "mimetype": "text/x-python",
   "name": "python",
   "nbconvert_exporter": "python",
   "pygments_lexer": "ipython3",
   "version": "3.10.12"
  }
 },
 "nbformat": 4,
 "nbformat_minor": 2
}
