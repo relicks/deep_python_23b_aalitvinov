{
 "cells": [
  {
   "cell_type": "code",
   "execution_count": 82,
   "metadata": {},
   "outputs": [
    {
     "name": "stdout",
     "output_type": "stream",
     "text": [
      "The autoreload extension is already loaded. To reload it, use:\n",
      "  %reload_ext autoreload\n"
     ]
    }
   ],
   "source": [
    "%load_ext autoreload\n",
    "%autoreload 2"
   ]
  },
  {
   "cell_type": "code",
   "execution_count": 83,
   "metadata": {},
   "outputs": [],
   "source": [
    "from descriptors import EmailValidator, UInt64Validator, UrlValidator"
   ]
  },
  {
   "cell_type": "code",
   "execution_count": 84,
   "metadata": {},
   "outputs": [
    {
     "name": "stdout",
     "output_type": "stream",
     "text": [
      "send this\n",
      "woof woof woof \n",
      "to subwoofer@woof.me\n",
      "or see http://www.google.com/path,www.yahoo.com/path\n"
     ]
    }
   ],
   "source": [
    "class Woof:\n",
    "    count = UInt64Validator()\n",
    "    email = EmailValidator()\n",
    "    website = UrlValidator()\n",
    "\n",
    "    def __init__(self, count: int, email: str, url) -> None:\n",
    "        self.count = count\n",
    "        self.email = email\n",
    "        self.website = url\n",
    "\n",
    "    def woof(self):\n",
    "        print(\"send this\")\n",
    "        print(\"woof \" * self.count)\n",
    "        print(\"to\", self.email)\n",
    "        print(\"or see\", self.website)\n",
    "\n",
    "\n",
    "woofer = Woof(3, \"subwoofer@woof.me\", \"http://www.google.com/path,www.yahoo.com/path\")\n",
    "woofer.woof()"
   ]
  }
 ],
 "metadata": {
  "kernelspec": {
   "display_name": ".venv",
   "language": "python",
   "name": "python3"
  },
  "language_info": {
   "codemirror_mode": {
    "name": "ipython",
    "version": 3
   },
   "file_extension": ".py",
   "mimetype": "text/x-python",
   "name": "python",
   "nbconvert_exporter": "python",
   "pygments_lexer": "ipython3",
   "version": "3.10.12"
  }
 },
 "nbformat": 4,
 "nbformat_minor": 2
}
