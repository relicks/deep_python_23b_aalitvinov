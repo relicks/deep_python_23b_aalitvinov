{
 "cells": [
  {
   "cell_type": "code",
   "execution_count": 1,
   "metadata": {},
   "outputs": [],
   "source": [
    "%load_ext autoreload\n",
    "%autoreload 2"
   ]
  },
  {
   "cell_type": "code",
   "execution_count": 2,
   "metadata": {},
   "outputs": [],
   "source": [
    "from src.jq import parse_json"
   ]
  },
  {
   "cell_type": "code",
   "execution_count": 3,
   "metadata": {},
   "outputs": [],
   "source": [
    "from unittest.mock import Mock, call"
   ]
  },
  {
   "cell_type": "code",
   "execution_count": 17,
   "metadata": {},
   "outputs": [
    {
     "data": {
      "text/plain": [
       "[]"
      ]
     },
     "execution_count": 17,
     "metadata": {},
     "output_type": "execute_result"
    }
   ],
   "source": [
    "mocker = Mock()\n",
    "\n",
    "pj = parse_json(\n",
    "    json_str='{\"key1\": \"Word1 word2\", \"key2\": \"word2 word3\"}',\n",
    "    required_fields=[\"key1\"],\n",
    "    keywords=[\"2\"],\n",
    "    keyword_callback=mocker,\n",
    ")\n",
    "\n",
    "mocker.call_args_list"
   ]
  },
  {
   "cell_type": "code",
   "execution_count": 19,
   "metadata": {},
   "outputs": [
    {
     "ename": "JSONDecodeError",
     "evalue": "unexpected character: line 1 column 1 (char 0)",
     "output_type": "error",
     "traceback": [
      "\u001b[0;31m---------------------------------------------------------------------------\u001b[0m",
      "\u001b[0;31mJSONDecodeError\u001b[0m                           Traceback (most recent call last)",
      "\u001b[1;32m/workspaces/deep_python_23b_aalitvinov/02/notebooks/workbench.ipynb Cell 5\u001b[0m line \u001b[0;36m2\n\u001b[1;32m      <a href='vscode-notebook-cell://dev-container%2B7b22686f737450617468223a225c5c5c5c77736c2e6c6f63616c686f73745c5c5562756e74755c5c686f6d655c5c6172695c5c776f726b6469725c5c646565705f707974686f6e5f3233625f61616c697476696e6f765c5c3032222c22636f6e66696746696c65223a7b22246d6964223a312c2270617468223a222f686f6d652f6172692f776f726b6469722f646565705f707974686f6e5f3233625f61616c697476696e6f762f30322f2e646576636f6e7461696e65722f646576636f6e7461696e65722e6a736f6e222c22736368656d65223a227673636f64652d66696c65486f7374227d7d/workspaces/deep_python_23b_aalitvinov/02/notebooks/workbench.ipynb#X24sdnNjb2RlLXJlbW90ZQ%3D%3D?line=0'>1</a>\u001b[0m mocker \u001b[39m=\u001b[39m Mock()\n\u001b[0;32m----> <a href='vscode-notebook-cell://dev-container%2B7b22686f737450617468223a225c5c5c5c77736c2e6c6f63616c686f73745c5c5562756e74755c5c686f6d655c5c6172695c5c776f726b6469725c5c646565705f707974686f6e5f3233625f61616c697476696e6f765c5c3032222c22636f6e66696746696c65223a7b22246d6964223a312c2270617468223a222f686f6d652f6172692f776f726b6469722f646565705f707974686f6e5f3233625f61616c697476696e6f762f30322f2e646576636f6e7461696e65722f646576636f6e7461696e65722e6a736f6e222c22736368656d65223a227673636f64652d66696c65486f7374227d7d/workspaces/deep_python_23b_aalitvinov/02/notebooks/workbench.ipynb#X24sdnNjb2RlLXJlbW90ZQ%3D%3D?line=1'>2</a>\u001b[0m parse_json(json_str\u001b[39m=\u001b[39;49m\u001b[39m\"\u001b[39;49m\u001b[39m+=12qwsasd,12 asgeht\u001b[39;49m\u001b[39m\"\u001b[39;49m, keyword_callback\u001b[39m=\u001b[39;49mmocker)\n\u001b[1;32m      <a href='vscode-notebook-cell://dev-container%2B7b22686f737450617468223a225c5c5c5c77736c2e6c6f63616c686f73745c5c5562756e74755c5c686f6d655c5c6172695c5c776f726b6469725c5c646565705f707974686f6e5f3233625f61616c697476696e6f765c5c3032222c22636f6e66696746696c65223a7b22246d6964223a312c2270617468223a222f686f6d652f6172692f776f726b6469722f646565705f707974686f6e5f3233625f61616c697476696e6f762f30322f2e646576636f6e7461696e65722f646576636f6e7461696e65722e6a736f6e222c22736368656d65223a227673636f64652d66696c65486f7374227d7d/workspaces/deep_python_23b_aalitvinov/02/notebooks/workbench.ipynb#X24sdnNjb2RlLXJlbW90ZQ%3D%3D?line=2'>3</a>\u001b[0m mocker\u001b[39m.\u001b[39mcall_args_list\n",
      "File \u001b[0;32m/workspaces/deep_python_23b_aalitvinov/02/src/jq.py:25\u001b[0m, in \u001b[0;36mparse_json\u001b[0;34m(json_str, required_fields, keywords, keyword_callback)\u001b[0m\n\u001b[1;32m     14\u001b[0m \u001b[39m\u001b[39m\u001b[39m\"\"\"Calls `keyword_callback` on every found match in parsed JSON `str`.\u001b[39;00m\n\u001b[1;32m     15\u001b[0m \n\u001b[1;32m     16\u001b[0m \u001b[39mIf `required_fields` is `None`, then looks for `keywords` in every row.\u001b[39;00m\n\u001b[0;32m   (...)\u001b[0m\n\u001b[1;32m     21\u001b[0m \u001b[39m:keyword_callback: a function called on matched key, value\u001b[39;00m\n\u001b[1;32m     22\u001b[0m \u001b[39m\"\"\"\u001b[39;00m\n\u001b[1;32m     23\u001b[0m \u001b[39mif\u001b[39;00m keyword_callback \u001b[39mis\u001b[39;00m \u001b[39mnot\u001b[39;00m \u001b[39mNone\u001b[39;00m:\n\u001b[1;32m     24\u001b[0m     \u001b[39m# pylint: disable-next=no-member\u001b[39;00m\n\u001b[0;32m---> 25\u001b[0m     jdic: \u001b[39mdict\u001b[39m[\u001b[39mstr\u001b[39m, \u001b[39mstr\u001b[39m] \u001b[39m=\u001b[39m orjson\u001b[39m.\u001b[39;49mloads(json_str)\n\u001b[1;32m     27\u001b[0m     \u001b[39mif\u001b[39;00m required_fields \u001b[39mis\u001b[39;00m \u001b[39mNone\u001b[39;00m:\n\u001b[1;32m     28\u001b[0m         required_fields \u001b[39m=\u001b[39m \u001b[39mlist\u001b[39m(jdic\u001b[39m.\u001b[39mkeys())\n",
      "\u001b[0;31mJSONDecodeError\u001b[0m: unexpected character: line 1 column 1 (char 0)"
     ]
    }
   ],
   "source": [
    "mocker = Mock()\n",
    "parse_json(json_str=\"+=12qwsasd,12 asgeht\", keyword_callback=mocker)\n",
    "mocker.call_args_list"
   ]
  },
  {
   "cell_type": "code",
   "execution_count": 6,
   "metadata": {},
   "outputs": [],
   "source": [
    "from collections import deque\n",
    "from src.funcperf import mean"
   ]
  },
  {
   "cell_type": "code",
   "execution_count": 7,
   "metadata": {},
   "outputs": [],
   "source": [
    "from time import sleep\n",
    "from random import random\n",
    "import statistics\n",
    "\n",
    "\n",
    "@mean(5)\n",
    "def hectic_sleeper():\n",
    "    sleep(random() / 5)\n",
    "    return \"ok\""
   ]
  },
  {
   "cell_type": "code",
   "execution_count": 8,
   "metadata": {},
   "outputs": [
    {
     "name": "stderr",
     "output_type": "stream",
     "text": [
      "The last 1 calls of hectic_sleeper took 141.91 ms on average.\n"
     ]
    },
    {
     "data": {
      "text/plain": [
       "'ok'"
      ]
     },
     "execution_count": 8,
     "metadata": {},
     "output_type": "execute_result"
    }
   ],
   "source": [
    "hectic_sleeper()"
   ]
  },
  {
   "cell_type": "code",
   "execution_count": 9,
   "metadata": {},
   "outputs": [
    {
     "data": {
      "text/plain": [
       "deque([141911401], maxlen=5)"
      ]
     },
     "execution_count": 9,
     "metadata": {},
     "output_type": "execute_result"
    }
   ],
   "source": [
    "hectic_sleeper.__closure__[1].cell_contents"
   ]
  },
  {
   "cell_type": "code",
   "execution_count": null,
   "metadata": {},
   "outputs": [],
   "source": []
  }
 ],
 "metadata": {
  "kernelspec": {
   "display_name": "Python 3",
   "language": "python",
   "name": "python3"
  },
  "language_info": {
   "codemirror_mode": {
    "name": "ipython",
    "version": 3
   },
   "file_extension": ".py",
   "mimetype": "text/x-python",
   "name": "python",
   "nbconvert_exporter": "python",
   "pygments_lexer": "ipython3",
   "version": "3.11.5"
  },
  "orig_nbformat": 4
 },
 "nbformat": 4,
 "nbformat_minor": 2
}
