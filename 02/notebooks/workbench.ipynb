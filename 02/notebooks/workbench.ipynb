{
 "cells": [
  {
   "cell_type": "code",
   "execution_count": 1,
   "metadata": {},
   "outputs": [],
   "source": [
    "%load_ext autoreload\n",
    "%autoreload 2"
   ]
  },
  {
   "cell_type": "code",
   "execution_count": 2,
   "metadata": {},
   "outputs": [],
   "source": [
    "from src.jq import parse_json"
   ]
  },
  {
   "cell_type": "code",
   "execution_count": 3,
   "metadata": {},
   "outputs": [],
   "source": [
    "from unittest.mock import Mock, call"
   ]
  },
  {
   "cell_type": "code",
   "execution_count": 105,
   "metadata": {},
   "outputs": [
    {
     "data": {
      "text/plain": [
       "[]"
      ]
     },
     "execution_count": 105,
     "metadata": {},
     "output_type": "execute_result"
    }
   ],
   "source": [
    "mocker = Mock()\n",
    "\n",
    "pj = parse_json(\n",
    "    json_str='{\"key1\": \"Word1 word2\", \"key2\": \"word2 word3\"}',\n",
    "    required_fields=[\"key1\"],\n",
    "    keywords=[],\n",
    "    keyword_callback=mocker,\n",
    ")\n",
    "\n",
    "mocker.call_args_list"
   ]
  },
  {
   "cell_type": "code",
   "execution_count": 24,
   "metadata": {},
   "outputs": [],
   "source": [
    "from collections import deque\n",
    "from src.funcperf import mean"
   ]
  },
  {
   "cell_type": "code",
   "execution_count": 94,
   "metadata": {},
   "outputs": [],
   "source": [
    "from time import sleep\n",
    "from random import random\n",
    "import statistics\n",
    "\n",
    "\n",
    "@mean(5)\n",
    "def hectic_sleeper():\n",
    "    sleep(0.02)\n",
    "    return \"ok\""
   ]
  },
  {
   "cell_type": "code",
   "execution_count": 102,
   "metadata": {},
   "outputs": [],
   "source": [
    "sl = mean(5)(sleep)"
   ]
  },
  {
   "cell_type": "code",
   "execution_count": 103,
   "metadata": {},
   "outputs": [
    {
     "name": "stderr",
     "output_type": "stream",
     "text": [
      "The last 1 calls of wrapper took `1.17` ms on average.\n",
      "The last 2 calls of wrapper took `1.14` ms on average.\n",
      "The last 3 calls of wrapper took `1.13` ms on average.\n",
      "The last 4 calls of wrapper took `1.12` ms on average.\n",
      "The last 5 calls of wrapper took `1.12` ms on average.\n",
      "The last 5 calls of wrapper took `1.10` ms on average.\n",
      "The last 5 calls of wrapper took `1.10` ms on average.\n",
      "The last 5 calls of wrapper took `1.10` ms on average.\n",
      "The last 5 calls of wrapper took `1.11` ms on average.\n",
      "The last 5 calls of wrapper took `1.10` ms on average.\n",
      "The last 5 calls of wrapper took `1.12` ms on average.\n",
      "The last 5 calls of wrapper took `1.12` ms on average.\n",
      "The last 5 calls of wrapper took `1.13` ms on average.\n",
      "The last 5 calls of wrapper took `1.13` ms on average.\n",
      "The last 5 calls of wrapper took `1.14` ms on average.\n",
      "The last 5 calls of wrapper took `1.13` ms on average.\n",
      "The last 5 calls of wrapper took `1.12` ms on average.\n",
      "The last 5 calls of wrapper took `1.10` ms on average.\n",
      "The last 5 calls of wrapper took `1.10` ms on average.\n",
      "The last 5 calls of wrapper took `1.10` ms on average.\n",
      "The last 5 calls of wrapper took `1.10` ms on average.\n",
      "The last 5 calls of wrapper took `1.11` ms on average.\n",
      "The last 5 calls of wrapper took `1.11` ms on average.\n",
      "The last 5 calls of wrapper took `1.13` ms on average.\n",
      "The last 5 calls of wrapper took `1.15` ms on average.\n",
      "The last 5 calls of wrapper took `1.16` ms on average.\n",
      "The last 5 calls of wrapper took `1.15` ms on average.\n",
      "The last 5 calls of wrapper took `1.16` ms on average.\n",
      "The last 5 calls of wrapper took `1.14` ms on average.\n",
      "The last 5 calls of wrapper took `1.13` ms on average.\n",
      "The last 5 calls of wrapper took `1.13` ms on average.\n",
      "The last 5 calls of wrapper took `1.13` ms on average.\n",
      "The last 5 calls of wrapper took `1.13` ms on average.\n",
      "The last 5 calls of wrapper took `1.13` ms on average.\n",
      "The last 5 calls of wrapper took `1.11` ms on average.\n",
      "The last 5 calls of wrapper took `1.10` ms on average.\n",
      "The last 5 calls of wrapper took `1.10` ms on average.\n",
      "The last 5 calls of wrapper took `1.12` ms on average.\n",
      "The last 5 calls of wrapper took `1.12` ms on average.\n",
      "The last 5 calls of wrapper took `1.13` ms on average.\n",
      "The last 5 calls of wrapper took `1.18` ms on average.\n",
      "The last 5 calls of wrapper took `1.21` ms on average.\n",
      "The last 5 calls of wrapper took `1.19` ms on average.\n",
      "The last 5 calls of wrapper took `1.18` ms on average.\n",
      "The last 5 calls of wrapper took `1.17` ms on average.\n",
      "The last 5 calls of wrapper took `1.16` ms on average.\n",
      "The last 5 calls of wrapper took `1.13` ms on average.\n",
      "The last 5 calls of wrapper took `1.15` ms on average.\n",
      "The last 5 calls of wrapper took `1.19` ms on average.\n",
      "The last 5 calls of wrapper took `1.23` ms on average.\n"
     ]
    }
   ],
   "source": [
    "for _ in range(50):\n",
    "    sl(0.001)"
   ]
  },
  {
   "cell_type": "code",
   "execution_count": 77,
   "metadata": {},
   "outputs": [
    {
     "data": {
      "text/plain": [
       "0.0737756240265035"
      ]
     },
     "execution_count": 77,
     "metadata": {},
     "output_type": "execute_result"
    }
   ],
   "source": [
    "statistics.stdev(sl.__closure__[1].cell_contents) / 1e6"
   ]
  },
  {
   "cell_type": "code",
   "execution_count": 99,
   "metadata": {},
   "outputs": [],
   "source": [
    "captured = \"\"\"The last 1 calls of sleep took `1.12` ms on average.\n",
    "The last 2 calls of sleep took `1.10` ms on average.\n",
    "The last 3 calls of sleep took `1.10` ms on average.\n",
    "The last 4 calls of sleep took `1.10` ms on average.\n",
    "The last 5 calls of sleep took `1.10` ms on average.\n",
    "The last 5 calls of sleep took `1.10` ms on average.\n",
    "The last 5 calls of sleep took `1.11` ms on average.\n",
    "The last 5 calls of sleep took `1.11` ms on average.\n",
    "The last 5 calls of sleep took `1.11` ms on average.\n",
    "The last 5 calls of sleep took `1.11` ms on average.\n",
    "The last 5 calls of sleep took `1.11` ms on average.\n",
    "The last 5 calls of sleep took `1.11` ms on average.\n",
    "The last 5 calls of sleep took `1.10` ms on average.\n",
    "The last 5 calls of sleep took `1.10` ms on average.\n",
    "The last 5 calls of sleep took `1.10` ms on average.\n",
    "The last 5 calls of sleep took `1.09` ms on average.\n",
    "The last 5 calls of sleep took `1.09` ms on average.\n",
    "The last 5 calls of sleep took `1.09` ms on average.\n",
    "The last 5 calls of sleep took `1.10` ms on average.\n",
    "The last 5 calls of sleep took `1.10` ms on average.\n",
    "The last 5 calls of sleep took `1.11` ms on average.\n",
    "The last 5 calls of sleep took `1.12` ms on average.\n",
    "The last 5 calls of sleep took `1.11` ms on average.\n",
    "The last 5 calls of sleep took `1.11` ms on average.\n",
    "The last 5 calls of sleep took `1.10` ms on average.\n",
    "The last 5 calls of sleep took `1.09` ms on average.\n",
    "The last 5 calls of sleep took `1.09` ms on average.\n",
    "The last 5 calls of sleep took `1.09` ms on average.\n",
    "The last 5 calls of sleep took `1.09` ms on average.\n",
    "The last 5 calls of sleep took `1.11` ms on average.\n",
    "The last 5 calls of sleep took `1.12` ms on average.\n",
    "The last 5 calls of sleep took `1.14` ms on average.\n",
    "The last 5 calls of sleep took `1.15` ms on average.\n",
    "The last 5 calls of sleep took `1.18` ms on average.\n",
    "The last 5 calls of sleep took `1.18` ms on average.\n",
    "The last 5 calls of sleep took `1.17` ms on average.\n",
    "The last 5 calls of sleep took `1.16` ms on average.\n",
    "The last 5 calls of sleep took `1.15` ms on average.\n",
    "The last 5 calls of sleep took `1.12` ms on average.\n",
    "The last 5 calls of sleep took `1.11` ms on average.\n",
    "The last 5 calls of sleep took `1.11` ms on average.\n",
    "The last 5 calls of sleep took `1.11` ms on average.\n",
    "The last 5 calls of sleep took `1.11` ms on average.\n",
    "The last 5 calls of sleep took `1.11` ms on average.\n",
    "The last 5 calls of sleep took `1.11` ms on average.\n",
    "The last 5 calls of sleep took `1.11` ms on average.\n",
    "The last 5 calls of sleep took `1.11` ms on average.\n",
    "The last 5 calls of sleep took `1.11` ms on average.\n",
    "The last 5 calls of sleep took `1.12` ms on average.\n",
    "The last 5 calls of sleep took `1.11` ms on average.\"\"\""
   ]
  },
  {
   "cell_type": "code",
   "execution_count": 101,
   "metadata": {},
   "outputs": [
    {
     "data": {
      "text/plain": [
       "[1.12,\n",
       " 1.1,\n",
       " 1.1,\n",
       " 1.1,\n",
       " 1.1,\n",
       " 1.1,\n",
       " 1.11,\n",
       " 1.11,\n",
       " 1.11,\n",
       " 1.11,\n",
       " 1.11,\n",
       " 1.11,\n",
       " 1.1,\n",
       " 1.1,\n",
       " 1.1,\n",
       " 1.09,\n",
       " 1.09,\n",
       " 1.09,\n",
       " 1.1,\n",
       " 1.1,\n",
       " 1.11,\n",
       " 1.12,\n",
       " 1.11,\n",
       " 1.11,\n",
       " 1.1,\n",
       " 1.09,\n",
       " 1.09,\n",
       " 1.09,\n",
       " 1.09,\n",
       " 1.11,\n",
       " 1.12,\n",
       " 1.14,\n",
       " 1.15,\n",
       " 1.18,\n",
       " 1.18,\n",
       " 1.17,\n",
       " 1.16,\n",
       " 1.15,\n",
       " 1.12,\n",
       " 1.11,\n",
       " 1.11,\n",
       " 1.11,\n",
       " 1.11,\n",
       " 1.11,\n",
       " 1.11,\n",
       " 1.11,\n",
       " 1.11,\n",
       " 1.11,\n",
       " 1.12,\n",
       " 1.11]"
      ]
     },
     "execution_count": 101,
     "metadata": {},
     "output_type": "execute_result"
    }
   ],
   "source": [
    "[float(line.split(\"`\")[1]) for line in captured.splitlines()]"
   ]
  },
  {
   "cell_type": "code",
   "execution_count": 89,
   "metadata": {},
   "outputs": [
    {
     "data": {
      "text/plain": [
       "True"
      ]
     },
     "execution_count": 89,
     "metadata": {},
     "output_type": "execute_result"
    }
   ],
   "source": [
    "from math import isclose\n",
    "\n",
    "isclose(10.14, 10.0, abs_tol=0.5)"
   ]
  },
  {
   "cell_type": "code",
   "execution_count": 45,
   "metadata": {},
   "outputs": [
    {
     "name": "stderr",
     "output_type": "stream",
     "text": [
      "The last 5 calls of hectic_sleeper took 20.34 ms on average.\n"
     ]
    },
    {
     "data": {
      "text/plain": [
       "'ok'"
      ]
     },
     "execution_count": 45,
     "metadata": {},
     "output_type": "execute_result"
    }
   ],
   "source": [
    "hectic_sleeper()"
   ]
  },
  {
   "cell_type": "code",
   "execution_count": 27,
   "metadata": {},
   "outputs": [
    {
     "data": {
      "text/plain": [
       "deque([10288596], maxlen=5)"
      ]
     },
     "execution_count": 27,
     "metadata": {},
     "output_type": "execute_result"
    }
   ],
   "source": [
    "hectic_sleeper.__closure__[1].cell_contents"
   ]
  },
  {
   "cell_type": "code",
   "execution_count": null,
   "metadata": {},
   "outputs": [],
   "source": []
  }
 ],
 "metadata": {
  "kernelspec": {
   "display_name": "Python 3",
   "language": "python",
   "name": "python3"
  },
  "language_info": {
   "codemirror_mode": {
    "name": "ipython",
    "version": 3
   },
   "file_extension": ".py",
   "mimetype": "text/x-python",
   "name": "python",
   "nbconvert_exporter": "python",
   "pygments_lexer": "ipython3",
   "version": "3.11.5"
  },
  "orig_nbformat": 4
 },
 "nbformat": 4,
 "nbformat_minor": 2
}
