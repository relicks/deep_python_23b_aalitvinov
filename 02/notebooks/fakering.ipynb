{
 "cells": [
  {
   "cell_type": "code",
   "execution_count": 1,
   "metadata": {},
   "outputs": [],
   "source": [
    "%load_ext autoreload\n",
    "%autoreload 2"
   ]
  },
  {
   "cell_type": "code",
   "execution_count": 2,
   "metadata": {},
   "outputs": [],
   "source": [
    "from faker import Faker\n",
    "from faker.providers import BaseProvider\n",
    "import orjson"
   ]
  },
  {
   "cell_type": "code",
   "execution_count": 3,
   "metadata": {},
   "outputs": [],
   "source": [
    "import random"
   ]
  },
  {
   "cell_type": "code",
   "execution_count": 35,
   "metadata": {},
   "outputs": [],
   "source": [
    "class RandomCaseWordsProvider(BaseProvider):\n",
    "    def random_case_words(self, n_words: int = 3) -> list[str]:\n",
    "        words_list: list[str] = self.generator.words(nb=n_words)\n",
    "        for i, word in enumerate(words_list):\n",
    "            if random.choice((True, False)):\n",
    "                words_list[i] = word.capitalize()\n",
    "        return words_list\n",
    "\n",
    "\n",
    "class JsonStringProvider(BaseProvider):\n",
    "    def json_dict(\n",
    "        self,\n",
    "        n_rows: int = 3,\n",
    "        n_words: int = 3,\n",
    "        join_sep: str = \" \",\n",
    "    ):\n",
    "        self.generator.add_provider(RandomCaseWordsProvider)\n",
    "        return dict(\n",
    "            zip(\n",
    "                self.generator.random_case_words(n_rows),\n",
    "                (\n",
    "                    join_sep.join(\n",
    "                        self.generator.random_case_words(\n",
    "                            random.choice(range(1, n_words))\n",
    "                        )\n",
    "                    )\n",
    "                    for _ in range(n_rows)\n",
    "                ),\n",
    "            )\n",
    "        )"
   ]
  },
  {
   "cell_type": "code",
   "execution_count": 61,
   "metadata": {},
   "outputs": [
    {
     "data": {
      "text/plain": [
       "{'Všimnout': 'Požadavek',\n",
       " 'Hluboký': 'dorazit díky otevřený ženský Jednání No',\n",
       " 'důsledek': 'Spousta Armáda úzký Jeden charakter dokud Před',\n",
       " 'Co': 'Většina Otevřít Prodat',\n",
       " 'tak': 'rána průmysl',\n",
       " 'odmítat': 'Umění věda štěstí Ostrov velikost Rozměr',\n",
       " 'průmysl': 'Často koupit Jádro bývalý Pouhý Doktor Pokoušet Území Právo',\n",
       " 'poprvé': 'Pěkně roh Zbýt obchod Unie',\n",
       " 'Nastat': 'teorie kapacita místnost Rozhodně',\n",
       " 'rostlina': 'dívat',\n",
       " 'Zasáhnout': 'Ztratit areál pohybovat Nejprve zrovna Smát odpovědět onemocnění technika'}"
      ]
     },
     "execution_count": 61,
     "metadata": {},
     "output_type": "execute_result"
    }
   ],
   "source": [
    "fake_ws = Faker(locale=\"cs_CZ\")\n",
    "fake_ws.add_provider(JsonStringProvider)\n",
    "fake_ws.json_dict(int(11), 10)"
   ]
  },
  {
   "cell_type": "code",
   "execution_count": 63,
   "metadata": {},
   "outputs": [
    {
     "data": {
      "text/plain": [
       "'{\"decade\":\"Name land six Do task box\",\"Value\":\"medical Article plant price Try more\",\"almost\":\"decision particular data into over\",\"apply\":\"hard\",\"provide\":\"million Hard\",\"Trade\":\"Agree dinner try\",\"why\":\"Product\"}'"
      ]
     },
     "execution_count": 63,
     "metadata": {},
     "output_type": "execute_result"
    }
   ],
   "source": [
    "orjson.dumps(\n",
    "    {\n",
    "        \"decade\": \"Name land six Do task box\",\n",
    "        \"Value\": \"medical Article plant price Try more\",\n",
    "        \"almost\": \"decision particular data into over\",\n",
    "        \"apply\": \"hard\",\n",
    "        \"provide\": \"million Hard\",\n",
    "        \"Trade\": \"Agree dinner try\",\n",
    "        \"why\": \"Product\",\n",
    "    }\n",
    ").decode(\"utf-8\")"
   ]
  },
  {
   "cell_type": "code",
   "execution_count": 33,
   "metadata": {},
   "outputs": [
    {
     "data": {
      "text/plain": [
       "'[{\"key\": [\"prevent\", \"take\", \"unit\"]}, {\"key\": [\"letter\", \"will\", \"public\"]}, {\"key\": [\"fly\", \"above\", \"for\"]}, {\"key\": [\"visit\", \"result\", \"begin\"]}, {\"key\": [\"example\", \"owner\", \"material\"]}, {\"key\": [\"argue\", \"record\", \"cell\"]}, {\"key\": [\"just\", \"throughout\", \"front\"]}, {\"key\": [\"put\", \"much\", \"finally\"]}, {\"key\": [\"year\", \"tree\", \"believe\"]}, {\"key\": [\"PM\", \"expert\", \"shake\"]}]'"
      ]
     },
     "execution_count": 33,
     "metadata": {},
     "output_type": "execute_result"
    }
   ],
   "source": [
    "fake_json = Faker()\n",
    "fake_json.\n",
    "fake_json.json(data_columns={\"key\": \"words\"})"
   ]
  },
  {
   "cell_type": "code",
   "execution_count": 41,
   "metadata": {},
   "outputs": [
    {
     "name": "stdout",
     "output_type": "stream",
     "text": [
      "{'!team': 'People Wear Agreement include particular good age Smile From eight',\n",
      " 'half@': 'claim Memory game Fact drive first election True explain Writer',\n",
      " 'nothing': 'water line Condition accept amount Pull Any finish Production '\n",
      "            'Miss',\n",
      " 'care': 'art few might Everybody People Role Suddenly Alone Not country',\n",
      " 'quickly': 'room Although travel west catch Skin successful act beat Left'}\n"
     ]
    }
   ],
   "source": [
    "from pprint import pp\n",
    "\n",
    "\n",
    "pp(\n",
    "    orjson.loads(\n",
    "        '{\"!team\":\"People Wear Agreement include particular good age Smile From eight\",\"half@\":\"claim Memory game Fact drive first election True explain Writer\",\"nothing\":\"water line Condition accept amount Pull Any finish Production Miss\",\"care\":\"art few might Everybody People Role Suddenly Alone Not country\",\"quickly\":\"room Although travel west catch Skin successful act beat Left\"}'\n",
    "    )\n",
    ")"
   ]
  }
 ],
 "metadata": {
  "kernelspec": {
   "display_name": "Python 3",
   "language": "python",
   "name": "python3"
  },
  "language_info": {
   "codemirror_mode": {
    "name": "ipython",
    "version": 3
   },
   "file_extension": ".py",
   "mimetype": "text/x-python",
   "name": "python",
   "nbconvert_exporter": "python",
   "pygments_lexer": "ipython3",
   "version": "3.11.5"
  },
  "orig_nbformat": 4
 },
 "nbformat": 4,
 "nbformat_minor": 2
}
