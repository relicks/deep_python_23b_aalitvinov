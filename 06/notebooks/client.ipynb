{
 "cells": [
  {
   "cell_type": "code",
   "execution_count": 48,
   "metadata": {},
   "outputs": [
    {
     "data": {
      "text/plain": [
       "'query-url=%5B%27https%3A%2F%2Fru.wikipedia.org%2Fwiki%2FPython%27%2C+%27https%3A%2F%2Fdocs.python.org%2F3%2Flibrary%2Fthreading.html%27%5D'"
      ]
     },
     "execution_count": 48,
     "metadata": {},
     "output_type": "execute_result"
    }
   ],
   "source": [
    "import asyncio\n",
    "import json\n",
    "import threading\n",
    "from configparser import ConfigParser\n",
    "from urllib.parse import urlencode\n",
    "from urllib.request import urlopen\n",
    "\n",
    "values = {\n",
    "    \"query-url\": [\n",
    "        \"https://ru.wikipedia.org/wiki/Python\",\n",
    "        \"https://docs.python.org/3/library/threading.html\",\n",
    "    ],\n",
    "}\n",
    "urlencode(values)"
   ]
  },
  {
   "cell_type": "code",
   "execution_count": 129,
   "metadata": {},
   "outputs": [
    {
     "ename": "JSONDecodeError",
     "evalue": "Expecting value: line 1 column 1 (char 0)",
     "output_type": "error",
     "traceback": [
      "\u001b[0;31m---------------------------------------------------------------------------\u001b[0m",
      "\u001b[0;31mJSONDecodeError\u001b[0m                           Traceback (most recent call last)",
      "\u001b[1;32m/home/ari/workdir/deep_python_23b_aalitvinov/06/notebooks/client.ipynb Cell 2\u001b[0m line \u001b[0;36m1\n\u001b[1;32m      <a href='vscode-notebook-cell://wsl%2Bubuntu/home/ari/workdir/deep_python_23b_aalitvinov/06/notebooks/client.ipynb#X32sdnNjb2RlLXJlbW90ZQ%3D%3D?line=0'>1</a>\u001b[0m resp \u001b[39m=\u001b[39m urlopen(\n\u001b[1;32m      <a href='vscode-notebook-cell://wsl%2Bubuntu/home/ari/workdir/deep_python_23b_aalitvinov/06/notebooks/client.ipynb#X32sdnNjb2RlLXJlbW90ZQ%3D%3D?line=1'>2</a>\u001b[0m     \u001b[39m\"\u001b[39m\u001b[39mhttp://localhost:8087\u001b[39m\u001b[39m\"\u001b[39m,\n\u001b[1;32m      <a href='vscode-notebook-cell://wsl%2Bubuntu/home/ari/workdir/deep_python_23b_aalitvinov/06/notebooks/client.ipynb#X32sdnNjb2RlLXJlbW90ZQ%3D%3D?line=2'>3</a>\u001b[0m     data\u001b[39m=\u001b[39mjson\u001b[39m.\u001b[39mdumps(\n\u001b[0;32m   (...)\u001b[0m\n\u001b[1;32m     <a href='vscode-notebook-cell://wsl%2Bubuntu/home/ari/workdir/deep_python_23b_aalitvinov/06/notebooks/client.ipynb#X32sdnNjb2RlLXJlbW90ZQ%3D%3D?line=9'>10</a>\u001b[0m     )\u001b[39m.\u001b[39mencode(),\n\u001b[1;32m     <a href='vscode-notebook-cell://wsl%2Bubuntu/home/ari/workdir/deep_python_23b_aalitvinov/06/notebooks/client.ipynb#X32sdnNjb2RlLXJlbW90ZQ%3D%3D?line=10'>11</a>\u001b[0m )\n\u001b[0;32m---> <a href='vscode-notebook-cell://wsl%2Bubuntu/home/ari/workdir/deep_python_23b_aalitvinov/06/notebooks/client.ipynb#X32sdnNjb2RlLXJlbW90ZQ%3D%3D?line=11'>12</a>\u001b[0m json\u001b[39m.\u001b[39;49mloads(resp\u001b[39m.\u001b[39;49mread())\n",
      "File \u001b[0;32m/usr/lib/python3.10/json/__init__.py:346\u001b[0m, in \u001b[0;36mloads\u001b[0;34m(s, cls, object_hook, parse_float, parse_int, parse_constant, object_pairs_hook, **kw)\u001b[0m\n\u001b[1;32m    341\u001b[0m     s \u001b[39m=\u001b[39m s\u001b[39m.\u001b[39mdecode(detect_encoding(s), \u001b[39m'\u001b[39m\u001b[39msurrogatepass\u001b[39m\u001b[39m'\u001b[39m)\n\u001b[1;32m    343\u001b[0m \u001b[39mif\u001b[39;00m (\u001b[39mcls\u001b[39m \u001b[39mis\u001b[39;00m \u001b[39mNone\u001b[39;00m \u001b[39mand\u001b[39;00m object_hook \u001b[39mis\u001b[39;00m \u001b[39mNone\u001b[39;00m \u001b[39mand\u001b[39;00m\n\u001b[1;32m    344\u001b[0m         parse_int \u001b[39mis\u001b[39;00m \u001b[39mNone\u001b[39;00m \u001b[39mand\u001b[39;00m parse_float \u001b[39mis\u001b[39;00m \u001b[39mNone\u001b[39;00m \u001b[39mand\u001b[39;00m\n\u001b[1;32m    345\u001b[0m         parse_constant \u001b[39mis\u001b[39;00m \u001b[39mNone\u001b[39;00m \u001b[39mand\u001b[39;00m object_pairs_hook \u001b[39mis\u001b[39;00m \u001b[39mNone\u001b[39;00m \u001b[39mand\u001b[39;00m \u001b[39mnot\u001b[39;00m kw):\n\u001b[0;32m--> 346\u001b[0m     \u001b[39mreturn\u001b[39;00m _default_decoder\u001b[39m.\u001b[39;49mdecode(s)\n\u001b[1;32m    347\u001b[0m \u001b[39mif\u001b[39;00m \u001b[39mcls\u001b[39m \u001b[39mis\u001b[39;00m \u001b[39mNone\u001b[39;00m:\n\u001b[1;32m    348\u001b[0m     \u001b[39mcls\u001b[39m \u001b[39m=\u001b[39m JSONDecoder\n",
      "File \u001b[0;32m/usr/lib/python3.10/json/decoder.py:337\u001b[0m, in \u001b[0;36mJSONDecoder.decode\u001b[0;34m(self, s, _w)\u001b[0m\n\u001b[1;32m    332\u001b[0m \u001b[39mdef\u001b[39;00m \u001b[39mdecode\u001b[39m(\u001b[39mself\u001b[39m, s, _w\u001b[39m=\u001b[39mWHITESPACE\u001b[39m.\u001b[39mmatch):\n\u001b[1;32m    333\u001b[0m \u001b[39m    \u001b[39m\u001b[39m\"\"\"Return the Python representation of ``s`` (a ``str`` instance\u001b[39;00m\n\u001b[1;32m    334\u001b[0m \u001b[39m    containing a JSON document).\u001b[39;00m\n\u001b[1;32m    335\u001b[0m \n\u001b[1;32m    336\u001b[0m \u001b[39m    \"\"\"\u001b[39;00m\n\u001b[0;32m--> 337\u001b[0m     obj, end \u001b[39m=\u001b[39m \u001b[39mself\u001b[39;49m\u001b[39m.\u001b[39;49mraw_decode(s, idx\u001b[39m=\u001b[39;49m_w(s, \u001b[39m0\u001b[39;49m)\u001b[39m.\u001b[39;49mend())\n\u001b[1;32m    338\u001b[0m     end \u001b[39m=\u001b[39m _w(s, end)\u001b[39m.\u001b[39mend()\n\u001b[1;32m    339\u001b[0m     \u001b[39mif\u001b[39;00m end \u001b[39m!=\u001b[39m \u001b[39mlen\u001b[39m(s):\n",
      "File \u001b[0;32m/usr/lib/python3.10/json/decoder.py:355\u001b[0m, in \u001b[0;36mJSONDecoder.raw_decode\u001b[0;34m(self, s, idx)\u001b[0m\n\u001b[1;32m    353\u001b[0m     obj, end \u001b[39m=\u001b[39m \u001b[39mself\u001b[39m\u001b[39m.\u001b[39mscan_once(s, idx)\n\u001b[1;32m    354\u001b[0m \u001b[39mexcept\u001b[39;00m \u001b[39mStopIteration\u001b[39;00m \u001b[39mas\u001b[39;00m err:\n\u001b[0;32m--> 355\u001b[0m     \u001b[39mraise\u001b[39;00m JSONDecodeError(\u001b[39m\"\u001b[39m\u001b[39mExpecting value\u001b[39m\u001b[39m\"\u001b[39m, s, err\u001b[39m.\u001b[39mvalue) \u001b[39mfrom\u001b[39;00m \u001b[39mNone\u001b[39;00m\n\u001b[1;32m    356\u001b[0m \u001b[39mreturn\u001b[39;00m obj, end\n",
      "\u001b[0;31mJSONDecodeError\u001b[0m: Expecting value: line 1 column 1 (char 0)"
     ]
    }
   ],
   "source": [
    "resp = urlopen(\n",
    "    \"http://localhost:8087\",\n",
    "    data=json.dumps(\n",
    "        {\n",
    "            \"query-url\": [\n",
    "                \"https://ru.wikipedia.org/wiki/Python\",\n",
    "                \"https://docs.python.org/3/library/threading.html\",\n",
    "            ],\n",
    "        }\n",
    "    ).encode(),\n",
    ")\n",
    "json.loads(resp.read())"
   ]
  },
  {
   "cell_type": "code",
   "execution_count": 119,
   "metadata": {},
   "outputs": [],
   "source": [
    "def getter():\n",
    "    resp = urlopen(\n",
    "        \"http://localhost:8087\",\n",
    "        data=urlencode(values).encode(),\n",
    "    )\n",
    "    return json.loads(resp.read())\n",
    "\n",
    "\n",
    "# response = asyncio.gather(*[getter() for _ in range(11)])"
   ]
  },
  {
   "cell_type": "code",
   "execution_count": 125,
   "metadata": {},
   "outputs": [
    {
     "name": "stdout",
     "output_type": "stream",
     "text": [
      "{'https://docs.python.org/3/library/threading.html': {'the': 468, 'is': 203, 'a': 179, 'to': 155, 'thread': 123}, 'https://ru.wikipedia.org/wiki/Python': {'python': 344, 'в': 315, 'и': 286, 'с': 147, 'на': 145}}\n",
      "{'https://docs.python.org/3/library/threading.html': {'the': 468, 'is': 203, 'a': 179, 'to': 155, 'thread': 123}, 'https://ru.wikipedia.org/wiki/Python': {'python': 344, 'в': 315, 'и': 286, 'с': 147, 'на': 145}}\n",
      "{'https://ru.wikipedia.org/wiki/Python': {'python': 344, 'в': 315, 'и': 286, 'с': 147, 'на': 145}, 'https://docs.python.org/3/library/threading.html': {'the': 468, 'is': 203, 'a': 179, 'to': 155, 'thread': 123}}\n",
      "{'https://docs.python.org/3/library/threading.html': {'the': 468, 'is': 203, 'a': 179, 'to': 155, 'thread': 123}, 'https://ru.wikipedia.org/wiki/Python': {'python': 344, 'в': 315, 'и': 286, 'с': 147, 'на': 145}}\n",
      "{'https://docs.python.org/3/library/threading.html': {'the': 468, 'is': 203, 'a': 179, 'to': 155, 'thread': 123}, 'https://ru.wikipedia.org/wiki/Python': {'python': 344, 'в': 315, 'и': 286, 'с': 147, 'на': 145}}\n",
      "{'https://docs.python.org/3/library/threading.html': {'the': 468, 'is': 203, 'a': 179, 'to': 155, 'thread': 123}, 'https://ru.wikipedia.org/wiki/Python': {'python': 344, 'в': 315, 'и': 286, 'с': 147, 'на': 145}}\n",
      "{'https://docs.python.org/3/library/threading.html': {'the': 468, 'is': 203, 'a': 179, 'to': 155, 'thread': 123}, 'https://ru.wikipedia.org/wiki/Python': {'python': 344, 'в': 315, 'и': 286, 'с': 147, 'на': 145}}\n",
      "{'https://docs.python.org/3/library/threading.html': {'the': 468, 'is': 203, 'a': 179, 'to': 155, 'thread': 123}, 'https://ru.wikipedia.org/wiki/Python': {'python': 344, 'в': 315, 'и': 286, 'с': 147, 'на': 145}}\n",
      "{'https://docs.python.org/3/library/threading.html': {'the': 468, 'is': 203, 'a': 179, 'to': 155, 'thread': 123}, 'https://ru.wikipedia.org/wiki/Python': {'python': 344, 'в': 315, 'и': 286, 'с': 147, 'на': 145}}\n",
      "{'https://docs.python.org/3/library/threading.html': {'the': 468, 'is': 203, 'a': 179, 'to': 155, 'thread': 123}, 'https://ru.wikipedia.org/wiki/Python': {'python': 344, 'в': 315, 'и': 286, 'с': 147, 'на': 145}}\n"
     ]
    }
   ],
   "source": [
    "import concurrent.futures\n",
    "\n",
    "with concurrent.futures.ThreadPoolExecutor(max_workers=5) as executor:\n",
    "    futures = [executor.submit(getter) for _ in range(10)]\n",
    "    for future in concurrent.futures.as_completed(futures):\n",
    "        print(future.result())"
   ]
  },
  {
   "cell_type": "code",
   "execution_count": 107,
   "metadata": {},
   "outputs": [
    {
     "data": {
      "text/plain": [
       "{'https://ru.wikipedia.org/wiki/Python': {'python': 344,\n",
       "  'в': 315,\n",
       "  'и': 286,\n",
       "  'с': 147,\n",
       "  'на': 145},\n",
       " 'https://docs.python.org/3/library/threading.html': {'the': 468,\n",
       "  'is': 203,\n",
       "  'a': 179,\n",
       "  'to': 155,\n",
       "  'thread': 123}}"
      ]
     },
     "execution_count": 107,
     "metadata": {},
     "output_type": "execute_result"
    }
   ],
   "source": [
    "resp = urlopen(\n",
    "    \"http://localhost:8087\",\n",
    "    data=urlencode(values).encode(),\n",
    ")\n",
    "json.loads(resp.read())"
   ]
  },
  {
   "cell_type": "code",
   "execution_count": 25,
   "metadata": {},
   "outputs": [
    {
     "data": {
      "text/plain": [
       "['server']"
      ]
     },
     "execution_count": 25,
     "metadata": {},
     "output_type": "execute_result"
    }
   ],
   "source": [
    "config = ConfigParser()\n",
    "config.read(\"./serve_config.ini\")\n",
    "config.sections()"
   ]
  },
  {
   "cell_type": "code",
   "execution_count": 27,
   "metadata": {},
   "outputs": [
    {
     "data": {
      "text/plain": [
       "'8087'"
      ]
     },
     "execution_count": 27,
     "metadata": {},
     "output_type": "execute_result"
    }
   ],
   "source": [
    "config.get(\"server\", \"port\")"
   ]
  },
  {
   "cell_type": "code",
   "execution_count": null,
   "metadata": {},
   "outputs": [],
   "source": [
    "async def tcp_echo_client(message):\n",
    "    reader, writer = await asyncio.open_connection(\"localhost\", 8888)\n",
    "\n",
    "    print(f\"Send: {message!r}\")\n",
    "    writer.write(message.encode())\n",
    "    await writer.drain()\n",
    "\n",
    "    data = await reader.read(1000)\n",
    "\n",
    "    # print(f\"Received: {data.decode()!r}\")\n",
    "    print(\"Received:\")\n",
    "\n",
    "    print(\"Close the connection\")\n",
    "    writer.close()\n",
    "    await writer.wait_closed()\n",
    "    print(json.loads(data.decode()))\n",
    "    return json.loads(data.decode())"
   ]
  },
  {
   "cell_type": "code",
   "execution_count": 10,
   "metadata": {},
   "outputs": [
    {
     "name": "stdout",
     "output_type": "stream",
     "text": [
      "Send: 'https://ru.wikipedia.org/wiki/Python'\n",
      "Send: 'https://ru.wikipedia.org/wiki/Python'\n",
      "Send: 'https://ru.wikipedia.org/wiki/Python'\n",
      "Send: 'https://ru.wikipedia.org/wiki/Python'\n",
      "Send: 'https://ru.wikipedia.org/wiki/Python'\n",
      "Send: 'https://ru.wikipedia.org/wiki/Python'\n",
      "Send: 'https://ru.wikipedia.org/wiki/Python'\n",
      "Send: 'https://ru.wikipedia.org/wiki/Python'\n",
      "Send: 'https://ru.wikipedia.org/wiki/Python'\n",
      "Send: 'https://ru.wikipedia.org/wiki/Python'\n",
      "Received:\n",
      "Close the connection\n",
      "{'python': 344, 'в': 313, 'и': 286, 'с': 147, 'на': 144, 'архивировано': 139, 'дата': 129, 'для': 116, 'править': 114}\n",
      "Received:\n",
      "Close the connection\n",
      "{'python': 344, 'в': 313, 'и': 286, 'с': 147, 'на': 144, 'архивировано': 139, 'дата': 129, 'для': 116, 'править': 114}\n",
      "Received:\n",
      "Close the connection\n",
      "{'python': 344, 'в': 313, 'и': 286, 'с': 147, 'на': 144, 'архивировано': 139, 'дата': 129, 'для': 116, 'править': 114}\n",
      "Received:\n",
      "Close the connection\n",
      "{'python': 344, 'в': 313, 'и': 286, 'с': 147, 'на': 144, 'архивировано': 139, 'дата': 129, 'для': 116, 'править': 114}\n",
      "Received:\n",
      "Close the connection\n",
      "{'python': 344, 'в': 313, 'и': 286, 'с': 147, 'на': 144, 'архивировано': 139, 'дата': 129, 'для': 116, 'править': 114}\n",
      "Received:\n",
      "Close the connection\n",
      "{'python': 344, 'в': 313, 'и': 286, 'с': 147, 'на': 144, 'архивировано': 139, 'дата': 129, 'для': 116, 'править': 114}\n",
      "Received:\n",
      "Close the connection\n",
      "{'python': 344, 'в': 313, 'и': 286, 'с': 147, 'на': 144, 'архивировано': 139, 'дата': 129, 'для': 116, 'править': 114}\n",
      "Received:\n",
      "Close the connection\n",
      "{'python': 344, 'в': 313, 'и': 286, 'с': 147, 'на': 144, 'архивировано': 139, 'дата': 129, 'для': 116, 'править': 114}\n",
      "Received:\n",
      "Close the connection\n",
      "{'python': 344, 'в': 313, 'и': 286, 'с': 147, 'на': 144, 'архивировано': 139, 'дата': 129, 'для': 116, 'править': 114}\n",
      "Received:\n",
      "Close the connection\n",
      "{'python': 344, 'в': 313, 'и': 286, 'с': 147, 'на': 144, 'архивировано': 139, 'дата': 129, 'для': 116, 'править': 114}\n"
     ]
    }
   ],
   "source": [
    "for _ in range(10):\n",
    "    th = threading.Thread(\n",
    "        target=asyncio.run,\n",
    "        args=(tcp_echo_client(\"https://ru.wikipedia.org/wiki/Python\"),),\n",
    "    )\n",
    "    th.start()"
   ]
  },
  {
   "cell_type": "code",
   "execution_count": 5,
   "metadata": {},
   "outputs": [
    {
     "name": "stdout",
     "output_type": "stream",
     "text": [
      "Send: 'https://ru.wikipedia.org/wiki/Python'\n",
      "Received: '{\"python\": 344, \"\\\\u0432\": 313, \"\\\\u0438\": 286, \"\\\\u0441\": 147, \"\\\\u043d\\\\u0430\": 144, \"\\\\u0430\\\\u0440\\\\u0445\\\\u0438\\\\u0432\\\\u0438\\\\u0440\\\\u043e\\\\u0432\\\\u0430\\\\u043d\\\\u043e\": 139, \"\\\\u0434\\\\u0430\\\\u0442\\\\u0430\": 129, \"\\\\u0434\\\\u043b\\\\u044f\": 116, \"\\\\u043f\\\\u0440\\\\u0430\\\\u0432\\\\u0438\\\\u0442\\\\u044c\": 114}'\n",
      "Close the connection\n"
     ]
    },
    {
     "data": {
      "text/plain": [
       "{'python': 344,\n",
       " 'в': 313,\n",
       " 'и': 286,\n",
       " 'с': 147,\n",
       " 'на': 144,\n",
       " 'архивировано': 139,\n",
       " 'дата': 129,\n",
       " 'для': 116,\n",
       " 'править': 114}"
      ]
     },
     "execution_count": 5,
     "metadata": {},
     "output_type": "execute_result"
    }
   ],
   "source": [
    "await tcp_echo_client(\"https://ru.wikipedia.org/wiki/Python\")"
   ]
  }
 ],
 "metadata": {
  "kernelspec": {
   "display_name": ".venv",
   "language": "python",
   "name": "python3"
  },
  "language_info": {
   "codemirror_mode": {
    "name": "ipython",
    "version": 3
   },
   "file_extension": ".py",
   "mimetype": "text/x-python",
   "name": "python",
   "nbconvert_exporter": "python",
   "pygments_lexer": "ipython3",
   "version": "3.10.12"
  }
 },
 "nbformat": 4,
 "nbformat_minor": 2
}
