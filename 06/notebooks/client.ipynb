{
 "cells": [
  {
   "cell_type": "code",
   "execution_count": 7,
   "metadata": {},
   "outputs": [],
   "source": [
    "import asyncio\n",
    "import json\n",
    "\n",
    "\n",
    "async def tcp_echo_client(message):\n",
    "    reader, writer = await asyncio.open_connection(\"localhost\", 8888)\n",
    "\n",
    "    print(f\"Send: {message!r}\")\n",
    "    writer.write(message.encode())\n",
    "    await writer.drain()\n",
    "\n",
    "    data = await reader.read(1000)\n",
    "    \n",
    "    # print(f\"Received: {data.decode()!r}\")\n",
    "    print(\"Received:\")\n",
    "\n",
    "    print(\"Close the connection\")\n",
    "    writer.close()\n",
    "    await writer.wait_closed()\n",
    "    print(json.loads(data.decode()))\n",
    "    return json.loads(data.decode())"
   ]
  },
  {
   "cell_type": "code",
   "execution_count": 10,
   "metadata": {},
   "outputs": [
    {
     "name": "stdout",
     "output_type": "stream",
     "text": [
      "Send: 'https://ru.wikipedia.org/wiki/Python'\n",
      "Send: 'https://ru.wikipedia.org/wiki/Python'\n",
      "Send: 'https://ru.wikipedia.org/wiki/Python'\n",
      "Send: 'https://ru.wikipedia.org/wiki/Python'\n",
      "Send: 'https://ru.wikipedia.org/wiki/Python'\n",
      "Send: 'https://ru.wikipedia.org/wiki/Python'\n",
      "Send: 'https://ru.wikipedia.org/wiki/Python'\n",
      "Send: 'https://ru.wikipedia.org/wiki/Python'\n",
      "Send: 'https://ru.wikipedia.org/wiki/Python'\n",
      "Send: 'https://ru.wikipedia.org/wiki/Python'\n",
      "Received:\n",
      "Close the connection\n",
      "{'python': 344, 'в': 313, 'и': 286, 'с': 147, 'на': 144, 'архивировано': 139, 'дата': 129, 'для': 116, 'править': 114}\n",
      "Received:\n",
      "Close the connection\n",
      "{'python': 344, 'в': 313, 'и': 286, 'с': 147, 'на': 144, 'архивировано': 139, 'дата': 129, 'для': 116, 'править': 114}\n",
      "Received:\n",
      "Close the connection\n",
      "{'python': 344, 'в': 313, 'и': 286, 'с': 147, 'на': 144, 'архивировано': 139, 'дата': 129, 'для': 116, 'править': 114}\n",
      "Received:\n",
      "Close the connection\n",
      "{'python': 344, 'в': 313, 'и': 286, 'с': 147, 'на': 144, 'архивировано': 139, 'дата': 129, 'для': 116, 'править': 114}\n",
      "Received:\n",
      "Close the connection\n",
      "{'python': 344, 'в': 313, 'и': 286, 'с': 147, 'на': 144, 'архивировано': 139, 'дата': 129, 'для': 116, 'править': 114}\n",
      "Received:\n",
      "Close the connection\n",
      "{'python': 344, 'в': 313, 'и': 286, 'с': 147, 'на': 144, 'архивировано': 139, 'дата': 129, 'для': 116, 'править': 114}\n",
      "Received:\n",
      "Close the connection\n",
      "{'python': 344, 'в': 313, 'и': 286, 'с': 147, 'на': 144, 'архивировано': 139, 'дата': 129, 'для': 116, 'править': 114}\n",
      "Received:\n",
      "Close the connection\n",
      "{'python': 344, 'в': 313, 'и': 286, 'с': 147, 'на': 144, 'архивировано': 139, 'дата': 129, 'для': 116, 'править': 114}\n",
      "Received:\n",
      "Close the connection\n",
      "{'python': 344, 'в': 313, 'и': 286, 'с': 147, 'на': 144, 'архивировано': 139, 'дата': 129, 'для': 116, 'править': 114}\n",
      "Received:\n",
      "Close the connection\n",
      "{'python': 344, 'в': 313, 'и': 286, 'с': 147, 'на': 144, 'архивировано': 139, 'дата': 129, 'для': 116, 'править': 114}\n"
     ]
    }
   ],
   "source": [
    "import threading\n",
    "\n",
    "\n",
    "for i in range(10):\n",
    "    th = threading.Thread(\n",
    "        target=asyncio.run,\n",
    "        args=(tcp_echo_client(\"https://ru.wikipedia.org/wiki/Python\"),),\n",
    "    )\n",
    "    th.start()"
   ]
  },
  {
   "cell_type": "code",
   "execution_count": 5,
   "metadata": {},
   "outputs": [
    {
     "name": "stdout",
     "output_type": "stream",
     "text": [
      "Send: 'https://ru.wikipedia.org/wiki/Python'\n",
      "Received: '{\"python\": 344, \"\\\\u0432\": 313, \"\\\\u0438\": 286, \"\\\\u0441\": 147, \"\\\\u043d\\\\u0430\": 144, \"\\\\u0430\\\\u0440\\\\u0445\\\\u0438\\\\u0432\\\\u0438\\\\u0440\\\\u043e\\\\u0432\\\\u0430\\\\u043d\\\\u043e\": 139, \"\\\\u0434\\\\u0430\\\\u0442\\\\u0430\": 129, \"\\\\u0434\\\\u043b\\\\u044f\": 116, \"\\\\u043f\\\\u0440\\\\u0430\\\\u0432\\\\u0438\\\\u0442\\\\u044c\": 114}'\n",
      "Close the connection\n"
     ]
    },
    {
     "data": {
      "text/plain": [
       "{'python': 344,\n",
       " 'в': 313,\n",
       " 'и': 286,\n",
       " 'с': 147,\n",
       " 'на': 144,\n",
       " 'архивировано': 139,\n",
       " 'дата': 129,\n",
       " 'для': 116,\n",
       " 'править': 114}"
      ]
     },
     "execution_count": 5,
     "metadata": {},
     "output_type": "execute_result"
    }
   ],
   "source": [
    "await tcp_echo_client(\"https://ru.wikipedia.org/wiki/Python\")"
   ]
  }
 ],
 "metadata": {
  "kernelspec": {
   "display_name": ".venv",
   "language": "python",
   "name": "python3"
  },
  "language_info": {
   "codemirror_mode": {
    "name": "ipython",
    "version": 3
   },
   "file_extension": ".py",
   "mimetype": "text/x-python",
   "name": "python",
   "nbconvert_exporter": "python",
   "pygments_lexer": "ipython3",
   "version": "3.10.11"
  }
 },
 "nbformat": 4,
 "nbformat_minor": 2
}
