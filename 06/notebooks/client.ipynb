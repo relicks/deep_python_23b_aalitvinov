{
 "cells": [
  {
   "cell_type": "code",
   "execution_count": 3,
   "metadata": {},
   "outputs": [],
   "source": [
    "import asyncio\n",
    "import json\n",
    "import sys\n",
    "import threading\n",
    "from configparser import ConfigParser\n",
    "from pprint import pp\n",
    "from urllib.request import urlopen"
   ]
  },
  {
   "cell_type": "code",
   "execution_count": 62,
   "metadata": {},
   "outputs": [
    {
     "name": "stdout",
     "output_type": "stream",
     "text": [
      "24\n"
     ]
    }
   ],
   "source": [
    "with open(\"urls.txt\") as fs:\n",
    "    urls_list = [line.rstrip(\"\\r\\n\") for line in fs.readlines()]\n",
    "print(len(urls_list))"
   ]
  },
  {
   "cell_type": "code",
   "execution_count": 49,
   "metadata": {},
   "outputs": [
    {
     "name": "stdout",
     "output_type": "stream",
     "text": [
      "200\n",
      "{'urls': {'https://docs.python.org/3/library/threading.html': {'the': 468,\n",
      "                                                               'is': 203,\n",
      "                                                               'a': 179,\n",
      "                                                               'to': 155,\n",
      "                                                               'thread': 123},\n",
      "          'https://ru.wikipedia.org/wiki/Python': {'python': 344,\n",
      "                                                   'в': 315,\n",
      "                                                   'и': 286,\n",
      "                                                   'с': 147,\n",
      "                                                   'на': 145}}}\n"
     ]
    }
   ],
   "source": [
    "values = {\n",
    "    \"urls\": [\n",
    "        \"https://ru.wikipedia.org/wiki/Python\",\n",
    "        \"https://docs.python.org/3/library/threading.html\",\n",
    "    ],\n",
    "}\n",
    "\n",
    "with urlopen(\"http://localhost:8087\", data=json.dumps(values).encode()) as resp:\n",
    "    print(resp.code)\n",
    "    pp(json.loads(resp.read()))"
   ]
  },
  {
   "cell_type": "code",
   "execution_count": 45,
   "metadata": {},
   "outputs": [],
   "source": [
    "def getter():\n",
    "    resp = urlopen(\"http://localhost:8087\", data=json.dumps(values).encode())\n",
    "    return json.loads(resp.read())\n",
    "\n",
    "\n",
    "# response = asyncio.gather(*[getter() for _ in range(11)])"
   ]
  },
  {
   "cell_type": "code",
   "execution_count": 46,
   "metadata": {},
   "outputs": [
    {
     "name": "stdout",
     "output_type": "stream",
     "text": [
      "{'urls': {'urls': {'https://docs.python.org/3/library/threading.html': {'the': 468, 'is': 203, 'a': 179, 'to': 155, 'thread': 123}, 'https://ru.wikipedia.org/wiki/Python': {'python': 344, 'в': 315, 'и': 286, 'с': 147, 'на': 145}}}}\n",
      "{'urls': {'urls': {'https://docs.python.org/3/library/threading.html': {'the': 468, 'is': 203, 'a': 179, 'to': 155, 'thread': 123}, 'https://ru.wikipedia.org/wiki/Python': {'python': 344, 'в': 315, 'и': 286, 'с': 147, 'на': 145}}}}\n",
      "{'urls': {'urls': {'https://docs.python.org/3/library/threading.html': {'the': 468, 'is': 203, 'a': 179, 'to': 155, 'thread': 123}, 'https://ru.wikipedia.org/wiki/Python': {'python': 344, 'в': 315, 'и': 286, 'с': 147, 'на': 145}}}}\n",
      "{'urls': {'urls': {'https://docs.python.org/3/library/threading.html': {'the': 468, 'is': 203, 'a': 179, 'to': 155, 'thread': 123}, 'https://ru.wikipedia.org/wiki/Python': {'python': 344, 'в': 315, 'и': 286, 'с': 147, 'на': 145}}}}\n",
      "{'urls': {'urls': {'https://docs.python.org/3/library/threading.html': {'the': 468, 'is': 203, 'a': 179, 'to': 155, 'thread': 123}, 'https://ru.wikipedia.org/wiki/Python': {'python': 344, 'в': 315, 'и': 286, 'с': 147, 'на': 145}}}}\n",
      "{'urls': {'urls': {'https://docs.python.org/3/library/threading.html': {'the': 468, 'is': 203, 'a': 179, 'to': 155, 'thread': 123}, 'https://ru.wikipedia.org/wiki/Python': {'python': 344, 'в': 315, 'и': 286, 'с': 147, 'на': 145}}}}\n",
      "{'urls': {'urls': {'https://docs.python.org/3/library/threading.html': {'the': 468, 'is': 203, 'a': 179, 'to': 155, 'thread': 123}, 'https://ru.wikipedia.org/wiki/Python': {'python': 344, 'в': 315, 'и': 286, 'с': 147, 'на': 145}}}}\n",
      "{'urls': {'urls': {'https://docs.python.org/3/library/threading.html': {'the': 468, 'is': 203, 'a': 179, 'to': 155, 'thread': 123}, 'https://ru.wikipedia.org/wiki/Python': {'python': 344, 'в': 315, 'и': 286, 'с': 147, 'на': 145}}}}\n",
      "{'urls': {'urls': {'https://docs.python.org/3/library/threading.html': {'the': 468, 'is': 203, 'a': 179, 'to': 155, 'thread': 123}, 'https://ru.wikipedia.org/wiki/Python': {'python': 344, 'в': 315, 'и': 286, 'с': 147, 'на': 145}}}}\n",
      "{'urls': {'urls': {'https://docs.python.org/3/library/threading.html': {'the': 468, 'is': 203, 'a': 179, 'to': 155, 'thread': 123}, 'https://ru.wikipedia.org/wiki/Python': {'python': 344, 'в': 315, 'и': 286, 'с': 147, 'на': 145}}}}\n"
     ]
    }
   ],
   "source": [
    "import concurrent.futures\n",
    "\n",
    "with concurrent.futures.ThreadPoolExecutor(max_workers=5) as executor:\n",
    "    futures = [executor.submit(getter) for _ in range(10)]\n",
    "    for future in concurrent.futures.as_completed(futures):\n",
    "        print(future.result())"
   ]
  },
  {
   "cell_type": "code",
   "execution_count": 25,
   "metadata": {},
   "outputs": [
    {
     "data": {
      "text/plain": [
       "['server']"
      ]
     },
     "execution_count": 25,
     "metadata": {},
     "output_type": "execute_result"
    }
   ],
   "source": [
    "config = ConfigParser()\n",
    "config.read(\"./serve_config.ini\")\n",
    "config.sections()"
   ]
  },
  {
   "cell_type": "code",
   "execution_count": 27,
   "metadata": {},
   "outputs": [
    {
     "data": {
      "text/plain": [
       "'8087'"
      ]
     },
     "execution_count": 27,
     "metadata": {},
     "output_type": "execute_result"
    }
   ],
   "source": [
    "config.get(\"server\", \"port\")"
   ]
  },
  {
   "cell_type": "code",
   "execution_count": null,
   "metadata": {},
   "outputs": [],
   "source": [
    "async def tcp_echo_client(message):\n",
    "    reader, writer = await asyncio.open_connection(\"localhost\", 8888)\n",
    "\n",
    "    print(f\"Send: {message!r}\")\n",
    "    writer.write(message.encode())\n",
    "    await writer.drain()\n",
    "\n",
    "    data = await reader.read(1000)\n",
    "\n",
    "    # print(f\"Received: {data.decode()!r}\")\n",
    "    print(\"Received:\")\n",
    "\n",
    "    print(\"Close the connection\")\n",
    "    writer.close()\n",
    "    await writer.wait_closed()\n",
    "    print(json.loads(data.decode()))\n",
    "    return json.loads(data.decode())"
   ]
  },
  {
   "cell_type": "code",
   "execution_count": 10,
   "metadata": {},
   "outputs": [
    {
     "name": "stdout",
     "output_type": "stream",
     "text": [
      "Send: 'https://ru.wikipedia.org/wiki/Python'\n",
      "Send: 'https://ru.wikipedia.org/wiki/Python'\n",
      "Send: 'https://ru.wikipedia.org/wiki/Python'\n",
      "Send: 'https://ru.wikipedia.org/wiki/Python'\n",
      "Send: 'https://ru.wikipedia.org/wiki/Python'\n",
      "Send: 'https://ru.wikipedia.org/wiki/Python'\n",
      "Send: 'https://ru.wikipedia.org/wiki/Python'\n",
      "Send: 'https://ru.wikipedia.org/wiki/Python'\n",
      "Send: 'https://ru.wikipedia.org/wiki/Python'\n",
      "Send: 'https://ru.wikipedia.org/wiki/Python'\n",
      "Received:\n",
      "Close the connection\n",
      "{'python': 344, 'в': 313, 'и': 286, 'с': 147, 'на': 144, 'архивировано': 139, 'дата': 129, 'для': 116, 'править': 114}\n",
      "Received:\n",
      "Close the connection\n",
      "{'python': 344, 'в': 313, 'и': 286, 'с': 147, 'на': 144, 'архивировано': 139, 'дата': 129, 'для': 116, 'править': 114}\n",
      "Received:\n",
      "Close the connection\n",
      "{'python': 344, 'в': 313, 'и': 286, 'с': 147, 'на': 144, 'архивировано': 139, 'дата': 129, 'для': 116, 'править': 114}\n",
      "Received:\n",
      "Close the connection\n",
      "{'python': 344, 'в': 313, 'и': 286, 'с': 147, 'на': 144, 'архивировано': 139, 'дата': 129, 'для': 116, 'править': 114}\n",
      "Received:\n",
      "Close the connection\n",
      "{'python': 344, 'в': 313, 'и': 286, 'с': 147, 'на': 144, 'архивировано': 139, 'дата': 129, 'для': 116, 'править': 114}\n",
      "Received:\n",
      "Close the connection\n",
      "{'python': 344, 'в': 313, 'и': 286, 'с': 147, 'на': 144, 'архивировано': 139, 'дата': 129, 'для': 116, 'править': 114}\n",
      "Received:\n",
      "Close the connection\n",
      "{'python': 344, 'в': 313, 'и': 286, 'с': 147, 'на': 144, 'архивировано': 139, 'дата': 129, 'для': 116, 'править': 114}\n",
      "Received:\n",
      "Close the connection\n",
      "{'python': 344, 'в': 313, 'и': 286, 'с': 147, 'на': 144, 'архивировано': 139, 'дата': 129, 'для': 116, 'править': 114}\n",
      "Received:\n",
      "Close the connection\n",
      "{'python': 344, 'в': 313, 'и': 286, 'с': 147, 'на': 144, 'архивировано': 139, 'дата': 129, 'для': 116, 'править': 114}\n",
      "Received:\n",
      "Close the connection\n",
      "{'python': 344, 'в': 313, 'и': 286, 'с': 147, 'на': 144, 'архивировано': 139, 'дата': 129, 'для': 116, 'править': 114}\n"
     ]
    }
   ],
   "source": [
    "for _ in range(10):\n",
    "    th = threading.Thread(\n",
    "        target=asyncio.run,\n",
    "        args=(tcp_echo_client(\"https://ru.wikipedia.org/wiki/Python\"),),\n",
    "    )\n",
    "    th.start()"
   ]
  },
  {
   "cell_type": "code",
   "execution_count": 5,
   "metadata": {},
   "outputs": [
    {
     "name": "stdout",
     "output_type": "stream",
     "text": [
      "Send: 'https://ru.wikipedia.org/wiki/Python'\n",
      "Received: '{\"python\": 344, \"\\\\u0432\": 313, \"\\\\u0438\": 286, \"\\\\u0441\": 147, \"\\\\u043d\\\\u0430\": 144, \"\\\\u0430\\\\u0440\\\\u0445\\\\u0438\\\\u0432\\\\u0438\\\\u0440\\\\u043e\\\\u0432\\\\u0430\\\\u043d\\\\u043e\": 139, \"\\\\u0434\\\\u0430\\\\u0442\\\\u0430\": 129, \"\\\\u0434\\\\u043b\\\\u044f\": 116, \"\\\\u043f\\\\u0440\\\\u0430\\\\u0432\\\\u0438\\\\u0442\\\\u044c\": 114}'\n",
      "Close the connection\n"
     ]
    },
    {
     "data": {
      "text/plain": [
       "{'python': 344,\n",
       " 'в': 313,\n",
       " 'и': 286,\n",
       " 'с': 147,\n",
       " 'на': 144,\n",
       " 'архивировано': 139,\n",
       " 'дата': 129,\n",
       " 'для': 116,\n",
       " 'править': 114}"
      ]
     },
     "execution_count": 5,
     "metadata": {},
     "output_type": "execute_result"
    }
   ],
   "source": [
    "await tcp_echo_client(\"https://ru.wikipedia.org/wiki/Python\")"
   ]
  }
 ],
 "metadata": {
  "kernelspec": {
   "display_name": ".venv",
   "language": "python",
   "name": "python3"
  },
  "language_info": {
   "codemirror_mode": {
    "name": "ipython",
    "version": 3
   },
   "file_extension": ".py",
   "mimetype": "text/x-python",
   "name": "python",
   "nbconvert_exporter": "python",
   "pygments_lexer": "ipython3",
   "version": "3.10.12"
  }
 },
 "nbformat": 4,
 "nbformat_minor": 2
}
