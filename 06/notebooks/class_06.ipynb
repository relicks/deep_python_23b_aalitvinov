{
 "cells": [
  {
   "cell_type": "code",
   "execution_count": 1,
   "id": "692f1d44",
   "metadata": {},
   "outputs": [],
   "source": [
    "import threading"
   ]
  },
  {
   "cell_type": "code",
   "execution_count": 9,
   "id": "034eb2f1",
   "metadata": {},
   "outputs": [
    {
     "data": {
      "text/plain": [
       "7"
      ]
     },
     "execution_count": 9,
     "metadata": {},
     "output_type": "execute_result"
    }
   ],
   "source": [
    "threading.active_count()"
   ]
  },
  {
   "cell_type": "code",
   "execution_count": 10,
   "id": "711233fe",
   "metadata": {},
   "outputs": [
    {
     "data": {
      "text/plain": [
       "[<_MainThread(MainThread, started 140305936097280)>,\n",
       " <Thread(IOPub, started daemon 140305870370368)>,\n",
       " <Heartbeat(Heartbeat, started daemon 140305861977664)>,\n",
       " <Thread(Thread-2 (_watch_pipe_fd), started daemon 140305634420288)>,\n",
       " <Thread(Thread-3 (_watch_pipe_fd), started daemon 140305626027584)>,\n",
       " <ControlThread(Control, started daemon 140305617634880)>,\n",
       " <HistorySavingThread(IPythonHistorySavingThread, started 140305609242176)>]"
      ]
     },
     "execution_count": 10,
     "metadata": {},
     "output_type": "execute_result"
    }
   ],
   "source": [
    "threading.enumerate()"
   ]
  },
  {
   "cell_type": "code",
   "execution_count": 11,
   "id": "835a890a",
   "metadata": {},
   "outputs": [
    {
     "data": {
      "text/plain": [
       "<_MainThread(MainThread, started 140305936097280)>"
      ]
     },
     "execution_count": 11,
     "metadata": {},
     "output_type": "execute_result"
    }
   ],
   "source": [
    "threading.current_thread()"
   ]
  },
  {
   "cell_type": "code",
   "execution_count": 5,
   "id": "c298cc2f",
   "metadata": {},
   "outputs": [
    {
     "data": {
      "text/plain": [
       "('MainThread', 140305936097280, 9183)"
      ]
     },
     "execution_count": 5,
     "metadata": {},
     "output_type": "execute_result"
    }
   ],
   "source": [
    "th = threading.main_thread()\n",
    "th.name, th.ident, th.native_id"
   ]
  },
  {
   "cell_type": "code",
   "execution_count": 6,
   "id": "d95afc00",
   "metadata": {},
   "outputs": [
    {
     "name": "stdout",
     "output_type": "stream",
     "text": [
      "th.name='Thread-4'\n"
     ]
    },
    {
     "name": "stdout",
     "output_type": "stream",
     "text": [
      "slept 0\n",
      "slept 1\n",
      "slept 2\n",
      "slept 3\n",
      "slept 4\n",
      "slept 5\n",
      "slept 6\n",
      "slept 7\n",
      "slept 8\n",
      "slept 9\n"
     ]
    }
   ],
   "source": [
    "import time\n",
    "\n",
    "\n",
    "class PersonThread(threading.Thread):\n",
    "    def __init__(self, n):\n",
    "        super().__init__()\n",
    "        self.n = n\n",
    "\n",
    "    def run(self):\n",
    "        th = threading.current_thread()\n",
    "        print(f\"{th.name=}\")\n",
    "\n",
    "        for i in range(self.n):\n",
    "            time.sleep(1)\n",
    "            print(f\"slept {i}\")\n",
    "\n",
    "\n",
    "th = PersonThread(10)\n",
    "th.start()\n",
    "# th.join()"
   ]
  },
  {
   "cell_type": "code",
   "execution_count": 34,
   "metadata": {},
   "outputs": [],
   "source": [
    "def runner(n):\n",
    "    th = threading.current_thread()\n",
    "    print(f\"{th.name=}\")\n",
    "\n",
    "    for i in range(n):\n",
    "        time.sleep(1)\n",
    "        print(f\"slept {i}\")\n",
    "\n",
    "\n",
    "th = threading.Thread(target=runner, args=(5,))\n",
    "th2 = threading.Thread(target=runner, args=(10,))"
   ]
  },
  {
   "cell_type": "code",
   "execution_count": 25,
   "metadata": {},
   "outputs": [
    {
     "data": {
      "text/plain": [
       "<_MainThread(MainThread, started 140305936097280)>"
      ]
     },
     "execution_count": 25,
     "metadata": {},
     "output_type": "execute_result"
    }
   ],
   "source": [
    "threading.current_thread()"
   ]
  },
  {
   "cell_type": "code",
   "execution_count": 35,
   "metadata": {},
   "outputs": [
    {
     "name": "stdout",
     "output_type": "stream",
     "text": [
      "th.name='Thread-20 (runner)'\n",
      "slept 0\n",
      "slept 1\n",
      "slept 2\n",
      "slept 3\n",
      "slept 4\n",
      "th.name='Thread-21 (runner)'\n",
      "slept 0\n",
      "slept 1\n",
      "slept 2\n",
      "slept 3\n",
      "slept 4\n",
      "slept 5\n",
      "slept 6\n",
      "slept 7\n",
      "slept 8\n",
      "slept 9\n"
     ]
    }
   ],
   "source": [
    "th.start()\n",
    "th2.start()\n",
    "th.join()\n",
    "th2.join()"
   ]
  },
  {
   "cell_type": "code",
   "execution_count": 21,
   "id": "ff1dafe5",
   "metadata": {},
   "outputs": [
    {
     "data": {
      "text/plain": [
       "False"
      ]
     },
     "execution_count": 21,
     "metadata": {},
     "output_type": "execute_result"
    }
   ],
   "source": [
    "th.is_alive()"
   ]
  },
  {
   "cell_type": "code",
   "execution_count": 15,
   "id": "f0934643",
   "metadata": {},
   "outputs": [
    {
     "name": "stdout",
     "output_type": "stream",
     "text": [
      "CPU times: user 13.3 s, sys: 0 ns, total: 13.3 s\n",
      "Wall time: 14.4 s\n"
     ]
    }
   ],
   "source": [
    "%%time\n",
    "\n",
    "N = 100_000_000\n",
    "\n",
    "\n",
    "def counter(a, b):\n",
    "    while a < b:\n",
    "        a += 1\n",
    "\n",
    "\n",
    "counter(0, N)"
   ]
  },
  {
   "cell_type": "code",
   "execution_count": 38,
   "id": "2d4926c9",
   "metadata": {},
   "outputs": [
    {
     "name": "stdout",
     "output_type": "stream",
     "text": [
      "th.name='count-0', th.native_id=27377\n",
      "th.name='count-1', th.native_id=27381\n",
      "th.name='count-2', th.native_id=27385\n",
      "th.name='count-3', th.native_id=27389\n",
      "th.name='count-4', th.native_id=27393\n",
      "th.name='count-5', th.native_id=27397\n",
      "th.name='count-6', th.native_id=27401\n",
      "th.name='count-7', th.native_id=27405\n",
      "CPU times: user 15.9 ms, sys: 0 ns, total: 15.9 ms\n",
      "Wall time: 34.3 ms\n"
     ]
    }
   ],
   "source": [
    "%%time\n",
    "\n",
    "N = 100_000\n",
    "N_THREADS = 8\n",
    "SIZE = N // N_THREADS\n",
    "\n",
    "\n",
    "def counter(a, b):\n",
    "    th = threading.current_thread()\n",
    "    print(f\"{th.name=}, {th.native_id=}\")\n",
    "\n",
    "    while a < b:\n",
    "        a += 1\n",
    "\n",
    "\n",
    "threads = [\n",
    "    threading.Thread(\n",
    "        target=counter,\n",
    "        name=f\"count-{i}\",\n",
    "        args=(i * SIZE, (i + 1) * SIZE),\n",
    "    )\n",
    "    for i in range(N_THREADS)\n",
    "]\n",
    "\n",
    "for th in threads:\n",
    "    th.start()\n",
    "\n",
    "for th in threads:\n",
    "    th.join()"
   ]
  },
  {
   "cell_type": "code",
   "execution_count": null,
   "id": "e6817131",
   "metadata": {},
   "outputs": [],
   "source": []
  },
  {
   "cell_type": "code",
   "execution_count": 39,
   "id": "eb23b9d8",
   "metadata": {},
   "outputs": [],
   "source": [
    "from urllib.request import urlopen"
   ]
  },
  {
   "cell_type": "code",
   "execution_count": 41,
   "id": "4d0bf904",
   "metadata": {},
   "outputs": [
    {
     "name": "stdout",
     "output_type": "stream",
     "text": [
      "th.name='MainThread', th.native_id=9183, len(urls)=100\n",
      "CPU times: user 1.8 s, sys: 183 ms, total: 1.98 s\n",
      "Wall time: 25.8 s\n"
     ]
    }
   ],
   "source": [
    "%%time\n",
    "\n",
    "N = 100\n",
    "N_THREADS = 8\n",
    "SIZE = N // N_THREADS\n",
    "\n",
    "URL = \"https://ru.wikipedia.org/wiki/Python\"\n",
    "URLS = [URL] * N\n",
    "\n",
    "\n",
    "def fetch_url(url):\n",
    "    resp = urlopen(url)\n",
    "    return resp\n",
    "\n",
    "\n",
    "def fetch_batch_urls(urls):\n",
    "    th = threading.current_thread()\n",
    "    print(f\"{th.name=}, {th.native_id=}, {len(urls)=}\")\n",
    "\n",
    "    for url in urls:\n",
    "        fetch_url(url)\n",
    "\n",
    "\n",
    "fetch_batch_urls(URLS)"
   ]
  },
  {
   "cell_type": "code",
   "execution_count": 49,
   "metadata": {},
   "outputs": [],
   "source": [
    "resp = urlopen(URL)"
   ]
  },
  {
   "cell_type": "code",
   "execution_count": 51,
   "id": "c04ca3aa",
   "metadata": {},
   "outputs": [
    {
     "name": "stdout",
     "output_type": "stream",
     "text": [
      "CPU times: user 108 µs, sys: 0 ns, total: 108 µs\n",
      "Wall time: 118 µs\n"
     ]
    }
   ],
   "source": [
    "%%time\n",
    "\n",
    "N = 100\n",
    "N_THREADS = 50\n",
    "SIZE = N // N_THREADS\n",
    "\n",
    "URL = \"https://ru.wikipedia.org/wiki/Python\"\n",
    "URLS = [URL] * N\n",
    "\n",
    "\n",
    "def fetch_url(url):\n",
    "    # time.sleep(0.1)\n",
    "    resp = urlopen(url)\n",
    "    return resp\n",
    "\n",
    "\n",
    "def fetch_batch_urls(urls):\n",
    "    th = threading.current_thread()\n",
    "    print(f\"{th.name=}, {th.native_id=}, {len(urls)=}\")\n",
    "\n",
    "    for url in urls:\n",
    "        fetch_url(url)\n",
    "\n",
    "\n",
    "def run_exp(n_threads, n):\n",
    "    size = n // n_threads\n",
    "\n",
    "    threads = [\n",
    "        threading.Thread(\n",
    "            target=fetch_batch_urls,\n",
    "            name=f\"fetch-{i}\",\n",
    "            args=(URLS[i * size : (i + 1) * size],),\n",
    "        )\n",
    "        for i in range(n_threads)\n",
    "    ]\n",
    "\n",
    "    for th in threads:\n",
    "        th.start()\n",
    "\n",
    "    # for th in threads:\n",
    "    #     th.join()"
   ]
  },
  {
   "cell_type": "code",
   "execution_count": 52,
   "id": "29285074",
   "metadata": {},
   "outputs": [
    {
     "name": "stdout",
     "output_type": "stream",
     "text": [
      "th.name='fetch-0', th.native_id=28814, len(urls)=25\n",
      "th.name='fetch-1', th.native_id=28818, len(urls)=25\n",
      "th.name='fetch-2', th.native_id=28822, len(urls)=25\n",
      "th.name='fetch-3', th.native_id=28826, len(urls)=25\n",
      "CPU times: user 6.42 ms, sys: 9.99 ms, total: 16.4 ms\n",
      "Wall time: 10.1 ms\n"
     ]
    }
   ],
   "source": [
    "%%time\n",
    "\n",
    "run_exp(4, 100)"
   ]
  },
  {
   "cell_type": "code",
   "execution_count": 28,
   "id": "02c29675",
   "metadata": {},
   "outputs": [
    {
     "name": "stdout",
     "output_type": "stream",
     "text": [
      "th.name='fetch-0', th.native_id=3916, len(urls)=1\n",
      "th.name='fetch-1', th.native_id=3917, len(urls)=1\n",
      "th.name='fetch-2', th.native_id=3918, len(urls)=1\n",
      "th.name='fetch-3', th.native_id=3919, len(urls)=1\n",
      "th.name='fetch-4', th.native_id=3920, len(urls)=1\n",
      "th.name='fetch-5', th.native_id=3921, len(urls)=1\n",
      "th.name='fetch-6', th.native_id=3922, len(urls)=1\n",
      "th.name='fetch-7', th.native_id=3923, len(urls)=1\n",
      "th.name='fetch-8', th.native_id=3924, len(urls)=1\n",
      "th.name='fetch-9', th.native_id=3925, len(urls)=1\n",
      "th.name='fetch-10', th.native_id=3926, len(urls)=1\n",
      "th.name='fetch-11', th.native_id=3927, len(urls)=1\n",
      "th.name='fetch-12', th.native_id=3928, len(urls)=1\n",
      "th.name='fetch-13', th.native_id=3929, len(urls)=1\n",
      "th.name='fetch-14', th.native_id=3930, len(urls)=1\n",
      "th.name='fetch-15', th.native_id=3931, len(urls)=1\n",
      "th.name='fetch-16', th.native_id=3932, len(urls)=1\n",
      "th.name='fetch-17', th.native_id=3933, len(urls)=1\n",
      "th.name='fetch-18', th.native_id=3934, len(urls)=1\n",
      "th.name='fetch-19', th.native_id=3935, len(urls)=1\n",
      "th.name='fetch-20', th.native_id=3936, len(urls)=1\n",
      "th.name='fetch-21', th.native_id=3937, len(urls)=1\n",
      "th.name='fetch-22', th.native_id=3938, len(urls)=1\n",
      "th.name='fetch-23', th.native_id=3939, len(urls)=1\n",
      "th.name='fetch-24', th.native_id=3940, len(urls)=1\n",
      "th.name='fetch-25', th.native_id=3941, len(urls)=1\n",
      "th.name='fetch-26', th.native_id=3942, len(urls)=1\n",
      "th.name='fetch-27', th.native_id=3943, len(urls)=1\n",
      "th.name='fetch-28', th.native_id=3944, len(urls)=1\n",
      "th.name='fetch-29', th.native_id=3945, len(urls)=1\n",
      "th.name='fetch-30', th.native_id=3946, len(urls)=1\n",
      "th.name='fetch-31', th.native_id=3947, len(urls)=1\n",
      "th.name='fetch-32', th.native_id=3948, len(urls)=1\n",
      "th.name='fetch-33', th.native_id=3949, len(urls)=1\n",
      "th.name='fetch-34', th.native_id=3950, len(urls)=1\n",
      "th.name='fetch-35', th.native_id=3951, len(urls)=1\n",
      "th.name='fetch-36', th.native_id=3952, len(urls)=1\n",
      "th.name='fetch-37', th.native_id=3953, len(urls)=1\n",
      "th.name='fetch-38', th.native_id=3954, len(urls)=1\n",
      "th.name='fetch-39', th.native_id=3955, len(urls)=1\n",
      "th.name='fetch-40', th.native_id=3956, len(urls)=1\n",
      "th.name='fetch-41', th.native_id=3957, len(urls)=1\n",
      "th.name='fetch-42', th.native_id=3958, len(urls)=1\n",
      "th.name='fetch-43', th.native_id=3959, len(urls)=1\n",
      "th.name='fetch-44', th.native_id=3960, len(urls)=1\n",
      "th.name='fetch-45', th.native_id=3961, len(urls)=1\n",
      "th.name='fetch-46', th.native_id=3962, len(urls)=1\n",
      "th.name='fetch-47', th.native_id=3963, len(urls)=1\n",
      "th.name='fetch-48', th.native_id=3964, len(urls)=1\n",
      "th.name='fetch-49', th.native_id=3965, len(urls)=1\n",
      "th.name='fetch-50', th.native_id=3966, len(urls)=1\n",
      "th.name='fetch-51', th.native_id=3967, len(urls)=1\n",
      "th.name='fetch-52', th.native_id=3968, len(urls)=1\n",
      "th.name='fetch-53', th.native_id=3969, len(urls)=1\n",
      "th.name='fetch-54', th.native_id=3970, len(urls)=1\n",
      "th.name='fetch-55', th.native_id=3971, len(urls)=1\n",
      "th.name='fetch-56', th.native_id=3972, len(urls)=1\n",
      "th.name='fetch-57', th.native_id=3973, len(urls)=1\n",
      "th.name='fetch-58', th.native_id=3974, len(urls)=1\n",
      "th.name='fetch-59', th.native_id=3975, len(urls)=1\n",
      "CPU times: user 27.4 ms, sys: 46.5 ms, total: 73.9 ms\n",
      "Wall time: 162 ms\n"
     ]
    }
   ],
   "source": [
    "%%time\n",
    "\n",
    "run_exp(60, 100)"
   ]
  },
  {
   "cell_type": "code",
   "execution_count": null,
   "id": "70334b16",
   "metadata": {},
   "outputs": [],
   "source": []
  },
  {
   "cell_type": "code",
   "execution_count": null,
   "id": "6d2d7005",
   "metadata": {},
   "outputs": [],
   "source": []
  },
  {
   "cell_type": "code",
   "execution_count": 65,
   "id": "30ab52c4",
   "metadata": {},
   "outputs": [
    {
     "name": "stdout",
     "output_type": "stream",
     "text": [
      "th.name='fetch-0', th.native_id=21657980, len(urls)=10\n",
      "th.name='fetch-1', th.native_id=21657981, len(urls)=10\n",
      "th.name='fetch-2', th.native_id=21657986, len(urls)=10\n",
      "th.name='fetch-3', th.native_id=21657988, len(urls)=10\n",
      "th.name='fetch-4', th.native_id=21657989, len(urls)=10\n",
      "th.name='fetch-5', th.native_id=21657994, len(urls)=10\n",
      "th.name='fetch-6', th.native_id=21657995, len(urls)=10\n",
      "th.name='fetch-7', th.native_id=21657996, len(urls)=10th.name='fetch-8', th.native_id=21657997, len(urls)=10\n",
      "\n",
      "th.name='fetch-9', th.native_id=21657998, len(urls)=10\n",
      "CPU times: user 973 ms, sys: 114 ms, total: 1.09 s\n",
      "Wall time: 2.09 s\n"
     ]
    }
   ],
   "source": [
    "%%time\n",
    "\n",
    "N = 100\n",
    "N_THREADS = 10\n",
    "SIZE = N // N_THREADS\n",
    "\n",
    "URL = \"https://ru.wikipedia.org/wiki/Python\"\n",
    "URLS = [URL] * N\n",
    "\n",
    "\n",
    "def fetch_url(url):\n",
    "    resp = urlopen(url)\n",
    "    return resp\n",
    "\n",
    "\n",
    "def fetch_batch_urls(urls):\n",
    "    th = threading.current_thread()\n",
    "    print(f\"{th.name=}, {th.native_id=}, {len(urls)=}\")\n",
    "\n",
    "    for url in urls:\n",
    "        fetch_url(url)\n",
    "\n",
    "\n",
    "def run_exp(n_threads, n):\n",
    "    size = n // n_threads\n",
    "\n",
    "    threads = [\n",
    "        threading.Thread(\n",
    "            target=fetch_batch_urls,\n",
    "            name=f\"fetch-{i}\",\n",
    "            args=(URLS[i * size : (i + 1) * size],),\n",
    "        )\n",
    "        for i in range(n_threads)\n",
    "    ]\n",
    "\n",
    "    for th in threads:\n",
    "        th.start()\n",
    "\n",
    "    for th in threads:\n",
    "        th.join()\n",
    "\n",
    "\n",
    "run_exp(N_THREADS, N)"
   ]
  },
  {
   "cell_type": "code",
   "execution_count": null,
   "id": "fd0b93c1",
   "metadata": {},
   "outputs": [],
   "source": []
  },
  {
   "cell_type": "code",
   "execution_count": null,
   "id": "0dbfc0e9",
   "metadata": {},
   "outputs": [],
   "source": []
  },
  {
   "cell_type": "code",
   "execution_count": 69,
   "id": "d8420179",
   "metadata": {},
   "outputs": [
    {
     "name": "stdout",
     "output_type": "stream",
     "text": [
      "[1000] True\n",
      "CPU times: user 310 µs, sys: 72 µs, total: 382 µs\n",
      "Wall time: 358 µs\n"
     ]
    }
   ],
   "source": [
    "%%time\n",
    "\n",
    "N = 1000\n",
    "counter = [0]\n",
    "\n",
    "\n",
    "def count_operations(a, b):\n",
    "    for i in range(a, b):\n",
    "        # actions\n",
    "        counter[0] += 1\n",
    "\n",
    "\n",
    "count_operations(0, N)\n",
    "\n",
    "print(counter, counter[0] == N)"
   ]
  },
  {
   "cell_type": "code",
   "execution_count": 29,
   "id": "b370657e",
   "metadata": {},
   "outputs": [
    {
     "name": "stdout",
     "output_type": "stream",
     "text": [
      "[1000] True\n",
      "CPU times: user 0 ns, sys: 47.2 ms, total: 47.2 ms\n",
      "Wall time: 114 ms\n"
     ]
    }
   ],
   "source": [
    "%%time\n",
    "\n",
    "N = 1000\n",
    "N_THREADS = 100\n",
    "SIZE = N // N_THREADS\n",
    "\n",
    "counter = [0]\n",
    "lock = threading.Lock()\n",
    "\n",
    "\n",
    "def count_operations(a, b, lock):\n",
    "    for i in range(a, b):\n",
    "        # actions\n",
    "        lock.acquire()\n",
    "\n",
    "        cnt = counter[0]\n",
    "        cnt += 1\n",
    "        for _ in range(i):\n",
    "            pass\n",
    "        counter[0] = cnt\n",
    "\n",
    "        lock.release()\n",
    "\n",
    "\n",
    "def run_exp(n_threads, n, lock):\n",
    "    size = n // n_threads\n",
    "\n",
    "    threads = [\n",
    "        threading.Thread(\n",
    "            target=count_operations,\n",
    "            name=f\"count-{i}\",\n",
    "            args=(i * size, (i + 1) * size, lock),\n",
    "        )\n",
    "        for i in range(n_threads)\n",
    "    ]\n",
    "\n",
    "    for th in threads:\n",
    "        th.start()\n",
    "\n",
    "    for th in threads:\n",
    "        th.join()\n",
    "\n",
    "\n",
    "run_exp(N_THREADS, N, lock)\n",
    "\n",
    "\n",
    "print(counter, counter[0] == N)"
   ]
  },
  {
   "cell_type": "code",
   "execution_count": 30,
   "id": "412f849d",
   "metadata": {},
   "outputs": [],
   "source": [
    "import sys"
   ]
  },
  {
   "cell_type": "code",
   "execution_count": 34,
   "id": "975d3f96",
   "metadata": {},
   "outputs": [
    {
     "data": {
      "text/plain": [
       "0.0"
      ]
     },
     "execution_count": 34,
     "metadata": {},
     "output_type": "execute_result"
    }
   ],
   "source": [
    "sys.getswitchinterval()"
   ]
  },
  {
   "cell_type": "code",
   "execution_count": 33,
   "id": "a4674b42",
   "metadata": {},
   "outputs": [],
   "source": [
    "sys.setswitchinterval(0.0000001)"
   ]
  },
  {
   "cell_type": "code",
   "execution_count": null,
   "id": "ac25053d",
   "metadata": {},
   "outputs": [],
   "source": []
  },
  {
   "cell_type": "code",
   "execution_count": 89,
   "id": "8db36f57",
   "metadata": {},
   "outputs": [
    {
     "name": "stdout",
     "output_type": "stream",
     "text": [
      "[1000] True\n",
      "CPU times: user 35.1 ms, sys: 74.4 ms, total: 110 ms\n",
      "Wall time: 54.9 ms\n"
     ]
    }
   ],
   "source": [
    "%%time\n",
    "\n",
    "N = 1000\n",
    "N_THREADS = 100\n",
    "SIZE = N // N_THREADS\n",
    "\n",
    "counter = [0]\n",
    "lock = threading.Lock()\n",
    "\n",
    "\n",
    "def count_operations(a, b, lock):\n",
    "    for i in range(a, b):\n",
    "        # actions\n",
    "        with lock:\n",
    "            cnt = counter[0]\n",
    "            cnt += 1\n",
    "            for _ in range(i):\n",
    "                pass\n",
    "            counter[0] = cnt\n",
    "\n",
    "\n",
    "def run_exp(n_threads, n, lock):\n",
    "    size = n // n_threads\n",
    "\n",
    "    threads = [\n",
    "        threading.Thread(\n",
    "            target=count_operations,\n",
    "            name=f\"count-{i}\",\n",
    "            args=(i * size, (i + 1) * size, lock),\n",
    "        )\n",
    "        for i in range(n_threads)\n",
    "    ]\n",
    "\n",
    "    for th in threads:\n",
    "        th.start()\n",
    "\n",
    "    for th in threads:\n",
    "        th.join()\n",
    "\n",
    "\n",
    "run_exp(N_THREADS, N, lock)\n",
    "\n",
    "\n",
    "print(counter, counter[0] == N)"
   ]
  },
  {
   "cell_type": "code",
   "execution_count": null,
   "id": "075af06b",
   "metadata": {},
   "outputs": [],
   "source": []
  },
  {
   "cell_type": "code",
   "execution_count": null,
   "id": "386f68b1",
   "metadata": {},
   "outputs": [],
   "source": []
  },
  {
   "cell_type": "code",
   "execution_count": 93,
   "id": "b9abe4ce",
   "metadata": {},
   "outputs": [
    {
     "name": "stdout",
     "output_type": "stream",
     "text": [
      "th.name='fetch-0', th.native_id=21689955, len(urls)=10th.name='fetch-1', th.native_id=21689956, len(urls)=10\n",
      "th.name='fetch-2', th.native_id=21689957, len(urls)=10th.name='fetch-3', th.native_id=21689958, len(urls)=10\n",
      "th.name='fetch-4', th.native_id=21689959, len(urls)=10\n",
      "\n",
      "\n",
      "th.name='fetch-5', th.native_id=21689960, len(urls)=10th.name='fetch-6', th.native_id=21689961, len(urls)=10th.name='fetch-7', th.native_id=21689962, len(urls)=10\n",
      "\n",
      "th.name='fetch-8', th.native_id=21689963, len(urls)=10th.name='fetch-9', th.native_id=21689967, len(urls)=10\n",
      "\n",
      "\n",
      "CPU times: user 1.03 s, sys: 764 ms, total: 1.8 s\n",
      "Wall time: 3.57 s\n"
     ]
    }
   ],
   "source": [
    "%%time\n",
    "\n",
    "N = 100\n",
    "N_THREADS = 10\n",
    "SIZE = N // N_THREADS\n",
    "\n",
    "URL = \"https://ru.wikipedia.org/wiki/Python\"\n",
    "URLS = [URL] * N\n",
    "\n",
    "sema = threading.Semaphore(5)\n",
    "\n",
    "\n",
    "def fetch_url(url, sema):\n",
    "    with sema:\n",
    "        resp = urlopen(url)\n",
    "    return resp\n",
    "\n",
    "\n",
    "def fetch_batch_urls(urls, sema):\n",
    "    th = threading.current_thread()\n",
    "    print(f\"{th.name=}, {th.native_id=}, {len(urls)=}\")\n",
    "\n",
    "    for url in urls:\n",
    "        fetch_url(url, sema)\n",
    "\n",
    "\n",
    "def run_exp(n_threads, n, sema):\n",
    "    size = n // n_threads\n",
    "\n",
    "    threads = [\n",
    "        threading.Thread(\n",
    "            target=fetch_batch_urls,\n",
    "            name=f\"fetch-{i}\",\n",
    "            args=(URLS[i * size : (i + 1) * size], sema),\n",
    "        )\n",
    "        for i in range(n_threads)\n",
    "    ]\n",
    "\n",
    "    for th in threads:\n",
    "        th.start()\n",
    "\n",
    "    for th in threads:\n",
    "        th.join()\n",
    "\n",
    "\n",
    "run_exp(N_THREADS, N, sema)"
   ]
  },
  {
   "cell_type": "code",
   "execution_count": null,
   "id": "184ceb1f",
   "metadata": {},
   "outputs": [],
   "source": []
  },
  {
   "cell_type": "code",
   "execution_count": 1,
   "id": "5abf0a35",
   "metadata": {},
   "outputs": [],
   "source": [
    "from queue import Queue, LifoQueue, PriorityQueue"
   ]
  },
  {
   "cell_type": "code",
   "execution_count": 105,
   "id": "86f3145d",
   "metadata": {},
   "outputs": [
    {
     "name": "stdout",
     "output_type": "stream",
     "text": [
      "fetch-3 (_thread._ExceptHookArgs(exc_type=<class 'Exception'>, exc_value=Exception('WRONG!!!'), exc_traceback=<traceback object at 0x11366d900>, thread=<Thread(fetch-3, started 123145541009408)>),) {}\n",
      "STOP THREAD name='fetch-1'\n",
      "STOP THREAD name='fetch-4'\n",
      "STOP THREAD name='fetch-0'\n",
      "STOP THREAD name='fetch-2'\n",
      "global end\n",
      "CPU times: user 1.01 s, sys: 337 ms, total: 1.35 s\n",
      "Wall time: 4.72 s\n"
     ]
    }
   ],
   "source": [
    "%%time\n",
    "\n",
    "N = 100\n",
    "N_THREADS = 5\n",
    "SIZE = N // N_THREADS\n",
    "\n",
    "URL = \"https://ru.wikipedia.org/wiki/Python\"\n",
    "URLS = [URL] * N\n",
    "\n",
    "que = Queue(maxsize=100)\n",
    "\n",
    "\n",
    "def print_except(*args, **kwargs):\n",
    "    name = threading.current_thread().name\n",
    "    print(name, args, kwargs)\n",
    "\n",
    "\n",
    "threading.excepthook = print_except\n",
    "\n",
    "\n",
    "def fetch_url_worker(que):\n",
    "    while True:\n",
    "        url = que.get()\n",
    "        name = threading.current_thread().name\n",
    "        if name.endswith(\"-3\"):\n",
    "            raise Exception(\"WRONG!!!\")\n",
    "\n",
    "        if url is None:\n",
    "            que.put(url)\n",
    "            print(f\"STOP THREAD {name=}\")\n",
    "            break\n",
    "\n",
    "        resp = urlopen(url)\n",
    "        # process(resp)\n",
    "\n",
    "\n",
    "def run_exp(n_threads, n, que):\n",
    "    size = n // n_threads\n",
    "\n",
    "    threads = [\n",
    "        threading.Thread(\n",
    "            target=fetch_url_worker,\n",
    "            name=f\"fetch-{i}\",\n",
    "            args=(que,),\n",
    "        )\n",
    "        for i in range(n_threads)\n",
    "    ]\n",
    "\n",
    "    for th in threads:\n",
    "        th.start()\n",
    "\n",
    "    for url in URLS:\n",
    "        que.put(url)\n",
    "    que.put(None)\n",
    "\n",
    "    for th in threads:\n",
    "        th.join()\n",
    "\n",
    "\n",
    "run_exp(N_THREADS, N, que)\n",
    "\n",
    "print(\"global end\")"
   ]
  },
  {
   "cell_type": "code",
   "execution_count": 106,
   "id": "f0d4f7ff",
   "metadata": {},
   "outputs": [
    {
     "data": {
      "text/plain": [
       "<_MainThread(MainThread, started 4526339584)>"
      ]
     },
     "execution_count": 106,
     "metadata": {},
     "output_type": "execute_result"
    }
   ],
   "source": [
    "threading.main_thread()"
   ]
  },
  {
   "cell_type": "code",
   "execution_count": null,
   "id": "9edaf11a",
   "metadata": {},
   "outputs": [],
   "source": []
  }
 ],
 "metadata": {
  "kernelspec": {
   "display_name": "Python 3 (ipykernel)",
   "language": "python",
   "name": "python3"
  },
  "language_info": {
   "codemirror_mode": {
    "name": "ipython",
    "version": 3
   },
   "file_extension": ".py",
   "mimetype": "text/x-python",
   "name": "python",
   "nbconvert_exporter": "python",
   "pygments_lexer": "ipython3",
   "version": "3.10.12"
  }
 },
 "nbformat": 4,
 "nbformat_minor": 5
}
