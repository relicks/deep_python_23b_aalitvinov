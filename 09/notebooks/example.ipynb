{
 "cells": [
  {
   "cell_type": "code",
   "execution_count": 1,
   "metadata": {},
   "outputs": [
    {
     "name": "stderr",
     "output_type": "stream",
     "text": [
      "111\t2023-11-22 16:46:57,881\tWARNING\tedx\tto db `warning` with user=`wrn`\n",
      "111\t2023-11-22 16:46:57,883\tCRITICAL\tedx\tto db `critical` with user=`crit`\n"
     ]
    }
   ],
   "source": [
    "import logging\n",
    "\n",
    "\n",
    "class StreamFilter(logging.Filter):\n",
    "    def filter(self, record):\n",
    "        # import pdb; pdb.set_trace()\n",
    "        return (\n",
    "            \"crit\" in record.args or \"wrn\" in record.args\n",
    "            if record.args is not None\n",
    "            else False\n",
    "        )\n",
    "\n",
    "\n",
    "formatter1 = logging.Formatter(\"111\\t%(asctime)s\\t%(levelname)s\\t%(name)s\\t%(message)s\")\n",
    "formatter2 = logging.Formatter(\"222\\t%(asctime)s\\t%(levelname)s\\t%(name)s\\t%(message)s\")\n",
    "\n",
    "stream_handler = logging.StreamHandler()\n",
    "stream_handler.setLevel(logging.WARNING)\n",
    "stream_handler.setFormatter(formatter1)\n",
    "stream_handler.addFilter(StreamFilter())\n",
    "\n",
    "file_handler = logging.FileHandler(\"file_handler.log\", mode=\"w\")\n",
    "file_handler.setLevel(logging.ERROR)\n",
    "file_handler.setFormatter(formatter2)\n",
    "\n",
    "logger = logging.getLogger(\"edx\")\n",
    "logger.setLevel(logging.INFO)\n",
    "logger.propagate = False\n",
    "\n",
    "logger.addHandler(stream_handler)\n",
    "logger.addHandler(file_handler)\n",
    "\n",
    "logger.debug(\"to db `%s` with user=`%s`\", \"debug\", \"dbg\")\n",
    "logger.info(\"to db `%s` with user=`%s`\", \"info\", \"inf\")\n",
    "logger.warning(\"to db `%s` with user=`%s`\", \"warning\", \"wrn\")\n",
    "logger.error(\"to db `%s` with user=`%s`\", \"error\", \"err\")\n",
    "logger.critical(\"to db `%s` with user=`%s`\", \"critical\", \"crit\")"
   ]
  }
 ],
 "metadata": {
  "kernelspec": {
   "display_name": ".venv",
   "language": "python",
   "name": "python3"
  },
  "language_info": {
   "codemirror_mode": {
    "name": "ipython",
    "version": 3
   },
   "file_extension": ".py",
   "mimetype": "text/x-python",
   "name": "python",
   "nbconvert_exporter": "python",
   "pygments_lexer": "ipython3",
   "version": "3.10.12"
  }
 },
 "nbformat": 4,
 "nbformat_minor": 2
}
