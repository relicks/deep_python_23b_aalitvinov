{
 "cells": [
  {
   "cell_type": "code",
   "execution_count": 1,
   "metadata": {},
   "outputs": [],
   "source": [
    "# flake8: noqa: E402, F401\n",
    "%load_ext autoreload\n",
    "%autoreload 2"
   ]
  },
  {
   "cell_type": "code",
   "execution_count": 2,
   "metadata": {},
   "outputs": [],
   "source": [
    "import logging\n",
    "\n",
    "from logged_lru_cache import LRUCache"
   ]
  },
  {
   "cell_type": "code",
   "execution_count": 3,
   "metadata": {},
   "outputs": [],
   "source": [
    "class StreamFilter(logging.Filter):\n",
    "    def filter(self, record: logging.LogRecord) -> bool:\n",
    "        return (\n",
    "            \"crit\" in record.args or \"wrn\" in record.args\n",
    "            if record.args is not None\n",
    "            else False\n",
    "        )"
   ]
  },
  {
   "cell_type": "code",
   "execution_count": 4,
   "metadata": {},
   "outputs": [
    {
     "name": "stderr",
     "output_type": "stream",
     "text": [
      "111\t2023-11-23 12:02:59,456\tWARNING\t edx\tto db `warning` with user=`wrn`\n",
      "111\t2023-11-23 12:02:59,462\tCRITICAL\t edx\tto db `critical` with user=`crit`\n"
     ]
    }
   ],
   "source": [
    "formatter1 = logging.Formatter(\n",
    "    \"111\\t{asctime}\\t{levelname}\\t {name}\\t{message}\", style=\"{\"\n",
    ")\n",
    "stream_handler = logging.StreamHandler()\n",
    "stream_handler.setLevel(logging.WARNING)\n",
    "stream_handler.setFormatter(formatter1)\n",
    "stream_handler.addFilter(StreamFilter())\n",
    "\n",
    "formatter2 = logging.Formatter(\n",
    "    \"222\\t{asctime}\\t{levelname}\\t {name}\\t{message}\", style=\"{\"\n",
    ")\n",
    "file_handler = logging.FileHandler(\"file_handler.log\", mode=\"w\")\n",
    "file_handler.setLevel(logging.ERROR)\n",
    "file_handler.setFormatter(formatter2)\n",
    "\n",
    "logger = logging.getLogger(\"edx\")\n",
    "logger.setLevel(logging.INFO)\n",
    "logger.propagate = False\n",
    "\n",
    "logger.addHandler(stream_handler)\n",
    "logger.addHandler(file_handler)\n",
    "\n",
    "x = \"debug\"\n",
    "y = 124\n",
    "template = \"to db `%s` with user=`%s`\"\n",
    "logger.debug(f\"to db `{x}` with user=`{y}`\")\n",
    "logger.debug(template, \"debug\", \"dbg\")\n",
    "logger.info(template, \"info\", \"inf\")\n",
    "logger.warning(template, \"warning\", \"wrn\")\n",
    "logger.error(template, \"error\", \"err\")\n",
    "logger.critical(template, \"critical\", \"crit\")"
   ]
  }
 ],
 "metadata": {
  "kernelspec": {
   "display_name": ".venv",
   "language": "python",
   "name": "python3"
  },
  "language_info": {
   "codemirror_mode": {
    "name": "ipython",
    "version": 3
   },
   "file_extension": ".py",
   "mimetype": "text/x-python",
   "name": "python",
   "nbconvert_exporter": "python",
   "pygments_lexer": "ipython3",
   "version": "3.10.12"
  }
 },
 "nbformat": 4,
 "nbformat_minor": 2
}
