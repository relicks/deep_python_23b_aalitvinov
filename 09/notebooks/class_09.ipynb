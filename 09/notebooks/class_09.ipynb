{
 "cells": [
  {
   "cell_type": "code",
   "execution_count": 1,
   "id": "781bcb4d",
   "metadata": {},
   "outputs": [],
   "source": [
    "import logging"
   ]
  },
  {
   "cell_type": "code",
   "execution_count": 2,
   "id": "62cb8843",
   "metadata": {},
   "outputs": [
    {
     "data": {
      "text/plain": [
       "'__main__'"
      ]
     },
     "execution_count": 2,
     "metadata": {},
     "output_type": "execute_result"
    }
   ],
   "source": [
    "__name__"
   ]
  },
  {
   "cell_type": "code",
   "execution_count": 19,
   "id": "cd1a5d96",
   "metadata": {},
   "outputs": [
    {
     "data": {
      "text/plain": [
       "30"
      ]
     },
     "execution_count": 19,
     "metadata": {},
     "output_type": "execute_result"
    }
   ],
   "source": [
    "# client.py\n",
    "\n",
    "logger = logging.getLogger(__name__)  # \"aiohttp.session.client\"\n",
    "logger.getEffectiveLevel()"
   ]
  },
  {
   "cell_type": "code",
   "execution_count": 24,
   "id": "51ad916b",
   "metadata": {},
   "outputs": [
    {
     "name": "stderr",
     "output_type": "stream",
     "text": [
      "WARNING:__main__:wrn_record\n",
      "ERROR:__main__:err_record\n",
      "CRITICAL:__main__:crit_record\n"
     ]
    }
   ],
   "source": [
    "logger.debug(\"dbg_record\")\n",
    "logger.info(\"inf_record\")\n",
    "logger.warning(\"wrn_record\")\n",
    "logger.error(\"err_record\")\n",
    "logger.critical(\"crit_record\")"
   ]
  },
  {
   "cell_type": "code",
   "execution_count": 34,
   "id": "3abb11c5",
   "metadata": {},
   "outputs": [],
   "source": [
    "logger = logging.getLogger(\"our.nb\")\n",
    "# logger.propagate = False\n",
    "logger.addHandler(logging.StreamHandler())\n",
    "logger.setLevel(logging.DEBUG)"
   ]
  },
  {
   "cell_type": "code",
   "execution_count": 35,
   "metadata": {},
   "outputs": [
    {
     "name": "stderr",
     "output_type": "stream",
     "text": [
      "dbg_record\n",
      "dbg_record\n",
      "dbg_record\n",
      "dbg_record\n"
     ]
    }
   ],
   "source": [
    "logger.debug(\"dbg_record\")"
   ]
  },
  {
   "cell_type": "code",
   "execution_count": 29,
   "id": "6bb7a081",
   "metadata": {},
   "outputs": [
    {
     "name": "stderr",
     "output_type": "stream",
     "text": [
      "dbg_record\n",
      "dbg_record\n",
      "inf_record\n",
      "inf_record\n",
      "wrn_record\n",
      "wrn_record\n",
      "err_record\n",
      "err_record\n",
      "crit_record\n",
      "crit_record\n"
     ]
    }
   ],
   "source": [
    "logger.debug(\"dbg_record\")\n",
    "logger.info(\"inf_record\")\n",
    "logger.warning(\"wrn_record\")\n",
    "logger.error(\"err_record\")\n",
    "logger.critical(\"crit_record\")"
   ]
  },
  {
   "cell_type": "code",
   "execution_count": 27,
   "id": "d481aef7",
   "metadata": {},
   "outputs": [
    {
     "name": "stderr",
     "output_type": "stream",
     "text": [
      "WARNING:root:wrn_record\n",
      "ERROR:root:err_record\n",
      "CRITICAL:root:crit_record\n"
     ]
    }
   ],
   "source": [
    "root = logging.getLogger()\n",
    "root.debug(\"dbg_record\")\n",
    "root.info(\"inf_record\")\n",
    "root.warning(\"wrn_record\")\n",
    "root.error(\"err_record\")\n",
    "root.critical(\"crit_record\")"
   ]
  },
  {
   "cell_type": "code",
   "execution_count": 5,
   "id": "a47c85ac",
   "metadata": {},
   "outputs": [
    {
     "name": "stderr",
     "output_type": "stream",
     "text": [
      "ERROR:root:dwkjdwhjd\n"
     ]
    }
   ],
   "source": [
    "logging.error(\"dwkjdwhjd\")"
   ]
  },
  {
   "cell_type": "code",
   "execution_count": null,
   "id": "5f92941f",
   "metadata": {},
   "outputs": [],
   "source": []
  },
  {
   "cell_type": "code",
   "execution_count": 2,
   "id": "b84f3393",
   "metadata": {},
   "outputs": [],
   "source": [
    "import logging"
   ]
  },
  {
   "cell_type": "code",
   "execution_count": 3,
   "id": "09c1eb89",
   "metadata": {},
   "outputs": [],
   "source": [
    "logging.basicConfig(\n",
    "    filename=\"root.log\",\n",
    "    level=logging.DEBUG,\n",
    "    format=\"%(asctime)s\\t%(levelname)s\\t%(name)s\\t%(message)s\",\n",
    ")"
   ]
  },
  {
   "cell_type": "code",
   "execution_count": 4,
   "id": "95b15497",
   "metadata": {},
   "outputs": [],
   "source": [
    "root = logging.getLogger()\n",
    "root.debug(\"dbg_record\")\n",
    "root.info(\"inf_record\")\n",
    "root.warning(\"wrn_record\")\n",
    "root.error(\"err_record\")\n",
    "root.critical(\"crit_record\")"
   ]
  },
  {
   "cell_type": "code",
   "execution_count": 5,
   "id": "8afda5a0",
   "metadata": {},
   "outputs": [
    {
     "name": "stdout",
     "output_type": "stream",
     "text": [
      "class_09.ipynb homework.md    lesson-09.pdf  root.log\r\n"
     ]
    }
   ],
   "source": [
    "!ls"
   ]
  },
  {
   "cell_type": "code",
   "execution_count": 6,
   "id": "53fa0733",
   "metadata": {},
   "outputs": [
    {
     "name": "stdout",
     "output_type": "stream",
     "text": [
      "2023-11-09 18:59:40,050\tDEBUG\troot\tdbg_record\r\n",
      "2023-11-09 18:59:40,050\tINFO\troot\tinf_record\r\n",
      "2023-11-09 18:59:40,051\tWARNING\troot\twrn_record\r\n",
      "2023-11-09 18:59:40,051\tERROR\troot\terr_record\r\n",
      "2023-11-09 18:59:40,051\tCRITICAL\troot\tcrit_record\r\n"
     ]
    }
   ],
   "source": [
    "!cat root.log"
   ]
  },
  {
   "cell_type": "code",
   "execution_count": 2,
   "id": "7960b462",
   "metadata": {},
   "outputs": [],
   "source": [
    "logging.basicConfig(\n",
    "    filename=\"root.log\",\n",
    "    filemode=\"w\",\n",
    "    level=logging.INFO,\n",
    "    format=\"%(asctime)s\\t%(levelname)s\\t%(name)s\\t%(message)s\",\n",
    "    force=True,\n",
    ")"
   ]
  },
  {
   "cell_type": "code",
   "execution_count": 34,
   "id": "0e7b4c09",
   "metadata": {},
   "outputs": [],
   "source": [
    "root = logging.getLogger()\n",
    "root.debug(\"dbg_record\")\n",
    "root.info(\"inf_record\")\n",
    "root.warning(\"wrn_record\")\n",
    "root.error(\"err_record\")\n",
    "root.critical(\"crit_record\")"
   ]
  },
  {
   "cell_type": "code",
   "execution_count": 35,
   "id": "bbc5c9c0",
   "metadata": {},
   "outputs": [
    {
     "name": "stdout",
     "output_type": "stream",
     "text": [
      "2023-11-09 19:17:44,572\tINFO\troot\tinf_record\r\n",
      "2023-11-09 19:17:44,572\tWARNING\troot\twrn_record\r\n",
      "2023-11-09 19:17:44,572\tERROR\troot\terr_record\r\n",
      "2023-11-09 19:17:44,572\tCRITICAL\troot\tcrit_record\r\n"
     ]
    }
   ],
   "source": [
    "!cat root.log"
   ]
  },
  {
   "cell_type": "code",
   "execution_count": 17,
   "id": "a22a4e78",
   "metadata": {},
   "outputs": [],
   "source": [
    "dct = {}\n",
    "try:\n",
    "    dct[\"name\"]\n",
    "except Exception:\n",
    "    root.exception(\"strange err\")"
   ]
  },
  {
   "cell_type": "code",
   "execution_count": 32,
   "id": "2e9f59c9",
   "metadata": {},
   "outputs": [
    {
     "name": "stdout",
     "output_type": "stream",
     "text": [
      "2023-11-09 19:03:02,528\tINFO\troot\tinf_record\r\n",
      "2023-11-09 19:03:02,529\tWARNING\troot\twrn_record\r\n",
      "2023-11-09 19:03:02,529\tERROR\troot\terr_record\r\n",
      "2023-11-09 19:03:02,529\tCRITICAL\troot\tcrit_record\r\n",
      "2023-11-09 19:08:35,628\tERROR\troot\tstrange err\r\n",
      "Traceback (most recent call last):\r\n",
      "  File \"/var/folders/c1/9wdb7dps2x332c6l1y2hrqkh0000gp/T/ipykernel_28987/574857808.py\", line 3, in <cell line: 2>\r\n",
      "    dct[\"name\"]\r\n",
      "KeyError: 'name'\r\n",
      "2023-11-09 19:09:02,130\tERROR\troot\tstrange err\r\n",
      "NoneType: None\r\n",
      "2023-11-09 19:09:15,360\tERROR\troot\tstrange err\r\n",
      "2023-11-09 19:11:16,808\tERROR\troot\tfailed to connect to db persons with user=admin\r\n",
      "2023-11-09 19:11:29,692\tERROR\troot\tfailed to connect to db `persons` with user=`admin`\r\n",
      "2023-11-09 19:12:18,536\tERROR\troot\tfailed to connect to db `persons` with user=`admin`\r\n",
      "2023-11-09 19:12:58,899\tERROR\troot\tfailed to connect to db `persons` with user=`admin`\r\n",
      "2023-11-09 19:12:58,900\tERROR\troot\tfailed to connect to db 'persons` with user=`admin`\r\n",
      "2023-11-09 19:14:50,330\tERROR\troot\tfailed to connect to db `persons` with user=`admin`\r\n",
      "2023-11-09 19:14:50,330\tERROR\troot\tfailed to connect to db 'persons` with user=`admin`\r\n"
     ]
    }
   ],
   "source": [
    "!cat root.log"
   ]
  },
  {
   "cell_type": "code",
   "execution_count": 21,
   "id": "318dcb1e",
   "metadata": {},
   "outputs": [],
   "source": [
    "root.error(\"strange err\")"
   ]
  },
  {
   "cell_type": "code",
   "execution_count": 31,
   "id": "1e464acc",
   "metadata": {},
   "outputs": [],
   "source": [
    "db_name = \"persons\"\n",
    "username = \"admin\"\n",
    "ERROR_TEMPLATE = \"failed to connect to db `%s` with user=`%s`\"\n",
    "root.error(ERROR_TEMPLATE, db_name, username)\n",
    "\n",
    "root.error(f\"failed to connect to db '{db_name}` with user=`{username}`\")"
   ]
  },
  {
   "cell_type": "code",
   "execution_count": null,
   "id": "8a3c2a45",
   "metadata": {},
   "outputs": [],
   "source": []
  },
  {
   "cell_type": "code",
   "execution_count": null,
   "id": "6247e7ec",
   "metadata": {},
   "outputs": [],
   "source": []
  },
  {
   "cell_type": "code",
   "execution_count": 3,
   "id": "b5e6c91d",
   "metadata": {},
   "outputs": [],
   "source": [
    "!cat root.log"
   ]
  },
  {
   "cell_type": "code",
   "execution_count": 4,
   "id": "a23fc61e",
   "metadata": {},
   "outputs": [
    {
     "name": "stderr",
     "output_type": "stream",
     "text": [
      "====== 2023-11-09 19:24:33,670\tDEBUG\tour.nb\tour dbg_record\n",
      "====== 2023-11-09 19:24:33,695\tINFO\tour.nb\tour inf_record\n",
      "====== 2023-11-09 19:24:33,697\tWARNING\tour.nb\tour wrn_record\n",
      "====== 2023-11-09 19:24:33,739\tERROR\tour.nb\tour err_record\n",
      "====== 2023-11-09 19:24:33,741\tCRITICAL\tour.nb\tour crit_record\n"
     ]
    }
   ],
   "source": [
    "logger = logging.getLogger(\"our.nb\")  # \"our\", \"\"\n",
    "logger.setLevel(logging.DEBUG)\n",
    "# logger.propagate = False\n",
    "\n",
    "handler = logging.StreamHandler()\n",
    "handler.setFormatter(\n",
    "    logging.Formatter(\"====== %(asctime)s\\t%(levelname)s\\t%(name)s\\t%(message)s\")\n",
    ")\n",
    "\n",
    "logger.addHandler(handler)\n",
    "\n",
    "logger.debug(\"our dbg_record\")\n",
    "logger.info(\"our inf_record\")\n",
    "logger.warning(\"our wrn_record\")\n",
    "logger.error(\"our err_record\")\n",
    "logger.critical(\"our crit_record\")"
   ]
  },
  {
   "cell_type": "code",
   "execution_count": 6,
   "id": "91c3bc5e",
   "metadata": {},
   "outputs": [
    {
     "name": "stdout",
     "output_type": "stream",
     "text": [
      "2023-11-09 19:24:33,670\tDEBUG\tour.nb\tour dbg_record\r\n",
      "2023-11-09 19:24:33,695\tINFO\tour.nb\tour inf_record\r\n",
      "2023-11-09 19:24:33,697\tWARNING\tour.nb\tour wrn_record\r\n",
      "2023-11-09 19:24:33,739\tERROR\tour.nb\tour err_record\r\n",
      "2023-11-09 19:24:33,741\tCRITICAL\tour.nb\tour crit_record\r\n"
     ]
    }
   ],
   "source": [
    "!cat root.log"
   ]
  },
  {
   "cell_type": "code",
   "execution_count": null,
   "id": "b25f18a6",
   "metadata": {},
   "outputs": [],
   "source": []
  },
  {
   "cell_type": "code",
   "execution_count": 7,
   "id": "8d96b51b",
   "metadata": {},
   "outputs": [
    {
     "name": "stderr",
     "output_type": "stream",
     "text": [
      "====== 2023-11-09 19:28:39,252\tDEBUG\tno_prop\tour dbg_record\n",
      "====== 2023-11-09 19:28:39,254\tINFO\tno_prop\tour inf_record\n",
      "====== 2023-11-09 19:28:39,255\tWARNING\tno_prop\tour wrn_record\n",
      "====== 2023-11-09 19:28:39,256\tERROR\tno_prop\tour err_record\n",
      "====== 2023-11-09 19:28:39,257\tCRITICAL\tno_prop\tour crit_record\n"
     ]
    }
   ],
   "source": [
    "logger = logging.getLogger(\"no_prop\")\n",
    "logger.setLevel(logging.DEBUG)\n",
    "logger.propagate = False\n",
    "\n",
    "handler = logging.StreamHandler()\n",
    "handler.setFormatter(\n",
    "    logging.Formatter(\"====== %(asctime)s\\t%(levelname)s\\t%(name)s\\t%(message)s\")\n",
    ")\n",
    "\n",
    "logger.addHandler(handler)\n",
    "\n",
    "logger.debug(\"our dbg_record\")\n",
    "logger.info(\"our inf_record\")\n",
    "logger.warning(\"our wrn_record\")\n",
    "logger.error(\"our err_record\")\n",
    "logger.critical(\"our crit_record\")"
   ]
  },
  {
   "cell_type": "code",
   "execution_count": 8,
   "id": "aef62313",
   "metadata": {},
   "outputs": [
    {
     "name": "stdout",
     "output_type": "stream",
     "text": [
      "2023-11-09 19:24:33,670\tDEBUG\tour.nb\tour dbg_record\r\n",
      "2023-11-09 19:24:33,695\tINFO\tour.nb\tour inf_record\r\n",
      "2023-11-09 19:24:33,697\tWARNING\tour.nb\tour wrn_record\r\n",
      "2023-11-09 19:24:33,739\tERROR\tour.nb\tour err_record\r\n",
      "2023-11-09 19:24:33,741\tCRITICAL\tour.nb\tour crit_record\r\n"
     ]
    }
   ],
   "source": [
    "!cat root.log"
   ]
  },
  {
   "cell_type": "code",
   "execution_count": null,
   "id": "2a32b23a",
   "metadata": {},
   "outputs": [],
   "source": []
  },
  {
   "cell_type": "code",
   "execution_count": 1,
   "id": "2c684ca8",
   "metadata": {},
   "outputs": [
    {
     "name": "stderr",
     "output_type": "stream",
     "text": [
      "====== 2023-11-09 20:00:31,541\tDEBUG\textra\tour dbg_record\textra_xxx:42\n",
      "====== 2023-11-09 20:00:31,543\tINFO\textra\tour inf_record\textra_xxx:42\n",
      "====== 2023-11-09 20:00:31,545\tWARNING\textra\tour wrn_record\textra_xxx:42\n",
      "====== 2023-11-09 20:00:31,546\tERROR\textra\tour err_record\textra_xxx:42\n",
      "====== 2023-11-09 20:00:31,546\tCRITICAL\textra\tour crit_record\textra_xxx:42\n"
     ]
    }
   ],
   "source": [
    "import logging\n",
    "\n",
    "\n",
    "logger = logging.getLogger(\"extra\")\n",
    "logger.setLevel(logging.DEBUG)\n",
    "logger.propagate = False\n",
    "\n",
    "handler = logging.StreamHandler()\n",
    "handler.setFormatter(\n",
    "    logging.Formatter(\n",
    "        \"====== %(asctime)s\\t%(levelname)s\\t%(name)s\\t%(message)s\\textra_xxx:%(xxx)s\"\n",
    "    )\n",
    ")\n",
    "\n",
    "logger.addHandler(handler)\n",
    "\n",
    "logger.debug(\"our dbg_record\", extra={\"xxx\": \"42\"})\n",
    "logger.info(\"our inf_record\", extra={\"xxx\": \"42\"})\n",
    "logger.warning(\"our wrn_record\", extra={\"xxx\": \"42\"})\n",
    "logger.error(\"our err_record\", extra={\"xxx\": \"42\"})\n",
    "logger.critical(\"our crit_record\", extra={\"xxx\": \"42\"})"
   ]
  },
  {
   "cell_type": "code",
   "execution_count": 3,
   "id": "5551c233",
   "metadata": {},
   "outputs": [
    {
     "name": "stderr",
     "output_type": "stream",
     "text": [
      "====== 2023-11-09 20:01:23,425\tDEBUG\textra\tour dbg_record\textra_xxx:42\n",
      "====== 2023-11-09 20:01:23,425\tDEBUG\textra\tour dbg_record\textra_xxx:42\n",
      "====== 2023-11-09 20:01:23,425\tDEBUG\textra\tour dbg_record\textra_xxx:42\n",
      "====== 2023-11-09 20:01:23,430\tINFO\textra\tour inf_record\textra_xxx:42\n",
      "====== 2023-11-09 20:01:23,430\tINFO\textra\tour inf_record\textra_xxx:42\n",
      "====== 2023-11-09 20:01:23,430\tINFO\textra\tour inf_record\textra_xxx:42\n",
      "====== 2023-11-09 20:01:23,435\tWARNING\textra\tour wrn_record\textra_xxx:42\n",
      "====== 2023-11-09 20:01:23,435\tWARNING\textra\tour wrn_record\textra_xxx:42\n",
      "====== 2023-11-09 20:01:23,435\tWARNING\textra\tour wrn_record\textra_xxx:42\n",
      "====== 2023-11-09 20:01:23,446\tERROR\textra\tour err_record\textra_xxx:42\n",
      "====== 2023-11-09 20:01:23,446\tERROR\textra\tour err_record\textra_xxx:42\n",
      "====== 2023-11-09 20:01:23,446\tERROR\textra\tour err_record\textra_xxx:42\n"
     ]
    }
   ],
   "source": [
    "import logging\n",
    "\n",
    "\n",
    "logger = logging.getLogger(\"extra\")\n",
    "logger.setLevel(logging.DEBUG)\n",
    "logger.propagate = False\n",
    "\n",
    "handler = logging.StreamHandler()\n",
    "handler.setFormatter(\n",
    "    logging.Formatter(\n",
    "        \"====== %(asctime)s\\t%(levelname)s\\t%(name)s\\t%(message)s\\textra_xxx:%(xxx)s\"\n",
    "    )\n",
    ")\n",
    "\n",
    "logger.addHandler(handler)\n",
    "\n",
    "logger.debug(\"our dbg_record\", extra={\"xxx\": \"42\"})\n",
    "logger.info(\"our inf_record\", extra={\"xxx\": \"42\"})\n",
    "logger.warning(\"our wrn_record\", extra={\"xxx\": \"42\"})\n",
    "logger.error(\"our err_record\", extra={\"xxx\": \"42\"})\n",
    "# logger.critical(\"our crit_record\")"
   ]
  },
  {
   "cell_type": "code",
   "execution_count": null,
   "id": "d31d4b06",
   "metadata": {},
   "outputs": [],
   "source": []
  },
  {
   "cell_type": "code",
   "execution_count": null,
   "id": "30a5b75f",
   "metadata": {},
   "outputs": [],
   "source": []
  },
  {
   "cell_type": "code",
   "execution_count": 5,
   "id": "b9d4a9a0",
   "metadata": {},
   "outputs": [
    {
     "name": "stderr",
     "output_type": "stream",
     "text": [
      "111\t2023-11-09 20:14:42,285\tWARNING\tedx\tto db `warning` with user=`wrn`\n",
      "111\t2023-11-09 20:14:42,285\tWARNING\tedx\tto db `warning` with user=`wrn`\n",
      "111\t2023-11-09 20:14:42,285\tWARNING\tedx\tto db `warning` with user=`wrn`\n",
      "111\t2023-11-09 20:14:42,288\tERROR\tedx\tto db `error` with user=`err`\n",
      "111\t2023-11-09 20:14:42,288\tERROR\tedx\tto db `error` with user=`err`\n",
      "111\t2023-11-09 20:14:42,288\tERROR\tedx\tto db `error` with user=`err`\n",
      "111\t2023-11-09 20:14:42,290\tCRITICAL\tedx\tto db `critical` with user=`crit`\n",
      "111\t2023-11-09 20:14:42,290\tCRITICAL\tedx\tto db `critical` with user=`crit`\n",
      "111\t2023-11-09 20:14:42,290\tCRITICAL\tedx\tto db `critical` with user=`crit`\n"
     ]
    }
   ],
   "source": [
    "import logging\n",
    "\n",
    "\n",
    "formatter1 = logging.Formatter(\"111\\t%(asctime)s\\t%(levelname)s\\t%(name)s\\t%(message)s\")\n",
    "formatter2 = logging.Formatter(\"222\\t%(asctime)s\\t%(levelname)s\\t%(name)s\\t%(message)s\")\n",
    "\n",
    "stream_handler = logging.StreamHandler()\n",
    "stream_handler.setLevel(logging.WARNING)\n",
    "stream_handler.setFormatter(formatter1)\n",
    "\n",
    "file_handler = logging.FileHandler(\"file_handler.log\", mode=\"w\")\n",
    "file_handler.setLevel(logging.ERROR)\n",
    "file_handler.setFormatter(formatter2)\n",
    "\n",
    "logger = logging.getLogger(\"edx\")\n",
    "logger.setLevel(logging.INFO)\n",
    "logger.propagate = False\n",
    "\n",
    "logger.addHandler(stream_handler)\n",
    "logger.addHandler(file_handler)\n",
    "\n",
    "logger.debug(\"to db `%s` with user=`%s`\", \"debug\", \"dbg\")\n",
    "logger.info(\"to db `%s` with user=`%s`\", \"info\", \"inf\")\n",
    "logger.warning(\"to db `%s` with user=`%s`\", \"warning\", \"wrn\")\n",
    "logger.error(\"to db `%s` with user=`%s`\", \"error\", \"err\")\n",
    "logger.critical(\"to db `%s` with user=`%s`\", \"critical\", \"crit\")"
   ]
  },
  {
   "cell_type": "code",
   "execution_count": 6,
   "id": "8bf2def1",
   "metadata": {},
   "outputs": [
    {
     "name": "stdout",
     "output_type": "stream",
     "text": [
      "222\t2023-11-09 20:14:42,288\tERROR\tedx\tto db `error` with user=`err`\r\n",
      "222\t2023-11-09 20:14:42,290\tCRITICAL\tedx\tto db `critical` with user=`crit`\r\n",
      "\u0000\u0000\u0000\u0000\u0000\u0000\u0000\u0000\u0000\u0000\u0000\u0000\u0000\u0000\u0000\u0000222\t2023-11-09 20:14:42,288\tERROR\tedx\tto db `error` with user=`err`\r\n",
      "222\t2023-11-09 20:14:42,290\tCRITICAL\tedx\tto db `critical` with user=`crit`\r\n",
      "\u0000\u0000\u0000\u0000\u0000\u0000\u0000\u0000\u0000\u0000\u0000\u0000\u0000\u0000\u0000\u0000\u0000\u0000\u0000\u0000\u0000\u0000\u0000\u0000\u0000\u0000\u0000\u0000\u0000\u0000\u0000\u0000\u0000\u0000\u0000\u0000222\t2023-11-09 20:14:42,288\tERROR\tedx\tto db `error` with user=`err`\r\n",
      "222\t2023-11-09 20:14:42,290\tCRITICAL\tedx\tto db `critical` with user=`crit`\r\n"
     ]
    }
   ],
   "source": [
    "!cat file_handler.log"
   ]
  },
  {
   "cell_type": "code",
   "execution_count": null,
   "id": "6f7105a5",
   "metadata": {},
   "outputs": [],
   "source": []
  },
  {
   "cell_type": "code",
   "execution_count": null,
   "id": "cff24ec1",
   "metadata": {},
   "outputs": [],
   "source": []
  },
  {
   "cell_type": "code",
   "execution_count": 1,
   "id": "ee9c3ecc",
   "metadata": {},
   "outputs": [
    {
     "name": "stderr",
     "output_type": "stream",
     "text": [
      "111\t2023-11-09 20:26:32,556\tWARNING\tedx\tto db `warning` with user=`wrn`\n",
      "111\t2023-11-09 20:26:32,562\tCRITICAL\tedx\tto db `critical` with user=`crit`\n"
     ]
    }
   ],
   "source": [
    "import logging\n",
    "\n",
    "\n",
    "class StreamFilter(logging.Filter):\n",
    "    def filter(self, record):\n",
    "        # import pdb; pdb.set_trace()\n",
    "        return \"crit\" in record.args or \"wrn\" in record.args\n",
    "\n",
    "\n",
    "formatter1 = logging.Formatter(\"111\\t%(asctime)s\\t%(levelname)s\\t%(name)s\\t%(message)s\")\n",
    "formatter2 = logging.Formatter(\"222\\t%(asctime)s\\t%(levelname)s\\t%(name)s\\t%(message)s\")\n",
    "\n",
    "stream_handler = logging.StreamHandler()\n",
    "stream_handler.setLevel(logging.WARNING)\n",
    "stream_handler.setFormatter(formatter1)\n",
    "stream_handler.addFilter(StreamFilter())\n",
    "\n",
    "file_handler = logging.FileHandler(\"file_handler.log\", mode=\"w\")\n",
    "file_handler.setLevel(logging.ERROR)\n",
    "file_handler.setFormatter(formatter2)\n",
    "\n",
    "logger = logging.getLogger(\"edx\")\n",
    "logger.setLevel(logging.INFO)\n",
    "logger.propagate = False\n",
    "\n",
    "logger.addHandler(stream_handler)\n",
    "logger.addHandler(file_handler)\n",
    "\n",
    "logger.debug(\"to db `%s` with user=`%s`\", \"debug\", \"dbg\")\n",
    "logger.info(\"to db `%s` with user=`%s`\", \"info\", \"inf\")\n",
    "logger.warning(\"to db `%s` with user=`%s`\", \"warning\", \"wrn\")\n",
    "logger.error(\"to db `%s` with user=`%s`\", \"error\", \"err\")\n",
    "logger.critical(\"to db `%s` with user=`%s`\", \"critical\", \"crit\")"
   ]
  },
  {
   "cell_type": "code",
   "execution_count": 2,
   "id": "e163a287",
   "metadata": {},
   "outputs": [
    {
     "name": "stdout",
     "output_type": "stream",
     "text": [
      "222\t2023-11-09 20:25:59,006\tERROR\tedx\tto db `error` with user=`err`\r\n",
      "222\t2023-11-09 20:25:59,007\tCRITICAL\tedx\tto db `critical` with user=`crit`\r\n"
     ]
    }
   ],
   "source": [
    "!cat file_handler.log"
   ]
  },
  {
   "cell_type": "code",
   "execution_count": null,
   "id": "9506c167",
   "metadata": {},
   "outputs": [],
   "source": []
  },
  {
   "cell_type": "code",
   "execution_count": 1,
   "id": "91617502",
   "metadata": {},
   "outputs": [],
   "source": [
    "import logging\n",
    "import logging.config\n",
    "\n",
    "\n",
    "conf = {\n",
    "    \"version\": 1,\n",
    "    \"formatters\": {\n",
    "        \"formatter1\": {\n",
    "            \"format\": \"111\\t%(asctime)s\\t%(levelname)s\\t%(name)s\\t%(message)s\",\n",
    "        },\n",
    "        \"formatter2\": {\n",
    "            \"format\": \"222\\t%(asctime)s\\t%(levelname)s\\t%(name)s\\t%(message)s\",\n",
    "        },\n",
    "    },\n",
    "    \"handlers\": {\n",
    "        \"stream_handler\": {\n",
    "            \"class\": \"logging.StreamHandler\",\n",
    "            \"level\": \"WARNING\",\n",
    "            \"formatter\": \"formatter1\",\n",
    "        },\n",
    "        \"root_stream_handler\": {\n",
    "            \"class\": \"logging.StreamHandler\",\n",
    "            \"level\": \"WARNING\",\n",
    "            \"formatter\": \"formatter2\",\n",
    "        },\n",
    "        \"file_handler\": {\n",
    "            \"class\": \"logging.FileHandler\",\n",
    "            \"level\": \"ERROR\",\n",
    "            \"formatter\": \"formatter2\",\n",
    "            \"filename\": \"dict_fh.log\",\n",
    "            \"mode\": \"w\",\n",
    "        },\n",
    "    },\n",
    "    \"loggers\": {\n",
    "        \"\": {\n",
    "            \"level\": \"DEBUG\",\n",
    "            \"handlers\": [\"root_stream_handler\"],\n",
    "        },\n",
    "        \"edx2\": {\n",
    "            \"level\": \"INFO\",\n",
    "            \"handlers\": [\"stream_handler\", \"file_handler\"],\n",
    "            \"propagate\": False,\n",
    "        },\n",
    "    },\n",
    "}\n",
    "\n",
    "\n",
    "logging.config.dictConfig(conf)"
   ]
  },
  {
   "cell_type": "code",
   "execution_count": 2,
   "id": "5ae5e7ca",
   "metadata": {},
   "outputs": [],
   "source": [
    "root = logging.getLogger()"
   ]
  },
  {
   "cell_type": "code",
   "execution_count": 3,
   "id": "1b2cc9f4",
   "metadata": {},
   "outputs": [
    {
     "data": {
      "text/plain": [
       "[<StreamHandler stderr (WARNING)>]"
      ]
     },
     "execution_count": 3,
     "metadata": {},
     "output_type": "execute_result"
    }
   ],
   "source": [
    "root.handlers"
   ]
  },
  {
   "cell_type": "code",
   "execution_count": 4,
   "id": "bb393983",
   "metadata": {},
   "outputs": [],
   "source": [
    "root.info(\"iiiii\")"
   ]
  },
  {
   "cell_type": "code",
   "execution_count": 5,
   "id": "b2fae08c",
   "metadata": {},
   "outputs": [
    {
     "name": "stderr",
     "output_type": "stream",
     "text": [
      "111\t2023-11-09 20:46:18,107\tWARNING\troot\twwwww\n"
     ]
    }
   ],
   "source": [
    "root.warning(\"wwwww\")"
   ]
  },
  {
   "cell_type": "code",
   "execution_count": 2,
   "id": "7389f9f9",
   "metadata": {},
   "outputs": [],
   "source": [
    "edx2 = logging.getLogger(\"edx2\")"
   ]
  },
  {
   "cell_type": "code",
   "execution_count": 3,
   "id": "7cee17f4",
   "metadata": {},
   "outputs": [
    {
     "data": {
      "text/plain": [
       "<Logger edx2 (INFO)>"
      ]
     },
     "execution_count": 3,
     "metadata": {},
     "output_type": "execute_result"
    }
   ],
   "source": [
    "edx2"
   ]
  },
  {
   "cell_type": "code",
   "execution_count": 4,
   "id": "57ea55c3",
   "metadata": {},
   "outputs": [
    {
     "name": "stderr",
     "output_type": "stream",
     "text": [
      "111\t2023-11-09 20:49:47,917\tWARNING\tedx2\twwwwww\n",
      "222\t2023-11-09 20:49:47,917\tWARNING\tedx2\twwwwww\n",
      "111\t2023-11-09 20:49:47,919\tERROR\tedx2\teeeeeee\n",
      "222\t2023-11-09 20:49:47,919\tERROR\tedx2\teeeeeee\n"
     ]
    }
   ],
   "source": [
    "edx2.info(\"iiiiii\")\n",
    "edx2.warning(\"wwwwww\")\n",
    "edx2.error(\"eeeeeee\")"
   ]
  },
  {
   "cell_type": "code",
   "execution_count": 10,
   "id": "f28bea56",
   "metadata": {},
   "outputs": [
    {
     "name": "stdout",
     "output_type": "stream",
     "text": [
      "222\t2023-11-09 20:47:17,474\tERROR\tedx2\teeeeeee\r\n"
     ]
    }
   ],
   "source": [
    "!cat dict_fh.log"
   ]
  },
  {
   "cell_type": "code",
   "execution_count": null,
   "id": "1375e39e",
   "metadata": {},
   "outputs": [],
   "source": []
  },
  {
   "cell_type": "code",
   "execution_count": null,
   "id": "8661471d",
   "metadata": {},
   "outputs": [],
   "source": []
  },
  {
   "cell_type": "code",
   "execution_count": null,
   "id": "1762e91c",
   "metadata": {},
   "outputs": [],
   "source": []
  },
  {
   "cell_type": "code",
   "execution_count": 2,
   "id": "e04bc1c3",
   "metadata": {},
   "outputs": [
    {
     "name": "stderr",
     "output_type": "stream",
     "text": [
      "111\t2023-11-09 20:51:07,715\tWARNING\tedx2\twwwwww\n",
      "111\t2023-11-09 20:51:07,717\tERROR\tedx2\teeeeeee\n"
     ]
    }
   ],
   "source": [
    "edx2 = logging.getLogger(\"edx2\")\n",
    "\n",
    "edx2.info(\"iiiiii\")\n",
    "edx2.warning(\"wwwwww\")\n",
    "edx2.error(\"eeeeeee\")"
   ]
  },
  {
   "cell_type": "code",
   "execution_count": 3,
   "id": "0a524108",
   "metadata": {},
   "outputs": [
    {
     "name": "stdout",
     "output_type": "stream",
     "text": [
      "222\t2023-11-09 20:51:07,717\tERROR\tedx2\teeeeeee\r\n"
     ]
    }
   ],
   "source": [
    "!cat dict_fh.log"
   ]
  },
  {
   "cell_type": "code",
   "execution_count": null,
   "id": "47e74eae",
   "metadata": {},
   "outputs": [],
   "source": []
  },
  {
   "cell_type": "code",
   "execution_count": null,
   "id": "0c4089cd",
   "metadata": {},
   "outputs": [],
   "source": []
  },
  {
   "cell_type": "code",
   "execution_count": 4,
   "id": "694bf317",
   "metadata": {},
   "outputs": [],
   "source": [
    "def add(a, b, *args):\n",
    "    x = a + b\n",
    "    global y\n",
    "    y = sum(args)\n",
    "    z = x + y\n",
    "\n",
    "    r = range(a, b)\n",
    "    z += sum(r)\n",
    "\n",
    "    return z"
   ]
  },
  {
   "cell_type": "code",
   "execution_count": 5,
   "id": "9ec7e6df",
   "metadata": {},
   "outputs": [],
   "source": [
    "import dis"
   ]
  },
  {
   "cell_type": "code",
   "execution_count": 6,
   "id": "5dbc2050",
   "metadata": {},
   "outputs": [
    {
     "name": "stdout",
     "output_type": "stream",
     "text": [
      "  2           0 LOAD_FAST                0 (a)\n",
      "              2 LOAD_FAST                1 (b)\n",
      "              4 BINARY_ADD\n",
      "              6 STORE_FAST               3 (x)\n",
      "\n",
      "  4           8 LOAD_GLOBAL              0 (sum)\n",
      "             10 LOAD_FAST                2 (args)\n",
      "             12 CALL_FUNCTION            1\n",
      "             14 STORE_GLOBAL             1 (y)\n",
      "\n",
      "  5          16 LOAD_FAST                3 (x)\n",
      "             18 LOAD_GLOBAL              1 (y)\n",
      "             20 BINARY_ADD\n",
      "             22 STORE_FAST               4 (z)\n",
      "\n",
      "  7          24 LOAD_GLOBAL              2 (range)\n",
      "             26 LOAD_FAST                0 (a)\n",
      "             28 LOAD_FAST                1 (b)\n",
      "             30 CALL_FUNCTION            2\n",
      "             32 STORE_FAST               5 (r)\n",
      "\n",
      "  8          34 LOAD_FAST                4 (z)\n",
      "             36 LOAD_GLOBAL              0 (sum)\n",
      "             38 LOAD_FAST                5 (r)\n",
      "             40 CALL_FUNCTION            1\n",
      "             42 INPLACE_ADD\n",
      "             44 STORE_FAST               4 (z)\n",
      "\n",
      " 10          46 LOAD_FAST                4 (z)\n",
      "             48 RETURN_VALUE\n"
     ]
    }
   ],
   "source": [
    "dis.dis(add)"
   ]
  },
  {
   "cell_type": "code",
   "execution_count": null,
   "id": "1361a593",
   "metadata": {},
   "outputs": [],
   "source": []
  },
  {
   "cell_type": "code",
   "execution_count": null,
   "id": "13369d34",
   "metadata": {},
   "outputs": [],
   "source": []
  },
  {
   "cell_type": "code",
   "execution_count": null,
   "id": "0ba6c435",
   "metadata": {},
   "outputs": [],
   "source": []
  },
  {
   "cell_type": "code",
   "execution_count": null,
   "id": "ace7e1b0",
   "metadata": {},
   "outputs": [],
   "source": []
  },
  {
   "cell_type": "code",
   "execution_count": null,
   "id": "6966fbb4",
   "metadata": {},
   "outputs": [],
   "source": []
  }
 ],
 "metadata": {
  "kernelspec": {
   "display_name": "Python 3 (ipykernel)",
   "language": "python",
   "name": "python3"
  },
  "language_info": {
   "codemirror_mode": {
    "name": "ipython",
    "version": 3
   },
   "file_extension": ".py",
   "mimetype": "text/x-python",
   "name": "python",
   "nbconvert_exporter": "python",
   "pygments_lexer": "ipython3",
   "version": "3.10.12"
  }
 },
 "nbformat": 4,
 "nbformat_minor": 5
}
